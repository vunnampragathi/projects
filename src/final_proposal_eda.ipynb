{
  "nbformat": 4,
  "nbformat_minor": 0,
  "metadata": {
    "colab": {
      "provenance": [],
      "include_colab_link": true
    },
    "kernelspec": {
      "name": "python3",
      "display_name": "Python 3"
    },
    "language_info": {
      "name": "python"
    }
  },
  "cells": [
    {
      "cell_type": "markdown",
      "metadata": {
        "id": "view-in-github",
        "colab_type": "text"
      },
      "source": [
        "<a href=\"https://colab.research.google.com/github/vunnampragathi/projects/blob/main/src/final_proposal_eda.ipynb\" target=\"_parent\"><img src=\"https://colab.research.google.com/assets/colab-badge.svg\" alt=\"Open In Colab\"/></a>"
      ]
    },
    {
      "cell_type": "code",
      "execution_count": 1,
      "metadata": {
        "id": "sUCGzSCtj_qL"
      },
      "outputs": [],
      "source": [
        "\n",
        "import pandas as pd\n",
        "import matplotlib.pyplot as plt\n",
        "import numpy as np"
      ]
    },
    {
      "cell_type": "code",
      "source": [
        "data = pd.read_csv(\"/content/uspollution_pollution_us_2000_2016.csv\",usecols = ['State','Date Local','NO2 AQI','NO2 Mean','O3 AQI','O3 Mean','CO AQI','CO Mean','SO2 AQI','SO2 Mean'])"
      ],
      "metadata": {
        "id": "omABX6t9kC7m"
      },
      "execution_count": 2,
      "outputs": []
    },
    {
      "cell_type": "markdown",
      "source": [
        "https://www.geeksforgeeks.org/reading-specific-columns-of-a-csv-file-using-pandas/"
      ],
      "metadata": {
        "id": "zSVx5vVuhHFD"
      }
    },
    {
      "cell_type": "code",
      "source": [
        "data"
      ],
      "metadata": {
        "id": "L9Mx-dI2Wi9q",
        "outputId": "7f20163f-c886-4734-d14f-50124cc89ff5",
        "colab": {
          "base_uri": "https://localhost:8080/",
          "height": 423
        }
      },
      "execution_count": 3,
      "outputs": [
        {
          "output_type": "execute_result",
          "data": {
            "text/plain": [
              "           State  Date Local   NO2 Mean  NO2 AQI   O3 Mean  O3 AQI  SO2 Mean  \\\n",
              "0        Arizona  2000-01-01  19.041667       46  0.022500      34  3.000000   \n",
              "1        Arizona  2000-01-01  19.041667       46  0.022500      34  3.000000   \n",
              "2        Arizona  2000-01-01  19.041667       46  0.022500      34  2.975000   \n",
              "3        Arizona  2000-01-01  19.041667       46  0.022500      34  2.975000   \n",
              "4        Arizona  2000-01-02  22.958333       34  0.013375      27  1.958333   \n",
              "...          ...         ...        ...      ...       ...     ...       ...   \n",
              "1746656  Wyoming  2016-03-30   1.083333        1  0.043917      44  0.000000   \n",
              "1746657  Wyoming  2016-03-31   0.939130        1  0.045263      44 -0.022727   \n",
              "1746658  Wyoming  2016-03-31   0.939130        1  0.045263      44 -0.022727   \n",
              "1746659  Wyoming  2016-03-31   0.939130        1  0.045263      44  0.000000   \n",
              "1746660  Wyoming  2016-03-31   0.939130        1  0.045263      44  0.000000   \n",
              "\n",
              "         SO2 AQI   CO Mean  CO AQI  \n",
              "0           13.0  1.145833     NaN  \n",
              "1           13.0  0.878947    25.0  \n",
              "2            NaN  1.145833     NaN  \n",
              "3            NaN  0.878947    25.0  \n",
              "4            4.0  0.850000     NaN  \n",
              "...          ...       ...     ...  \n",
              "1746656      NaN  0.091667     1.0  \n",
              "1746657      0.0  0.067714     NaN  \n",
              "1746658      0.0  0.100000     1.0  \n",
              "1746659      NaN  0.067714     NaN  \n",
              "1746660      NaN  0.100000     1.0  \n",
              "\n",
              "[1746661 rows x 10 columns]"
            ],
            "text/html": [
              "\n",
              "  <div id=\"df-2e06a9fc-3380-4037-84b0-b34390eabddb\">\n",
              "    <div class=\"colab-df-container\">\n",
              "      <div>\n",
              "<style scoped>\n",
              "    .dataframe tbody tr th:only-of-type {\n",
              "        vertical-align: middle;\n",
              "    }\n",
              "\n",
              "    .dataframe tbody tr th {\n",
              "        vertical-align: top;\n",
              "    }\n",
              "\n",
              "    .dataframe thead th {\n",
              "        text-align: right;\n",
              "    }\n",
              "</style>\n",
              "<table border=\"1\" class=\"dataframe\">\n",
              "  <thead>\n",
              "    <tr style=\"text-align: right;\">\n",
              "      <th></th>\n",
              "      <th>State</th>\n",
              "      <th>Date Local</th>\n",
              "      <th>NO2 Mean</th>\n",
              "      <th>NO2 AQI</th>\n",
              "      <th>O3 Mean</th>\n",
              "      <th>O3 AQI</th>\n",
              "      <th>SO2 Mean</th>\n",
              "      <th>SO2 AQI</th>\n",
              "      <th>CO Mean</th>\n",
              "      <th>CO AQI</th>\n",
              "    </tr>\n",
              "  </thead>\n",
              "  <tbody>\n",
              "    <tr>\n",
              "      <th>0</th>\n",
              "      <td>Arizona</td>\n",
              "      <td>2000-01-01</td>\n",
              "      <td>19.041667</td>\n",
              "      <td>46</td>\n",
              "      <td>0.022500</td>\n",
              "      <td>34</td>\n",
              "      <td>3.000000</td>\n",
              "      <td>13.0</td>\n",
              "      <td>1.145833</td>\n",
              "      <td>NaN</td>\n",
              "    </tr>\n",
              "    <tr>\n",
              "      <th>1</th>\n",
              "      <td>Arizona</td>\n",
              "      <td>2000-01-01</td>\n",
              "      <td>19.041667</td>\n",
              "      <td>46</td>\n",
              "      <td>0.022500</td>\n",
              "      <td>34</td>\n",
              "      <td>3.000000</td>\n",
              "      <td>13.0</td>\n",
              "      <td>0.878947</td>\n",
              "      <td>25.0</td>\n",
              "    </tr>\n",
              "    <tr>\n",
              "      <th>2</th>\n",
              "      <td>Arizona</td>\n",
              "      <td>2000-01-01</td>\n",
              "      <td>19.041667</td>\n",
              "      <td>46</td>\n",
              "      <td>0.022500</td>\n",
              "      <td>34</td>\n",
              "      <td>2.975000</td>\n",
              "      <td>NaN</td>\n",
              "      <td>1.145833</td>\n",
              "      <td>NaN</td>\n",
              "    </tr>\n",
              "    <tr>\n",
              "      <th>3</th>\n",
              "      <td>Arizona</td>\n",
              "      <td>2000-01-01</td>\n",
              "      <td>19.041667</td>\n",
              "      <td>46</td>\n",
              "      <td>0.022500</td>\n",
              "      <td>34</td>\n",
              "      <td>2.975000</td>\n",
              "      <td>NaN</td>\n",
              "      <td>0.878947</td>\n",
              "      <td>25.0</td>\n",
              "    </tr>\n",
              "    <tr>\n",
              "      <th>4</th>\n",
              "      <td>Arizona</td>\n",
              "      <td>2000-01-02</td>\n",
              "      <td>22.958333</td>\n",
              "      <td>34</td>\n",
              "      <td>0.013375</td>\n",
              "      <td>27</td>\n",
              "      <td>1.958333</td>\n",
              "      <td>4.0</td>\n",
              "      <td>0.850000</td>\n",
              "      <td>NaN</td>\n",
              "    </tr>\n",
              "    <tr>\n",
              "      <th>...</th>\n",
              "      <td>...</td>\n",
              "      <td>...</td>\n",
              "      <td>...</td>\n",
              "      <td>...</td>\n",
              "      <td>...</td>\n",
              "      <td>...</td>\n",
              "      <td>...</td>\n",
              "      <td>...</td>\n",
              "      <td>...</td>\n",
              "      <td>...</td>\n",
              "    </tr>\n",
              "    <tr>\n",
              "      <th>1746656</th>\n",
              "      <td>Wyoming</td>\n",
              "      <td>2016-03-30</td>\n",
              "      <td>1.083333</td>\n",
              "      <td>1</td>\n",
              "      <td>0.043917</td>\n",
              "      <td>44</td>\n",
              "      <td>0.000000</td>\n",
              "      <td>NaN</td>\n",
              "      <td>0.091667</td>\n",
              "      <td>1.0</td>\n",
              "    </tr>\n",
              "    <tr>\n",
              "      <th>1746657</th>\n",
              "      <td>Wyoming</td>\n",
              "      <td>2016-03-31</td>\n",
              "      <td>0.939130</td>\n",
              "      <td>1</td>\n",
              "      <td>0.045263</td>\n",
              "      <td>44</td>\n",
              "      <td>-0.022727</td>\n",
              "      <td>0.0</td>\n",
              "      <td>0.067714</td>\n",
              "      <td>NaN</td>\n",
              "    </tr>\n",
              "    <tr>\n",
              "      <th>1746658</th>\n",
              "      <td>Wyoming</td>\n",
              "      <td>2016-03-31</td>\n",
              "      <td>0.939130</td>\n",
              "      <td>1</td>\n",
              "      <td>0.045263</td>\n",
              "      <td>44</td>\n",
              "      <td>-0.022727</td>\n",
              "      <td>0.0</td>\n",
              "      <td>0.100000</td>\n",
              "      <td>1.0</td>\n",
              "    </tr>\n",
              "    <tr>\n",
              "      <th>1746659</th>\n",
              "      <td>Wyoming</td>\n",
              "      <td>2016-03-31</td>\n",
              "      <td>0.939130</td>\n",
              "      <td>1</td>\n",
              "      <td>0.045263</td>\n",
              "      <td>44</td>\n",
              "      <td>0.000000</td>\n",
              "      <td>NaN</td>\n",
              "      <td>0.067714</td>\n",
              "      <td>NaN</td>\n",
              "    </tr>\n",
              "    <tr>\n",
              "      <th>1746660</th>\n",
              "      <td>Wyoming</td>\n",
              "      <td>2016-03-31</td>\n",
              "      <td>0.939130</td>\n",
              "      <td>1</td>\n",
              "      <td>0.045263</td>\n",
              "      <td>44</td>\n",
              "      <td>0.000000</td>\n",
              "      <td>NaN</td>\n",
              "      <td>0.100000</td>\n",
              "      <td>1.0</td>\n",
              "    </tr>\n",
              "  </tbody>\n",
              "</table>\n",
              "<p>1746661 rows × 10 columns</p>\n",
              "</div>\n",
              "      <button class=\"colab-df-convert\" onclick=\"convertToInteractive('df-2e06a9fc-3380-4037-84b0-b34390eabddb')\"\n",
              "              title=\"Convert this dataframe to an interactive table.\"\n",
              "              style=\"display:none;\">\n",
              "        \n",
              "  <svg xmlns=\"http://www.w3.org/2000/svg\" height=\"24px\"viewBox=\"0 0 24 24\"\n",
              "       width=\"24px\">\n",
              "    <path d=\"M0 0h24v24H0V0z\" fill=\"none\"/>\n",
              "    <path d=\"M18.56 5.44l.94 2.06.94-2.06 2.06-.94-2.06-.94-.94-2.06-.94 2.06-2.06.94zm-11 1L8.5 8.5l.94-2.06 2.06-.94-2.06-.94L8.5 2.5l-.94 2.06-2.06.94zm10 10l.94 2.06.94-2.06 2.06-.94-2.06-.94-.94-2.06-.94 2.06-2.06.94z\"/><path d=\"M17.41 7.96l-1.37-1.37c-.4-.4-.92-.59-1.43-.59-.52 0-1.04.2-1.43.59L10.3 9.45l-7.72 7.72c-.78.78-.78 2.05 0 2.83L4 21.41c.39.39.9.59 1.41.59.51 0 1.02-.2 1.41-.59l7.78-7.78 2.81-2.81c.8-.78.8-2.07 0-2.86zM5.41 20L4 18.59l7.72-7.72 1.47 1.35L5.41 20z\"/>\n",
              "  </svg>\n",
              "      </button>\n",
              "      \n",
              "  <style>\n",
              "    .colab-df-container {\n",
              "      display:flex;\n",
              "      flex-wrap:wrap;\n",
              "      gap: 12px;\n",
              "    }\n",
              "\n",
              "    .colab-df-convert {\n",
              "      background-color: #E8F0FE;\n",
              "      border: none;\n",
              "      border-radius: 50%;\n",
              "      cursor: pointer;\n",
              "      display: none;\n",
              "      fill: #1967D2;\n",
              "      height: 32px;\n",
              "      padding: 0 0 0 0;\n",
              "      width: 32px;\n",
              "    }\n",
              "\n",
              "    .colab-df-convert:hover {\n",
              "      background-color: #E2EBFA;\n",
              "      box-shadow: 0px 1px 2px rgba(60, 64, 67, 0.3), 0px 1px 3px 1px rgba(60, 64, 67, 0.15);\n",
              "      fill: #174EA6;\n",
              "    }\n",
              "\n",
              "    [theme=dark] .colab-df-convert {\n",
              "      background-color: #3B4455;\n",
              "      fill: #D2E3FC;\n",
              "    }\n",
              "\n",
              "    [theme=dark] .colab-df-convert:hover {\n",
              "      background-color: #434B5C;\n",
              "      box-shadow: 0px 1px 3px 1px rgba(0, 0, 0, 0.15);\n",
              "      filter: drop-shadow(0px 1px 2px rgba(0, 0, 0, 0.3));\n",
              "      fill: #FFFFFF;\n",
              "    }\n",
              "  </style>\n",
              "\n",
              "      <script>\n",
              "        const buttonEl =\n",
              "          document.querySelector('#df-2e06a9fc-3380-4037-84b0-b34390eabddb button.colab-df-convert');\n",
              "        buttonEl.style.display =\n",
              "          google.colab.kernel.accessAllowed ? 'block' : 'none';\n",
              "\n",
              "        async function convertToInteractive(key) {\n",
              "          const element = document.querySelector('#df-2e06a9fc-3380-4037-84b0-b34390eabddb');\n",
              "          const dataTable =\n",
              "            await google.colab.kernel.invokeFunction('convertToInteractive',\n",
              "                                                     [key], {});\n",
              "          if (!dataTable) return;\n",
              "\n",
              "          const docLinkHtml = 'Like what you see? Visit the ' +\n",
              "            '<a target=\"_blank\" href=https://colab.research.google.com/notebooks/data_table.ipynb>data table notebook</a>'\n",
              "            + ' to learn more about interactive tables.';\n",
              "          element.innerHTML = '';\n",
              "          dataTable['output_type'] = 'display_data';\n",
              "          await google.colab.output.renderOutput(dataTable, element);\n",
              "          const docLink = document.createElement('div');\n",
              "          docLink.innerHTML = docLinkHtml;\n",
              "          element.appendChild(docLink);\n",
              "        }\n",
              "      </script>\n",
              "    </div>\n",
              "  </div>\n",
              "  "
            ]
          },
          "metadata": {},
          "execution_count": 3
        }
      ]
    },
    {
      "cell_type": "code",
      "source": [
        "\n",
        "data.shape"
      ],
      "metadata": {
        "colab": {
          "base_uri": "https://localhost:8080/"
        },
        "id": "7LB_NH6HqYtr",
        "outputId": "58b16f00-a8c8-4b84-d858-5a629ffd7c09"
      },
      "execution_count": 4,
      "outputs": [
        {
          "output_type": "execute_result",
          "data": {
            "text/plain": [
              "(1746661, 10)"
            ]
          },
          "metadata": {},
          "execution_count": 4
        }
      ]
    },
    {
      "cell_type": "code",
      "source": [
        "data.info"
      ],
      "metadata": {
        "colab": {
          "base_uri": "https://localhost:8080/"
        },
        "id": "I-poLuGbqb-U",
        "outputId": "67ef2674-ffe5-44ec-b941-13b7e10855e4"
      },
      "execution_count": 5,
      "outputs": [
        {
          "output_type": "execute_result",
          "data": {
            "text/plain": [
              "<bound method DataFrame.info of            State  Date Local   NO2 Mean  NO2 AQI   O3 Mean  O3 AQI  SO2 Mean  \\\n",
              "0        Arizona  2000-01-01  19.041667       46  0.022500      34  3.000000   \n",
              "1        Arizona  2000-01-01  19.041667       46  0.022500      34  3.000000   \n",
              "2        Arizona  2000-01-01  19.041667       46  0.022500      34  2.975000   \n",
              "3        Arizona  2000-01-01  19.041667       46  0.022500      34  2.975000   \n",
              "4        Arizona  2000-01-02  22.958333       34  0.013375      27  1.958333   \n",
              "...          ...         ...        ...      ...       ...     ...       ...   \n",
              "1746656  Wyoming  2016-03-30   1.083333        1  0.043917      44  0.000000   \n",
              "1746657  Wyoming  2016-03-31   0.939130        1  0.045263      44 -0.022727   \n",
              "1746658  Wyoming  2016-03-31   0.939130        1  0.045263      44 -0.022727   \n",
              "1746659  Wyoming  2016-03-31   0.939130        1  0.045263      44  0.000000   \n",
              "1746660  Wyoming  2016-03-31   0.939130        1  0.045263      44  0.000000   \n",
              "\n",
              "         SO2 AQI   CO Mean  CO AQI  \n",
              "0           13.0  1.145833     NaN  \n",
              "1           13.0  0.878947    25.0  \n",
              "2            NaN  1.145833     NaN  \n",
              "3            NaN  0.878947    25.0  \n",
              "4            4.0  0.850000     NaN  \n",
              "...          ...       ...     ...  \n",
              "1746656      NaN  0.091667     1.0  \n",
              "1746657      0.0  0.067714     NaN  \n",
              "1746658      0.0  0.100000     1.0  \n",
              "1746659      NaN  0.067714     NaN  \n",
              "1746660      NaN  0.100000     1.0  \n",
              "\n",
              "[1746661 rows x 10 columns]>"
            ]
          },
          "metadata": {},
          "execution_count": 5
        }
      ]
    },
    {
      "cell_type": "code",
      "source": [
        "data.dtypes"
      ],
      "metadata": {
        "colab": {
          "base_uri": "https://localhost:8080/"
        },
        "id": "F4dXH3AAqeGz",
        "outputId": "9a091ac3-dad4-479a-82e8-ee1dfde5b04c"
      },
      "execution_count": 6,
      "outputs": [
        {
          "output_type": "execute_result",
          "data": {
            "text/plain": [
              "State          object\n",
              "Date Local     object\n",
              "NO2 Mean      float64\n",
              "NO2 AQI         int64\n",
              "O3 Mean       float64\n",
              "O3 AQI          int64\n",
              "SO2 Mean      float64\n",
              "SO2 AQI       float64\n",
              "CO Mean       float64\n",
              "CO AQI        float64\n",
              "dtype: object"
            ]
          },
          "metadata": {},
          "execution_count": 6
        }
      ]
    },
    {
      "cell_type": "code",
      "source": [
        "data.isna().sum()"
      ],
      "metadata": {
        "id": "tJ3md7vHiNhI",
        "outputId": "08c7380c-487b-4343-f757-edb7199f53da",
        "colab": {
          "base_uri": "https://localhost:8080/"
        }
      },
      "execution_count": 7,
      "outputs": [
        {
          "output_type": "execute_result",
          "data": {
            "text/plain": [
              "State              0\n",
              "Date Local         0\n",
              "NO2 Mean           0\n",
              "NO2 AQI            0\n",
              "O3 Mean            0\n",
              "O3 AQI             0\n",
              "SO2 Mean           0\n",
              "SO2 AQI       872907\n",
              "CO Mean            0\n",
              "CO AQI        873323\n",
              "dtype: int64"
            ]
          },
          "metadata": {},
          "execution_count": 7
        }
      ]
    },
    {
      "cell_type": "code",
      "source": [
        "df=data.fillna(method='ffill')\n",
        "df"
      ],
      "metadata": {
        "id": "0bL4CpowjMOA",
        "outputId": "18982f0f-3474-49f9-fb79-e853c6e7e672",
        "colab": {
          "base_uri": "https://localhost:8080/",
          "height": 423
        }
      },
      "execution_count": 8,
      "outputs": [
        {
          "output_type": "execute_result",
          "data": {
            "text/plain": [
              "           State  Date Local   NO2 Mean  NO2 AQI   O3 Mean  O3 AQI  SO2 Mean  \\\n",
              "0        Arizona  2000-01-01  19.041667       46  0.022500      34  3.000000   \n",
              "1        Arizona  2000-01-01  19.041667       46  0.022500      34  3.000000   \n",
              "2        Arizona  2000-01-01  19.041667       46  0.022500      34  2.975000   \n",
              "3        Arizona  2000-01-01  19.041667       46  0.022500      34  2.975000   \n",
              "4        Arizona  2000-01-02  22.958333       34  0.013375      27  1.958333   \n",
              "...          ...         ...        ...      ...       ...     ...       ...   \n",
              "1746656  Wyoming  2016-03-30   1.083333        1  0.043917      44  0.000000   \n",
              "1746657  Wyoming  2016-03-31   0.939130        1  0.045263      44 -0.022727   \n",
              "1746658  Wyoming  2016-03-31   0.939130        1  0.045263      44 -0.022727   \n",
              "1746659  Wyoming  2016-03-31   0.939130        1  0.045263      44  0.000000   \n",
              "1746660  Wyoming  2016-03-31   0.939130        1  0.045263      44  0.000000   \n",
              "\n",
              "         SO2 AQI   CO Mean  CO AQI  \n",
              "0           13.0  1.145833     NaN  \n",
              "1           13.0  0.878947    25.0  \n",
              "2           13.0  1.145833    25.0  \n",
              "3           13.0  0.878947    25.0  \n",
              "4            4.0  0.850000    25.0  \n",
              "...          ...       ...     ...  \n",
              "1746656      0.0  0.091667     1.0  \n",
              "1746657      0.0  0.067714     1.0  \n",
              "1746658      0.0  0.100000     1.0  \n",
              "1746659      0.0  0.067714     1.0  \n",
              "1746660      0.0  0.100000     1.0  \n",
              "\n",
              "[1746661 rows x 10 columns]"
            ],
            "text/html": [
              "\n",
              "  <div id=\"df-2bab40a9-e7b3-4298-8bd7-a4460d05b0f1\">\n",
              "    <div class=\"colab-df-container\">\n",
              "      <div>\n",
              "<style scoped>\n",
              "    .dataframe tbody tr th:only-of-type {\n",
              "        vertical-align: middle;\n",
              "    }\n",
              "\n",
              "    .dataframe tbody tr th {\n",
              "        vertical-align: top;\n",
              "    }\n",
              "\n",
              "    .dataframe thead th {\n",
              "        text-align: right;\n",
              "    }\n",
              "</style>\n",
              "<table border=\"1\" class=\"dataframe\">\n",
              "  <thead>\n",
              "    <tr style=\"text-align: right;\">\n",
              "      <th></th>\n",
              "      <th>State</th>\n",
              "      <th>Date Local</th>\n",
              "      <th>NO2 Mean</th>\n",
              "      <th>NO2 AQI</th>\n",
              "      <th>O3 Mean</th>\n",
              "      <th>O3 AQI</th>\n",
              "      <th>SO2 Mean</th>\n",
              "      <th>SO2 AQI</th>\n",
              "      <th>CO Mean</th>\n",
              "      <th>CO AQI</th>\n",
              "    </tr>\n",
              "  </thead>\n",
              "  <tbody>\n",
              "    <tr>\n",
              "      <th>0</th>\n",
              "      <td>Arizona</td>\n",
              "      <td>2000-01-01</td>\n",
              "      <td>19.041667</td>\n",
              "      <td>46</td>\n",
              "      <td>0.022500</td>\n",
              "      <td>34</td>\n",
              "      <td>3.000000</td>\n",
              "      <td>13.0</td>\n",
              "      <td>1.145833</td>\n",
              "      <td>NaN</td>\n",
              "    </tr>\n",
              "    <tr>\n",
              "      <th>1</th>\n",
              "      <td>Arizona</td>\n",
              "      <td>2000-01-01</td>\n",
              "      <td>19.041667</td>\n",
              "      <td>46</td>\n",
              "      <td>0.022500</td>\n",
              "      <td>34</td>\n",
              "      <td>3.000000</td>\n",
              "      <td>13.0</td>\n",
              "      <td>0.878947</td>\n",
              "      <td>25.0</td>\n",
              "    </tr>\n",
              "    <tr>\n",
              "      <th>2</th>\n",
              "      <td>Arizona</td>\n",
              "      <td>2000-01-01</td>\n",
              "      <td>19.041667</td>\n",
              "      <td>46</td>\n",
              "      <td>0.022500</td>\n",
              "      <td>34</td>\n",
              "      <td>2.975000</td>\n",
              "      <td>13.0</td>\n",
              "      <td>1.145833</td>\n",
              "      <td>25.0</td>\n",
              "    </tr>\n",
              "    <tr>\n",
              "      <th>3</th>\n",
              "      <td>Arizona</td>\n",
              "      <td>2000-01-01</td>\n",
              "      <td>19.041667</td>\n",
              "      <td>46</td>\n",
              "      <td>0.022500</td>\n",
              "      <td>34</td>\n",
              "      <td>2.975000</td>\n",
              "      <td>13.0</td>\n",
              "      <td>0.878947</td>\n",
              "      <td>25.0</td>\n",
              "    </tr>\n",
              "    <tr>\n",
              "      <th>4</th>\n",
              "      <td>Arizona</td>\n",
              "      <td>2000-01-02</td>\n",
              "      <td>22.958333</td>\n",
              "      <td>34</td>\n",
              "      <td>0.013375</td>\n",
              "      <td>27</td>\n",
              "      <td>1.958333</td>\n",
              "      <td>4.0</td>\n",
              "      <td>0.850000</td>\n",
              "      <td>25.0</td>\n",
              "    </tr>\n",
              "    <tr>\n",
              "      <th>...</th>\n",
              "      <td>...</td>\n",
              "      <td>...</td>\n",
              "      <td>...</td>\n",
              "      <td>...</td>\n",
              "      <td>...</td>\n",
              "      <td>...</td>\n",
              "      <td>...</td>\n",
              "      <td>...</td>\n",
              "      <td>...</td>\n",
              "      <td>...</td>\n",
              "    </tr>\n",
              "    <tr>\n",
              "      <th>1746656</th>\n",
              "      <td>Wyoming</td>\n",
              "      <td>2016-03-30</td>\n",
              "      <td>1.083333</td>\n",
              "      <td>1</td>\n",
              "      <td>0.043917</td>\n",
              "      <td>44</td>\n",
              "      <td>0.000000</td>\n",
              "      <td>0.0</td>\n",
              "      <td>0.091667</td>\n",
              "      <td>1.0</td>\n",
              "    </tr>\n",
              "    <tr>\n",
              "      <th>1746657</th>\n",
              "      <td>Wyoming</td>\n",
              "      <td>2016-03-31</td>\n",
              "      <td>0.939130</td>\n",
              "      <td>1</td>\n",
              "      <td>0.045263</td>\n",
              "      <td>44</td>\n",
              "      <td>-0.022727</td>\n",
              "      <td>0.0</td>\n",
              "      <td>0.067714</td>\n",
              "      <td>1.0</td>\n",
              "    </tr>\n",
              "    <tr>\n",
              "      <th>1746658</th>\n",
              "      <td>Wyoming</td>\n",
              "      <td>2016-03-31</td>\n",
              "      <td>0.939130</td>\n",
              "      <td>1</td>\n",
              "      <td>0.045263</td>\n",
              "      <td>44</td>\n",
              "      <td>-0.022727</td>\n",
              "      <td>0.0</td>\n",
              "      <td>0.100000</td>\n",
              "      <td>1.0</td>\n",
              "    </tr>\n",
              "    <tr>\n",
              "      <th>1746659</th>\n",
              "      <td>Wyoming</td>\n",
              "      <td>2016-03-31</td>\n",
              "      <td>0.939130</td>\n",
              "      <td>1</td>\n",
              "      <td>0.045263</td>\n",
              "      <td>44</td>\n",
              "      <td>0.000000</td>\n",
              "      <td>0.0</td>\n",
              "      <td>0.067714</td>\n",
              "      <td>1.0</td>\n",
              "    </tr>\n",
              "    <tr>\n",
              "      <th>1746660</th>\n",
              "      <td>Wyoming</td>\n",
              "      <td>2016-03-31</td>\n",
              "      <td>0.939130</td>\n",
              "      <td>1</td>\n",
              "      <td>0.045263</td>\n",
              "      <td>44</td>\n",
              "      <td>0.000000</td>\n",
              "      <td>0.0</td>\n",
              "      <td>0.100000</td>\n",
              "      <td>1.0</td>\n",
              "    </tr>\n",
              "  </tbody>\n",
              "</table>\n",
              "<p>1746661 rows × 10 columns</p>\n",
              "</div>\n",
              "      <button class=\"colab-df-convert\" onclick=\"convertToInteractive('df-2bab40a9-e7b3-4298-8bd7-a4460d05b0f1')\"\n",
              "              title=\"Convert this dataframe to an interactive table.\"\n",
              "              style=\"display:none;\">\n",
              "        \n",
              "  <svg xmlns=\"http://www.w3.org/2000/svg\" height=\"24px\"viewBox=\"0 0 24 24\"\n",
              "       width=\"24px\">\n",
              "    <path d=\"M0 0h24v24H0V0z\" fill=\"none\"/>\n",
              "    <path d=\"M18.56 5.44l.94 2.06.94-2.06 2.06-.94-2.06-.94-.94-2.06-.94 2.06-2.06.94zm-11 1L8.5 8.5l.94-2.06 2.06-.94-2.06-.94L8.5 2.5l-.94 2.06-2.06.94zm10 10l.94 2.06.94-2.06 2.06-.94-2.06-.94-.94-2.06-.94 2.06-2.06.94z\"/><path d=\"M17.41 7.96l-1.37-1.37c-.4-.4-.92-.59-1.43-.59-.52 0-1.04.2-1.43.59L10.3 9.45l-7.72 7.72c-.78.78-.78 2.05 0 2.83L4 21.41c.39.39.9.59 1.41.59.51 0 1.02-.2 1.41-.59l7.78-7.78 2.81-2.81c.8-.78.8-2.07 0-2.86zM5.41 20L4 18.59l7.72-7.72 1.47 1.35L5.41 20z\"/>\n",
              "  </svg>\n",
              "      </button>\n",
              "      \n",
              "  <style>\n",
              "    .colab-df-container {\n",
              "      display:flex;\n",
              "      flex-wrap:wrap;\n",
              "      gap: 12px;\n",
              "    }\n",
              "\n",
              "    .colab-df-convert {\n",
              "      background-color: #E8F0FE;\n",
              "      border: none;\n",
              "      border-radius: 50%;\n",
              "      cursor: pointer;\n",
              "      display: none;\n",
              "      fill: #1967D2;\n",
              "      height: 32px;\n",
              "      padding: 0 0 0 0;\n",
              "      width: 32px;\n",
              "    }\n",
              "\n",
              "    .colab-df-convert:hover {\n",
              "      background-color: #E2EBFA;\n",
              "      box-shadow: 0px 1px 2px rgba(60, 64, 67, 0.3), 0px 1px 3px 1px rgba(60, 64, 67, 0.15);\n",
              "      fill: #174EA6;\n",
              "    }\n",
              "\n",
              "    [theme=dark] .colab-df-convert {\n",
              "      background-color: #3B4455;\n",
              "      fill: #D2E3FC;\n",
              "    }\n",
              "\n",
              "    [theme=dark] .colab-df-convert:hover {\n",
              "      background-color: #434B5C;\n",
              "      box-shadow: 0px 1px 3px 1px rgba(0, 0, 0, 0.15);\n",
              "      filter: drop-shadow(0px 1px 2px rgba(0, 0, 0, 0.3));\n",
              "      fill: #FFFFFF;\n",
              "    }\n",
              "  </style>\n",
              "\n",
              "      <script>\n",
              "        const buttonEl =\n",
              "          document.querySelector('#df-2bab40a9-e7b3-4298-8bd7-a4460d05b0f1 button.colab-df-convert');\n",
              "        buttonEl.style.display =\n",
              "          google.colab.kernel.accessAllowed ? 'block' : 'none';\n",
              "\n",
              "        async function convertToInteractive(key) {\n",
              "          const element = document.querySelector('#df-2bab40a9-e7b3-4298-8bd7-a4460d05b0f1');\n",
              "          const dataTable =\n",
              "            await google.colab.kernel.invokeFunction('convertToInteractive',\n",
              "                                                     [key], {});\n",
              "          if (!dataTable) return;\n",
              "\n",
              "          const docLinkHtml = 'Like what you see? Visit the ' +\n",
              "            '<a target=\"_blank\" href=https://colab.research.google.com/notebooks/data_table.ipynb>data table notebook</a>'\n",
              "            + ' to learn more about interactive tables.';\n",
              "          element.innerHTML = '';\n",
              "          dataTable['output_type'] = 'display_data';\n",
              "          await google.colab.output.renderOutput(dataTable, element);\n",
              "          const docLink = document.createElement('div');\n",
              "          docLink.innerHTML = docLinkHtml;\n",
              "          element.appendChild(docLink);\n",
              "        }\n",
              "      </script>\n",
              "    </div>\n",
              "  </div>\n",
              "  "
            ]
          },
          "metadata": {},
          "execution_count": 8
        }
      ]
    },
    {
      "cell_type": "code",
      "source": [
        "df.isna().sum()"
      ],
      "metadata": {
        "id": "69kvwgVMjk0s",
        "outputId": "bd25d0bd-0087-4eb9-d4c0-59cee2b0c395",
        "colab": {
          "base_uri": "https://localhost:8080/"
        }
      },
      "execution_count": 9,
      "outputs": [
        {
          "output_type": "execute_result",
          "data": {
            "text/plain": [
              "State         0\n",
              "Date Local    0\n",
              "NO2 Mean      0\n",
              "NO2 AQI       0\n",
              "O3 Mean       0\n",
              "O3 AQI        0\n",
              "SO2 Mean      0\n",
              "SO2 AQI       0\n",
              "CO Mean       0\n",
              "CO AQI        1\n",
              "dtype: int64"
            ]
          },
          "metadata": {},
          "execution_count": 9
        }
      ]
    },
    {
      "cell_type": "code",
      "source": [
        "df=df.fillna(method='bfill')"
      ],
      "metadata": {
        "id": "ZZKj_KjRj1MD"
      },
      "execution_count": 10,
      "outputs": []
    },
    {
      "cell_type": "code",
      "source": [
        "df.isna().sum()"
      ],
      "metadata": {
        "id": "p34k7uudj77n",
        "outputId": "bc5803c5-9c11-4f75-a883-acf5cda7b549",
        "colab": {
          "base_uri": "https://localhost:8080/"
        }
      },
      "execution_count": 11,
      "outputs": [
        {
          "output_type": "execute_result",
          "data": {
            "text/plain": [
              "State         0\n",
              "Date Local    0\n",
              "NO2 Mean      0\n",
              "NO2 AQI       0\n",
              "O3 Mean       0\n",
              "O3 AQI        0\n",
              "SO2 Mean      0\n",
              "SO2 AQI       0\n",
              "CO Mean       0\n",
              "CO AQI        0\n",
              "dtype: int64"
            ]
          },
          "metadata": {},
          "execution_count": 11
        }
      ]
    },
    {
      "cell_type": "code",
      "source": [
        "df.shape"
      ],
      "metadata": {
        "colab": {
          "base_uri": "https://localhost:8080/"
        },
        "id": "gPpvcC9VqmNt",
        "outputId": "49187970-6564-4bec-8279-d22ed32f91d4"
      },
      "execution_count": 12,
      "outputs": [
        {
          "output_type": "execute_result",
          "data": {
            "text/plain": [
              "(1746661, 10)"
            ]
          },
          "metadata": {},
          "execution_count": 12
        }
      ]
    },
    {
      "cell_type": "code",
      "source": [
        "df1=df.groupby(df['State'])['NO2 AQI'].sum()\n",
        "df1\n",
        "df1.plot(kind='bar')"
      ],
      "metadata": {
        "id": "Z8qP9HDonZNl",
        "outputId": "4d5e3341-fa08-4d0e-d2c8-705cb61b4fd8",
        "colab": {
          "base_uri": "https://localhost:8080/",
          "height": 398
        }
      },
      "execution_count": 13,
      "outputs": [
        {
          "output_type": "execute_result",
          "data": {
            "text/plain": [
              "<AxesSubplot:xlabel='State'>"
            ]
          },
          "metadata": {},
          "execution_count": 13
        },
        {
          "output_type": "display_data",
          "data": {
            "text/plain": [
              "<Figure size 432x288 with 1 Axes>"
            ],
            "image/png": "[encoded data removed]"
          },
          "metadata": {
            "needs_background": "light"
          }
        }
      ]
    },
    {
      "cell_type": "code",
      "source": [
        "df2=df.groupby(df['State'])['O3 AQI'].sum()\n",
        "df2\n",
        "df2.plot(kind='bar')"
      ],
      "metadata": {
        "id": "27R0n6Jl3Jj5",
        "outputId": "a8e8089f-3a9e-4b11-c6b1-c747c6228051",
        "colab": {
          "base_uri": "https://localhost:8080/",
          "height": 398
        }
      },
      "execution_count": 14,
      "outputs": [
        {
          "output_type": "execute_result",
          "data": {
            "text/plain": [
              "<AxesSubplot:xlabel='State'>"
            ]
          },
          "metadata": {},
          "execution_count": 14
        },
        {
          "output_type": "display_data",
          "data": {
            "text/plain": [
              "<Figure size 432x288 with 1 Axes>"
            ],
            "image/png": "[encoded data removed]"
          },
          "metadata": {
            "needs_background": "light"
          }
        }
      ]
    },
    {
      "cell_type": "code",
      "source": [
        "df3=df.groupby(df['State'])['SO2 AQI'].sum()\n",
        "df3\n",
        "df3.plot(kind='bar')"
      ],
      "metadata": {
        "id": "zo-kPUWu4rAR",
        "outputId": "d80fa143-925e-4ffa-ffa7-61f79a03d75a",
        "colab": {
          "base_uri": "https://localhost:8080/",
          "height": 398
        }
      },
      "execution_count": 15,
      "outputs": [
        {
          "output_type": "execute_result",
          "data": {
            "text/plain": [
              "<AxesSubplot:xlabel='State'>"
            ]
          },
          "metadata": {},
          "execution_count": 15
        },
        {
          "output_type": "display_data",
          "data": {
            "text/plain": [
              "<Figure size 432x288 with 1 Axes>"
            ],
            "image/png": "[encoded data removed]"
          },
          "metadata": {
            "needs_background": "light"
          }
        }
      ]
    },
    {
      "cell_type": "code",
      "source": [
        "df4=df.groupby(df['State'])['CO AQI'].sum()\n",
        "df4\n",
        "df4.plot(kind='bar')"
      ],
      "metadata": {
        "id": "5_5Jbg9x4wMi",
        "outputId": "84597069-3398-43d5-c2a2-df37d53a9e9a",
        "colab": {
          "base_uri": "https://localhost:8080/",
          "height": 398
        }
      },
      "execution_count": 16,
      "outputs": [
        {
          "output_type": "execute_result",
          "data": {
            "text/plain": [
              "<AxesSubplot:xlabel='State'>"
            ]
          },
          "metadata": {},
          "execution_count": 16
        },
        {
          "output_type": "display_data",
          "data": {
            "text/plain": [
              "<Figure size 432x288 with 1 Axes>"
            ],
            "image/png": "[encoded data removed]"
          },
          "metadata": {
            "needs_background": "light"
          }
        }
      ]
    },
    {
      "cell_type": "markdown",
      "source": [
        "https://www.statology.org/pandas-groupby-bar-plot/"
      ],
      "metadata": {
        "id": "VHD-qa3k4558"
      }
    },
    {
      "cell_type": "code",
      "source": [
        "df1 = pd.DataFrame(df)"
      ],
      "metadata": {
        "id": "iGMfxxxibL1E"
      },
      "execution_count": 20,
      "outputs": []
    },
    {
      "cell_type": "code",
      "source": [
        "df1.State.unique()"
      ],
      "metadata": {
        "id": "9vJ9E4L8b2eT",
        "outputId": "cfcb7e17-d22a-45b9-c71c-d4a63b8170ca",
        "colab": {
          "base_uri": "https://localhost:8080/"
        }
      },
      "execution_count": 21,
      "outputs": [
        {
          "output_type": "execute_result",
          "data": {
            "text/plain": [
              "array(['Arizona', 'California', 'Colorado', 'District Of Columbia',\n",
              "       'Florida', 'Illinois', 'Indiana', 'Kansas', 'Kentucky',\n",
              "       'Louisiana', 'Michigan', 'Missouri', 'New Jersey', 'New York',\n",
              "       'North Carolina', 'Oklahoma', 'Pennsylvania', 'Texas', 'Virginia',\n",
              "       'Massachusetts', 'Nevada', 'New Hampshire', 'Tennessee',\n",
              "       'South Carolina', 'Connecticut', 'Iowa', 'Maine', 'Maryland',\n",
              "       'Wisconsin', 'Country Of Mexico', 'Arkansas', 'Oregon', 'Wyoming',\n",
              "       'North Dakota', 'Idaho', 'Ohio', 'Georgia', 'Delaware', 'Hawaii',\n",
              "       'Minnesota', 'New Mexico', 'Rhode Island', 'South Dakota', 'Utah',\n",
              "       'Alabama', 'Washington', 'Alaska'], dtype=object)"
            ]
          },
          "metadata": {},
          "execution_count": 21
        }
      ]
    },
    {
      "cell_type": "code",
      "source": [
        "VALUE_COLS = ['NO2 AQI', 'O3 AQI', 'SO2 AQI', 'CO AQI']\n",
        "def plot_for_state(State):\n",
        "    fig, ax = plt.subplots(2,2, figsize=(20,12))\n",
        "    fig.suptitle(State, size=20)\n",
        "    State = df1[df1.State == State]\n",
        "    State = State.reset_index().set_index('Date Local')[VALUE_COLS].resample('Y').mean()\n",
        "    State.df1[\"SO2 AQI\"].plot(legend=True, ax=ax[0][0], title=\"so2\")\n",
        "    ax[0][0].set_ylabel(\"so2 \")\n",
        "    ax[0][0].set_xlabel(\"Year\")\n",
        "    \n",
        "    State.df1[\"NO2 AQI\"].plot(legend=True, ax=ax[0][1], title=\"no2\")\n",
        "    ax[0][1].set_ylabel(\"no2 \")\n",
        "    ax[0][1].set_xlabel(\"Year\")\n",
        "    \n",
        "    State.df1[\"O3 AQI\"].plot(legend=True, ax=ax[1][0], title=\"o3\")\n",
        "    ax[1][0].set_ylabel(\"O3 AQI\")\n",
        "    ax[1][0].set_xlabel(\"Year\")\n",
        "    \n",
        "    State.df1[\"CO AQI\"].plot(legend=True, ax=ax[1][1], title=\"CO AQI\")\n",
        "    ax[1][1].set_ylabel(\"CO AQI\")\n",
        "    ax[1][1].set_xlabel(\"Year\")"
      ],
      "metadata": {
        "id": "zozDUzZ0b7zv"
      },
      "execution_count": 30,
      "outputs": []
    },
    {
      "cell_type": "code",
      "source": [
        "plot_for_state(\"Arizona\")"
      ],
      "metadata": {
        "id": "tl-FvShWFio_",
        "outputId": "aa89c44f-55e0-4946-e03d-f89c79fa042a",
        "colab": {
          "base_uri": "https://localhost:8080/",
          "height": 881
        }
      },
      "execution_count": 31,
      "outputs": [
        {
          "output_type": "error",
          "ename": "TypeError",
          "evalue": "ignored",
          "traceback": [
            "\u001b[0;31m---------------------------------------------------------------------------\u001b[0m",
            "\u001b[0;31mTypeError\u001b[0m                                 Traceback (most recent call last)",
            "\u001b[0;32m<ipython-input-31-ae4250a0990e>\u001b[0m in \u001b[0;36m<module>\u001b[0;34m\u001b[0m\n\u001b[0;32m----> 1\u001b[0;31m \u001b[0mplot_for_state\u001b[0m\u001b[0;34m(\u001b[0m\u001b[0;34m\"Arizona\"\u001b[0m\u001b[0;34m)\u001b[0m\u001b[0;34m\u001b[0m\u001b[0;34m\u001b[0m\u001b[0m\n\u001b[0m",
            "\u001b[0;32m<ipython-input-30-d63bdbb71b5c>\u001b[0m in \u001b[0;36mplot_for_state\u001b[0;34m(State)\u001b[0m\n\u001b[1;32m      4\u001b[0m     \u001b[0mfig\u001b[0m\u001b[0;34m.\u001b[0m\u001b[0msuptitle\u001b[0m\u001b[0;34m(\u001b[0m\u001b[0mState\u001b[0m\u001b[0;34m,\u001b[0m \u001b[0msize\u001b[0m\u001b[0;34m=\u001b[0m\u001b[0;36m20\u001b[0m\u001b[0;34m)\u001b[0m\u001b[0;34m\u001b[0m\u001b[0;34m\u001b[0m\u001b[0m\n\u001b[1;32m      5\u001b[0m     \u001b[0mState\u001b[0m \u001b[0;34m=\u001b[0m \u001b[0mdf1\u001b[0m\u001b[0;34m[\u001b[0m\u001b[0mdf1\u001b[0m\u001b[0;34m.\u001b[0m\u001b[0mState\u001b[0m \u001b[0;34m==\u001b[0m \u001b[0mState\u001b[0m\u001b[0;34m]\u001b[0m\u001b[0;34m\u001b[0m\u001b[0;34m\u001b[0m\u001b[0m\n\u001b[0;32m----> 6\u001b[0;31m     \u001b[0mState\u001b[0m \u001b[0;34m=\u001b[0m \u001b[0mState\u001b[0m\u001b[0;34m.\u001b[0m\u001b[0mreset_index\u001b[0m\u001b[0;34m(\u001b[0m\u001b[0;34m)\u001b[0m\u001b[0;34m.\u001b[0m\u001b[0mset_index\u001b[0m\u001b[0;34m(\u001b[0m\u001b[0;34m'Date Local'\u001b[0m\u001b[0;34m)\u001b[0m\u001b[0;34m[\u001b[0m\u001b[0mVALUE_COLS\u001b[0m\u001b[0;34m]\u001b[0m\u001b[0;34m.\u001b[0m\u001b[0mresample\u001b[0m\u001b[0;34m(\u001b[0m\u001b[0;34m'Y'\u001b[0m\u001b[0;34m)\u001b[0m\u001b[0;34m.\u001b[0m\u001b[0mmean\u001b[0m\u001b[0;34m(\u001b[0m\u001b[0;34m)\u001b[0m\u001b[0;34m\u001b[0m\u001b[0;34m\u001b[0m\u001b[0m\n\u001b[0m\u001b[1;32m      7\u001b[0m     \u001b[0mState\u001b[0m\u001b[0;34m.\u001b[0m\u001b[0mdf1\u001b[0m\u001b[0;34m[\u001b[0m\u001b[0;34m\"SO2 AQI\"\u001b[0m\u001b[0;34m]\u001b[0m\u001b[0;34m.\u001b[0m\u001b[0mplot\u001b[0m\u001b[0;34m(\u001b[0m\u001b[0mlegend\u001b[0m\u001b[0;34m=\u001b[0m\u001b[0;32mTrue\u001b[0m\u001b[0;34m,\u001b[0m \u001b[0max\u001b[0m\u001b[0;34m=\u001b[0m\u001b[0max\u001b[0m\u001b[0;34m[\u001b[0m\u001b[0;36m0\u001b[0m\u001b[0;34m]\u001b[0m\u001b[0;34m[\u001b[0m\u001b[0;36m0\u001b[0m\u001b[0;34m]\u001b[0m\u001b[0;34m,\u001b[0m \u001b[0mtitle\u001b[0m\u001b[0;34m=\u001b[0m\u001b[0;34m\"so2\"\u001b[0m\u001b[0;34m)\u001b[0m\u001b[0;34m\u001b[0m\u001b[0;34m\u001b[0m\u001b[0m\n\u001b[1;32m      8\u001b[0m     \u001b[0max\u001b[0m\u001b[0;34m[\u001b[0m\u001b[0;36m0\u001b[0m\u001b[0;34m]\u001b[0m\u001b[0;34m[\u001b[0m\u001b[0;36m0\u001b[0m\u001b[0;34m]\u001b[0m\u001b[0;34m.\u001b[0m\u001b[0mset_ylabel\u001b[0m\u001b[0;34m(\u001b[0m\u001b[0;34m\"so2 \"\u001b[0m\u001b[0;34m)\u001b[0m\u001b[0;34m\u001b[0m\u001b[0;34m\u001b[0m\u001b[0m\n",
            "\u001b[0;32m/usr/local/lib/python3.8/dist-packages/pandas/core/frame.py\u001b[0m in \u001b[0;36mresample\u001b[0;34m(self, rule, axis, closed, label, convention, kind, loffset, base, on, level, origin, offset)\u001b[0m\n\u001b[1;32m  10348\u001b[0m         \u001b[0moffset\u001b[0m\u001b[0;34m:\u001b[0m \u001b[0mTimedeltaConvertibleTypes\u001b[0m \u001b[0;34m|\u001b[0m \u001b[0;32mNone\u001b[0m \u001b[0;34m=\u001b[0m \u001b[0;32mNone\u001b[0m\u001b[0;34m,\u001b[0m\u001b[0;34m\u001b[0m\u001b[0;34m\u001b[0m\u001b[0m\n\u001b[1;32m  10349\u001b[0m     ) -> Resampler:\n\u001b[0;32m> 10350\u001b[0;31m         return super().resample(\n\u001b[0m\u001b[1;32m  10351\u001b[0m             \u001b[0mrule\u001b[0m\u001b[0;34m=\u001b[0m\u001b[0mrule\u001b[0m\u001b[0;34m,\u001b[0m\u001b[0;34m\u001b[0m\u001b[0;34m\u001b[0m\u001b[0m\n\u001b[1;32m  10352\u001b[0m             \u001b[0maxis\u001b[0m\u001b[0;34m=\u001b[0m\u001b[0maxis\u001b[0m\u001b[0;34m,\u001b[0m\u001b[0;34m\u001b[0m\u001b[0;34m\u001b[0m\u001b[0m\n",
            "\u001b[0;32m/usr/local/lib/python3.8/dist-packages/pandas/core/generic.py\u001b[0m in \u001b[0;36mresample\u001b[0;34m(self, rule, axis, closed, label, convention, kind, loffset, base, on, level, origin, offset)\u001b[0m\n\u001b[1;32m   8124\u001b[0m \u001b[0;34m\u001b[0m\u001b[0m\n\u001b[1;32m   8125\u001b[0m         \u001b[0maxis\u001b[0m \u001b[0;34m=\u001b[0m \u001b[0mself\u001b[0m\u001b[0;34m.\u001b[0m\u001b[0m_get_axis_number\u001b[0m\u001b[0;34m(\u001b[0m\u001b[0maxis\u001b[0m\u001b[0;34m)\u001b[0m\u001b[0;34m\u001b[0m\u001b[0;34m\u001b[0m\u001b[0m\n\u001b[0;32m-> 8126\u001b[0;31m         return get_resampler(\n\u001b[0m\u001b[1;32m   8127\u001b[0m             \u001b[0mself\u001b[0m\u001b[0;34m,\u001b[0m\u001b[0;34m\u001b[0m\u001b[0;34m\u001b[0m\u001b[0m\n\u001b[1;32m   8128\u001b[0m             \u001b[0mfreq\u001b[0m\u001b[0;34m=\u001b[0m\u001b[0mrule\u001b[0m\u001b[0;34m,\u001b[0m\u001b[0;34m\u001b[0m\u001b[0;34m\u001b[0m\u001b[0m\n",
            "\u001b[0;32m/usr/local/lib/python3.8/dist-packages/pandas/core/resample.py\u001b[0m in \u001b[0;36mget_resampler\u001b[0;34m(obj, kind, **kwds)\u001b[0m\n\u001b[1;32m   1380\u001b[0m     \"\"\"\n\u001b[1;32m   1381\u001b[0m     \u001b[0mtg\u001b[0m \u001b[0;34m=\u001b[0m \u001b[0mTimeGrouper\u001b[0m\u001b[0;34m(\u001b[0m\u001b[0;34m**\u001b[0m\u001b[0mkwds\u001b[0m\u001b[0;34m)\u001b[0m\u001b[0;34m\u001b[0m\u001b[0;34m\u001b[0m\u001b[0m\n\u001b[0;32m-> 1382\u001b[0;31m     \u001b[0;32mreturn\u001b[0m \u001b[0mtg\u001b[0m\u001b[0;34m.\u001b[0m\u001b[0m_get_resampler\u001b[0m\u001b[0;34m(\u001b[0m\u001b[0mobj\u001b[0m\u001b[0;34m,\u001b[0m \u001b[0mkind\u001b[0m\u001b[0;34m=\u001b[0m\u001b[0mkind\u001b[0m\u001b[0;34m)\u001b[0m\u001b[0;34m\u001b[0m\u001b[0;34m\u001b[0m\u001b[0m\n\u001b[0m\u001b[1;32m   1383\u001b[0m \u001b[0;34m\u001b[0m\u001b[0m\n\u001b[1;32m   1384\u001b[0m \u001b[0;34m\u001b[0m\u001b[0m\n",
            "\u001b[0;32m/usr/local/lib/python3.8/dist-packages/pandas/core/resample.py\u001b[0m in \u001b[0;36m_get_resampler\u001b[0;34m(self, obj, kind)\u001b[0m\n\u001b[1;32m   1556\u001b[0m             \u001b[0;32mreturn\u001b[0m \u001b[0mTimedeltaIndexResampler\u001b[0m\u001b[0;34m(\u001b[0m\u001b[0mobj\u001b[0m\u001b[0;34m,\u001b[0m \u001b[0mgroupby\u001b[0m\u001b[0;34m=\u001b[0m\u001b[0mself\u001b[0m\u001b[0;34m,\u001b[0m \u001b[0maxis\u001b[0m\u001b[0;34m=\u001b[0m\u001b[0mself\u001b[0m\u001b[0;34m.\u001b[0m\u001b[0maxis\u001b[0m\u001b[0;34m)\u001b[0m\u001b[0;34m\u001b[0m\u001b[0;34m\u001b[0m\u001b[0m\n\u001b[1;32m   1557\u001b[0m \u001b[0;34m\u001b[0m\u001b[0m\n\u001b[0;32m-> 1558\u001b[0;31m         raise TypeError(\n\u001b[0m\u001b[1;32m   1559\u001b[0m             \u001b[0;34m\"Only valid with DatetimeIndex, \"\u001b[0m\u001b[0;34m\u001b[0m\u001b[0;34m\u001b[0m\u001b[0m\n\u001b[1;32m   1560\u001b[0m             \u001b[0;34m\"TimedeltaIndex or PeriodIndex, \"\u001b[0m\u001b[0;34m\u001b[0m\u001b[0;34m\u001b[0m\u001b[0m\n",
            "\u001b[0;31mTypeError\u001b[0m: Only valid with DatetimeIndex, TimedeltaIndex or PeriodIndex, but got an instance of 'Index'"
          ]
        },
        {
          "output_type": "display_data",
          "data": {
            "text/plain": [
              "<Figure size 1440x864 with 4 Axes>"
            ],
            "image/png": "[encoded data removed]"
          },
          "metadata": {
            "needs_background": "light"
          }
        }
      ]
    },
    {
      "cell_type": "code",
      "source": [
        "df2=df1.loc[df['State'] == \"California\"]"
      ],
      "metadata": {
        "id": "vcq-h7ocFqNy"
      },
      "execution_count": 33,
      "outputs": []
    },
    {
      "cell_type": "code",
      "source": [
        "df2"
      ],
      "metadata": {
        "id": "0rQgwQ3_JcTJ",
        "outputId": "e487c86e-0fec-4162-b1a3-00a9276af451",
        "colab": {
          "base_uri": "https://localhost:8080/",
          "height": 423
        }
      },
      "execution_count": 34,
      "outputs": [
        {
          "output_type": "execute_result",
          "data": {
            "text/plain": [
              "              State  Date Local   NO2 Mean  NO2 AQI   O3 Mean  O3 AQI  \\\n",
              "3516     California  2000-01-01  14.782609       25  0.015542      25   \n",
              "3517     California  2000-01-01  14.782609       25  0.015542      25   \n",
              "3518     California  2000-01-01  14.782609       25  0.015542      25   \n",
              "3519     California  2000-01-01  14.782609       25  0.015542      25   \n",
              "3520     California  2000-01-02  16.043478       28  0.015292      27   \n",
              "...             ...         ...        ...      ...       ...     ...   \n",
              "1729192  California  2016-04-29   3.643478        8  0.032417      35   \n",
              "1729193  California  2016-04-30   4.160870       12  0.038053      38   \n",
              "1729194  California  2016-04-30   4.160870       12  0.038053      38   \n",
              "1729195  California  2016-04-30   4.160870       12  0.038053      38   \n",
              "1729196  California  2016-04-30   4.160870       12  0.038053      38   \n",
              "\n",
              "         SO2 Mean  SO2 AQI   CO Mean  CO AQI  \n",
              "3516     0.636364      3.0  0.556522    22.0  \n",
              "3517     0.636364      3.0  0.572222     9.0  \n",
              "3518     0.600000      3.0  0.556522     9.0  \n",
              "3519     0.600000      3.0  0.572222     9.0  \n",
              "3520     1.000000      3.0  0.578261     9.0  \n",
              "...           ...      ...       ...     ...  \n",
              "1729192  0.457143      0.0  0.262500     3.0  \n",
              "1729193  0.468182      0.0  0.247826     3.0  \n",
              "1729194  0.468182      0.0  0.245833     3.0  \n",
              "1729195  0.442857      0.0  0.247826     3.0  \n",
              "1729196  0.442857      0.0  0.245833     3.0  \n",
              "\n",
              "[576142 rows x 10 columns]"
            ],
            "text/html": [
              "\n",
              "  <div id=\"df-d6848dd2-7c0c-4dbb-a4b2-e68f8159ce81\">\n",
              "    <div class=\"colab-df-container\">\n",
              "      <div>\n",
              "<style scoped>\n",
              "    .dataframe tbody tr th:only-of-type {\n",
              "        vertical-align: middle;\n",
              "    }\n",
              "\n",
              "    .dataframe tbody tr th {\n",
              "        vertical-align: top;\n",
              "    }\n",
              "\n",
              "    .dataframe thead th {\n",
              "        text-align: right;\n",
              "    }\n",
              "</style>\n",
              "<table border=\"1\" class=\"dataframe\">\n",
              "  <thead>\n",
              "    <tr style=\"text-align: right;\">\n",
              "      <th></th>\n",
              "      <th>State</th>\n",
              "      <th>Date Local</th>\n",
              "      <th>NO2 Mean</th>\n",
              "      <th>NO2 AQI</th>\n",
              "      <th>O3 Mean</th>\n",
              "      <th>O3 AQI</th>\n",
              "      <th>SO2 Mean</th>\n",
              "      <th>SO2 AQI</th>\n",
              "      <th>CO Mean</th>\n",
              "      <th>CO AQI</th>\n",
              "    </tr>\n",
              "  </thead>\n",
              "  <tbody>\n",
              "    <tr>\n",
              "      <th>3516</th>\n",
              "      <td>California</td>\n",
              "      <td>2000-01-01</td>\n",
              "      <td>14.782609</td>\n",
              "      <td>25</td>\n",
              "      <td>0.015542</td>\n",
              "      <td>25</td>\n",
              "      <td>0.636364</td>\n",
              "      <td>3.0</td>\n",
              "      <td>0.556522</td>\n",
              "      <td>22.0</td>\n",
              "    </tr>\n",
              "    <tr>\n",
              "      <th>3517</th>\n",
              "      <td>California</td>\n",
              "      <td>2000-01-01</td>\n",
              "      <td>14.782609</td>\n",
              "      <td>25</td>\n",
              "      <td>0.015542</td>\n",
              "      <td>25</td>\n",
              "      <td>0.636364</td>\n",
              "      <td>3.0</td>\n",
              "      <td>0.572222</td>\n",
              "      <td>9.0</td>\n",
              "    </tr>\n",
              "    <tr>\n",
              "      <th>3518</th>\n",
              "      <td>California</td>\n",
              "      <td>2000-01-01</td>\n",
              "      <td>14.782609</td>\n",
              "      <td>25</td>\n",
              "      <td>0.015542</td>\n",
              "      <td>25</td>\n",
              "      <td>0.600000</td>\n",
              "      <td>3.0</td>\n",
              "      <td>0.556522</td>\n",
              "      <td>9.0</td>\n",
              "    </tr>\n",
              "    <tr>\n",
              "      <th>3519</th>\n",
              "      <td>California</td>\n",
              "      <td>2000-01-01</td>\n",
              "      <td>14.782609</td>\n",
              "      <td>25</td>\n",
              "      <td>0.015542</td>\n",
              "      <td>25</td>\n",
              "      <td>0.600000</td>\n",
              "      <td>3.0</td>\n",
              "      <td>0.572222</td>\n",
              "      <td>9.0</td>\n",
              "    </tr>\n",
              "    <tr>\n",
              "      <th>3520</th>\n",
              "      <td>California</td>\n",
              "      <td>2000-01-02</td>\n",
              "      <td>16.043478</td>\n",
              "      <td>28</td>\n",
              "      <td>0.015292</td>\n",
              "      <td>27</td>\n",
              "      <td>1.000000</td>\n",
              "      <td>3.0</td>\n",
              "      <td>0.578261</td>\n",
              "      <td>9.0</td>\n",
              "    </tr>\n",
              "    <tr>\n",
              "      <th>...</th>\n",
              "      <td>...</td>\n",
              "      <td>...</td>\n",
              "      <td>...</td>\n",
              "      <td>...</td>\n",
              "      <td>...</td>\n",
              "      <td>...</td>\n",
              "      <td>...</td>\n",
              "      <td>...</td>\n",
              "      <td>...</td>\n",
              "      <td>...</td>\n",
              "    </tr>\n",
              "    <tr>\n",
              "      <th>1729192</th>\n",
              "      <td>California</td>\n",
              "      <td>2016-04-29</td>\n",
              "      <td>3.643478</td>\n",
              "      <td>8</td>\n",
              "      <td>0.032417</td>\n",
              "      <td>35</td>\n",
              "      <td>0.457143</td>\n",
              "      <td>0.0</td>\n",
              "      <td>0.262500</td>\n",
              "      <td>3.0</td>\n",
              "    </tr>\n",
              "    <tr>\n",
              "      <th>1729193</th>\n",
              "      <td>California</td>\n",
              "      <td>2016-04-30</td>\n",
              "      <td>4.160870</td>\n",
              "      <td>12</td>\n",
              "      <td>0.038053</td>\n",
              "      <td>38</td>\n",
              "      <td>0.468182</td>\n",
              "      <td>0.0</td>\n",
              "      <td>0.247826</td>\n",
              "      <td>3.0</td>\n",
              "    </tr>\n",
              "    <tr>\n",
              "      <th>1729194</th>\n",
              "      <td>California</td>\n",
              "      <td>2016-04-30</td>\n",
              "      <td>4.160870</td>\n",
              "      <td>12</td>\n",
              "      <td>0.038053</td>\n",
              "      <td>38</td>\n",
              "      <td>0.468182</td>\n",
              "      <td>0.0</td>\n",
              "      <td>0.245833</td>\n",
              "      <td>3.0</td>\n",
              "    </tr>\n",
              "    <tr>\n",
              "      <th>1729195</th>\n",
              "      <td>California</td>\n",
              "      <td>2016-04-30</td>\n",
              "      <td>4.160870</td>\n",
              "      <td>12</td>\n",
              "      <td>0.038053</td>\n",
              "      <td>38</td>\n",
              "      <td>0.442857</td>\n",
              "      <td>0.0</td>\n",
              "      <td>0.247826</td>\n",
              "      <td>3.0</td>\n",
              "    </tr>\n",
              "    <tr>\n",
              "      <th>1729196</th>\n",
              "      <td>California</td>\n",
              "      <td>2016-04-30</td>\n",
              "      <td>4.160870</td>\n",
              "      <td>12</td>\n",
              "      <td>0.038053</td>\n",
              "      <td>38</td>\n",
              "      <td>0.442857</td>\n",
              "      <td>0.0</td>\n",
              "      <td>0.245833</td>\n",
              "      <td>3.0</td>\n",
              "    </tr>\n",
              "  </tbody>\n",
              "</table>\n",
              "<p>576142 rows × 10 columns</p>\n",
              "</div>\n",
              "      <button class=\"colab-df-convert\" onclick=\"convertToInteractive('df-d6848dd2-7c0c-4dbb-a4b2-e68f8159ce81')\"\n",
              "              title=\"Convert this dataframe to an interactive table.\"\n",
              "              style=\"display:none;\">\n",
              "        \n",
              "  <svg xmlns=\"http://www.w3.org/2000/svg\" height=\"24px\"viewBox=\"0 0 24 24\"\n",
              "       width=\"24px\">\n",
              "    <path d=\"M0 0h24v24H0V0z\" fill=\"none\"/>\n",
              "    <path d=\"M18.56 5.44l.94 2.06.94-2.06 2.06-.94-2.06-.94-.94-2.06-.94 2.06-2.06.94zm-11 1L8.5 8.5l.94-2.06 2.06-.94-2.06-.94L8.5 2.5l-.94 2.06-2.06.94zm10 10l.94 2.06.94-2.06 2.06-.94-2.06-.94-.94-2.06-.94 2.06-2.06.94z\"/><path d=\"M17.41 7.96l-1.37-1.37c-.4-.4-.92-.59-1.43-.59-.52 0-1.04.2-1.43.59L10.3 9.45l-7.72 7.72c-.78.78-.78 2.05 0 2.83L4 21.41c.39.39.9.59 1.41.59.51 0 1.02-.2 1.41-.59l7.78-7.78 2.81-2.81c.8-.78.8-2.07 0-2.86zM5.41 20L4 18.59l7.72-7.72 1.47 1.35L5.41 20z\"/>\n",
              "  </svg>\n",
              "      </button>\n",
              "      \n",
              "  <style>\n",
              "    .colab-df-container {\n",
              "      display:flex;\n",
              "      flex-wrap:wrap;\n",
              "      gap: 12px;\n",
              "    }\n",
              "\n",
              "    .colab-df-convert {\n",
              "      background-color: #E8F0FE;\n",
              "      border: none;\n",
              "      border-radius: 50%;\n",
              "      cursor: pointer;\n",
              "      display: none;\n",
              "      fill: #1967D2;\n",
              "      height: 32px;\n",
              "      padding: 0 0 0 0;\n",
              "      width: 32px;\n",
              "    }\n",
              "\n",
              "    .colab-df-convert:hover {\n",
              "      background-color: #E2EBFA;\n",
              "      box-shadow: 0px 1px 2px rgba(60, 64, 67, 0.3), 0px 1px 3px 1px rgba(60, 64, 67, 0.15);\n",
              "      fill: #174EA6;\n",
              "    }\n",
              "\n",
              "    [theme=dark] .colab-df-convert {\n",
              "      background-color: #3B4455;\n",
              "      fill: #D2E3FC;\n",
              "    }\n",
              "\n",
              "    [theme=dark] .colab-df-convert:hover {\n",
              "      background-color: #434B5C;\n",
              "      box-shadow: 0px 1px 3px 1px rgba(0, 0, 0, 0.15);\n",
              "      filter: drop-shadow(0px 1px 2px rgba(0, 0, 0, 0.3));\n",
              "      fill: #FFFFFF;\n",
              "    }\n",
              "  </style>\n",
              "\n",
              "      <script>\n",
              "        const buttonEl =\n",
              "          document.querySelector('#df-d6848dd2-7c0c-4dbb-a4b2-e68f8159ce81 button.colab-df-convert');\n",
              "        buttonEl.style.display =\n",
              "          google.colab.kernel.accessAllowed ? 'block' : 'none';\n",
              "\n",
              "        async function convertToInteractive(key) {\n",
              "          const element = document.querySelector('#df-d6848dd2-7c0c-4dbb-a4b2-e68f8159ce81');\n",
              "          const dataTable =\n",
              "            await google.colab.kernel.invokeFunction('convertToInteractive',\n",
              "                                                     [key], {});\n",
              "          if (!dataTable) return;\n",
              "\n",
              "          const docLinkHtml = 'Like what you see? Visit the ' +\n",
              "            '<a target=\"_blank\" href=https://colab.research.google.com/notebooks/data_table.ipynb>data table notebook</a>'\n",
              "            + ' to learn more about interactive tables.';\n",
              "          element.innerHTML = '';\n",
              "          dataTable['output_type'] = 'display_data';\n",
              "          await google.colab.output.renderOutput(dataTable, element);\n",
              "          const docLink = document.createElement('div');\n",
              "          docLink.innerHTML = docLinkHtml;\n",
              "          element.appendChild(docLink);\n",
              "        }\n",
              "      </script>\n",
              "    </div>\n",
              "  </div>\n",
              "  "
            ]
          },
          "metadata": {},
          "execution_count": 34
        }
      ]
    },
    {
      "cell_type": "code",
      "source": [],
      "metadata": {
        "id": "K8JMiCunJodr"
      },
      "execution_count": null,
      "outputs": []
    }
  ]
}