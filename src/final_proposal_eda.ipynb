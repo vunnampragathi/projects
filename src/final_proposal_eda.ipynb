{
  "nbformat": 4,
  "nbformat_minor": 0,
  "metadata": {
    "colab": {
      "provenance": [],
      "include_colab_link": true
    },
    "kernelspec": {
      "name": "python3",
      "display_name": "Python 3"
    },
    "language_info": {
      "name": "python"
    }
  },
  "cells": [
    {
      "cell_type": "markdown",
      "metadata": {
        "id": "view-in-github",
        "colab_type": "text"
      },
      "source": [
        "<a href=\"https://colab.research.google.com/github/vunnampragathi/projects/blob/main/src/final_proposal_eda.ipynb\" target=\"_parent\"><img src=\"https://colab.research.google.com/assets/colab-badge.svg\" alt=\"Open In Colab\"/></a>"
      ]
    },
    {
      "cell_type": "code",
      "execution_count": 17,
      "metadata": {
        "id": "sUCGzSCtj_qL"
      },
      "outputs": [],
      "source": [
        "\n",
        "import pandas as pd\n",
        "import matplotlib.pyplot as plt\n",
        "import numpy as np"
      ]
    },
    {
      "cell_type": "code",
      "source": [
        "data = pd.read_csv(\"/content/uspollution_pollution_us_2000_2016.csv\",usecols = ['State','Date Local','NO2 AQI','NO2 Mean','O3 AQI','O3 Mean','CO AQI','CO Mean','SO2 AQI','SO2 Mean'])"
      ],
      "metadata": {
        "id": "omABX6t9kC7m"
      },
      "execution_count": 36,
      "outputs": []
    },
    {
      "cell_type": "markdown",
      "source": [
        "https://www.geeksforgeeks.org/reading-specific-columns-of-a-csv-file-using-pandas/"
      ],
      "metadata": {
        "id": "zSVx5vVuhHFD"
      }
    },
    {
      "cell_type": "code",
      "source": [
        "data"
      ],
      "metadata": {
        "id": "L9Mx-dI2Wi9q",
        "outputId": "dcaa2190-e354-46c1-9551-8148c37885c5",
        "colab": {
          "base_uri": "https://localhost:8080/",
          "height": 423
        }
      },
      "execution_count": 37,
      "outputs": [
        {
          "output_type": "execute_result",
          "data": {
            "text/plain": [
              "           State  Date Local   NO2 Mean  NO2 AQI   O3 Mean  O3 AQI  SO2 Mean  \\\n",
              "0        Arizona  2000-01-01  19.041667       46  0.022500      34  3.000000   \n",
              "1        Arizona  2000-01-01  19.041667       46  0.022500      34  3.000000   \n",
              "2        Arizona  2000-01-01  19.041667       46  0.022500      34  2.975000   \n",
              "3        Arizona  2000-01-01  19.041667       46  0.022500      34  2.975000   \n",
              "4        Arizona  2000-01-02  22.958333       34  0.013375      27  1.958333   \n",
              "...          ...         ...        ...      ...       ...     ...       ...   \n",
              "1746656  Wyoming  2016-03-30   1.083333        1  0.043917      44  0.000000   \n",
              "1746657  Wyoming  2016-03-31   0.939130        1  0.045263      44 -0.022727   \n",
              "1746658  Wyoming  2016-03-31   0.939130        1  0.045263      44 -0.022727   \n",
              "1746659  Wyoming  2016-03-31   0.939130        1  0.045263      44  0.000000   \n",
              "1746660  Wyoming  2016-03-31   0.939130        1  0.045263      44  0.000000   \n",
              "\n",
              "         SO2 AQI   CO Mean  CO AQI  \n",
              "0           13.0  1.145833     NaN  \n",
              "1           13.0  0.878947    25.0  \n",
              "2            NaN  1.145833     NaN  \n",
              "3            NaN  0.878947    25.0  \n",
              "4            4.0  0.850000     NaN  \n",
              "...          ...       ...     ...  \n",
              "1746656      NaN  0.091667     1.0  \n",
              "1746657      0.0  0.067714     NaN  \n",
              "1746658      0.0  0.100000     1.0  \n",
              "1746659      NaN  0.067714     NaN  \n",
              "1746660      NaN  0.100000     1.0  \n",
              "\n",
              "[1746661 rows x 10 columns]"
            ],
            "text/html": [
              "\n",
              "  <div id=\"df-47ed43e1-f7e6-47a7-a324-17e5ed5a1223\">\n",
              "    <div class=\"colab-df-container\">\n",
              "      <div>\n",
              "<style scoped>\n",
              "    .dataframe tbody tr th:only-of-type {\n",
              "        vertical-align: middle;\n",
              "    }\n",
              "\n",
              "    .dataframe tbody tr th {\n",
              "        vertical-align: top;\n",
              "    }\n",
              "\n",
              "    .dataframe thead th {\n",
              "        text-align: right;\n",
              "    }\n",
              "</style>\n",
              "<table border=\"1\" class=\"dataframe\">\n",
              "  <thead>\n",
              "    <tr style=\"text-align: right;\">\n",
              "      <th></th>\n",
              "      <th>State</th>\n",
              "      <th>Date Local</th>\n",
              "      <th>NO2 Mean</th>\n",
              "      <th>NO2 AQI</th>\n",
              "      <th>O3 Mean</th>\n",
              "      <th>O3 AQI</th>\n",
              "      <th>SO2 Mean</th>\n",
              "      <th>SO2 AQI</th>\n",
              "      <th>CO Mean</th>\n",
              "      <th>CO AQI</th>\n",
              "    </tr>\n",
              "  </thead>\n",
              "  <tbody>\n",
              "    <tr>\n",
              "      <th>0</th>\n",
              "      <td>Arizona</td>\n",
              "      <td>2000-01-01</td>\n",
              "      <td>19.041667</td>\n",
              "      <td>46</td>\n",
              "      <td>0.022500</td>\n",
              "      <td>34</td>\n",
              "      <td>3.000000</td>\n",
              "      <td>13.0</td>\n",
              "      <td>1.145833</td>\n",
              "      <td>NaN</td>\n",
              "    </tr>\n",
              "    <tr>\n",
              "      <th>1</th>\n",
              "      <td>Arizona</td>\n",
              "      <td>2000-01-01</td>\n",
              "      <td>19.041667</td>\n",
              "      <td>46</td>\n",
              "      <td>0.022500</td>\n",
              "      <td>34</td>\n",
              "      <td>3.000000</td>\n",
              "      <td>13.0</td>\n",
              "      <td>0.878947</td>\n",
              "      <td>25.0</td>\n",
              "    </tr>\n",
              "    <tr>\n",
              "      <th>2</th>\n",
              "      <td>Arizona</td>\n",
              "      <td>2000-01-01</td>\n",
              "      <td>19.041667</td>\n",
              "      <td>46</td>\n",
              "      <td>0.022500</td>\n",
              "      <td>34</td>\n",
              "      <td>2.975000</td>\n",
              "      <td>NaN</td>\n",
              "      <td>1.145833</td>\n",
              "      <td>NaN</td>\n",
              "    </tr>\n",
              "    <tr>\n",
              "      <th>3</th>\n",
              "      <td>Arizona</td>\n",
              "      <td>2000-01-01</td>\n",
              "      <td>19.041667</td>\n",
              "      <td>46</td>\n",
              "      <td>0.022500</td>\n",
              "      <td>34</td>\n",
              "      <td>2.975000</td>\n",
              "      <td>NaN</td>\n",
              "      <td>0.878947</td>\n",
              "      <td>25.0</td>\n",
              "    </tr>\n",
              "    <tr>\n",
              "      <th>4</th>\n",
              "      <td>Arizona</td>\n",
              "      <td>2000-01-02</td>\n",
              "      <td>22.958333</td>\n",
              "      <td>34</td>\n",
              "      <td>0.013375</td>\n",
              "      <td>27</td>\n",
              "      <td>1.958333</td>\n",
              "      <td>4.0</td>\n",
              "      <td>0.850000</td>\n",
              "      <td>NaN</td>\n",
              "    </tr>\n",
              "    <tr>\n",
              "      <th>...</th>\n",
              "      <td>...</td>\n",
              "      <td>...</td>\n",
              "      <td>...</td>\n",
              "      <td>...</td>\n",
              "      <td>...</td>\n",
              "      <td>...</td>\n",
              "      <td>...</td>\n",
              "      <td>...</td>\n",
              "      <td>...</td>\n",
              "      <td>...</td>\n",
              "    </tr>\n",
              "    <tr>\n",
              "      <th>1746656</th>\n",
              "      <td>Wyoming</td>\n",
              "      <td>2016-03-30</td>\n",
              "      <td>1.083333</td>\n",
              "      <td>1</td>\n",
              "      <td>0.043917</td>\n",
              "      <td>44</td>\n",
              "      <td>0.000000</td>\n",
              "      <td>NaN</td>\n",
              "      <td>0.091667</td>\n",
              "      <td>1.0</td>\n",
              "    </tr>\n",
              "    <tr>\n",
              "      <th>1746657</th>\n",
              "      <td>Wyoming</td>\n",
              "      <td>2016-03-31</td>\n",
              "      <td>0.939130</td>\n",
              "      <td>1</td>\n",
              "      <td>0.045263</td>\n",
              "      <td>44</td>\n",
              "      <td>-0.022727</td>\n",
              "      <td>0.0</td>\n",
              "      <td>0.067714</td>\n",
              "      <td>NaN</td>\n",
              "    </tr>\n",
              "    <tr>\n",
              "      <th>1746658</th>\n",
              "      <td>Wyoming</td>\n",
              "      <td>2016-03-31</td>\n",
              "      <td>0.939130</td>\n",
              "      <td>1</td>\n",
              "      <td>0.045263</td>\n",
              "      <td>44</td>\n",
              "      <td>-0.022727</td>\n",
              "      <td>0.0</td>\n",
              "      <td>0.100000</td>\n",
              "      <td>1.0</td>\n",
              "    </tr>\n",
              "    <tr>\n",
              "      <th>1746659</th>\n",
              "      <td>Wyoming</td>\n",
              "      <td>2016-03-31</td>\n",
              "      <td>0.939130</td>\n",
              "      <td>1</td>\n",
              "      <td>0.045263</td>\n",
              "      <td>44</td>\n",
              "      <td>0.000000</td>\n",
              "      <td>NaN</td>\n",
              "      <td>0.067714</td>\n",
              "      <td>NaN</td>\n",
              "    </tr>\n",
              "    <tr>\n",
              "      <th>1746660</th>\n",
              "      <td>Wyoming</td>\n",
              "      <td>2016-03-31</td>\n",
              "      <td>0.939130</td>\n",
              "      <td>1</td>\n",
              "      <td>0.045263</td>\n",
              "      <td>44</td>\n",
              "      <td>0.000000</td>\n",
              "      <td>NaN</td>\n",
              "      <td>0.100000</td>\n",
              "      <td>1.0</td>\n",
              "    </tr>\n",
              "  </tbody>\n",
              "</table>\n",
              "<p>1746661 rows × 10 columns</p>\n",
              "</div>\n",
              "      <button class=\"colab-df-convert\" onclick=\"convertToInteractive('df-47ed43e1-f7e6-47a7-a324-17e5ed5a1223')\"\n",
              "              title=\"Convert this dataframe to an interactive table.\"\n",
              "              style=\"display:none;\">\n",
              "        \n",
              "  <svg xmlns=\"http://www.w3.org/2000/svg\" height=\"24px\"viewBox=\"0 0 24 24\"\n",
              "       width=\"24px\">\n",
              "    <path d=\"M0 0h24v24H0V0z\" fill=\"none\"/>\n",
              "    <path d=\"M18.56 5.44l.94 2.06.94-2.06 2.06-.94-2.06-.94-.94-2.06-.94 2.06-2.06.94zm-11 1L8.5 8.5l.94-2.06 2.06-.94-2.06-.94L8.5 2.5l-.94 2.06-2.06.94zm10 10l.94 2.06.94-2.06 2.06-.94-2.06-.94-.94-2.06-.94 2.06-2.06.94z\"/><path d=\"M17.41 7.96l-1.37-1.37c-.4-.4-.92-.59-1.43-.59-.52 0-1.04.2-1.43.59L10.3 9.45l-7.72 7.72c-.78.78-.78 2.05 0 2.83L4 21.41c.39.39.9.59 1.41.59.51 0 1.02-.2 1.41-.59l7.78-7.78 2.81-2.81c.8-.78.8-2.07 0-2.86zM5.41 20L4 18.59l7.72-7.72 1.47 1.35L5.41 20z\"/>\n",
              "  </svg>\n",
              "      </button>\n",
              "      \n",
              "  <style>\n",
              "    .colab-df-container {\n",
              "      display:flex;\n",
              "      flex-wrap:wrap;\n",
              "      gap: 12px;\n",
              "    }\n",
              "\n",
              "    .colab-df-convert {\n",
              "      background-color: #E8F0FE;\n",
              "      border: none;\n",
              "      border-radius: 50%;\n",
              "      cursor: pointer;\n",
              "      display: none;\n",
              "      fill: #1967D2;\n",
              "      height: 32px;\n",
              "      padding: 0 0 0 0;\n",
              "      width: 32px;\n",
              "    }\n",
              "\n",
              "    .colab-df-convert:hover {\n",
              "      background-color: #E2EBFA;\n",
              "      box-shadow: 0px 1px 2px rgba(60, 64, 67, 0.3), 0px 1px 3px 1px rgba(60, 64, 67, 0.15);\n",
              "      fill: #174EA6;\n",
              "    }\n",
              "\n",
              "    [theme=dark] .colab-df-convert {\n",
              "      background-color: #3B4455;\n",
              "      fill: #D2E3FC;\n",
              "    }\n",
              "\n",
              "    [theme=dark] .colab-df-convert:hover {\n",
              "      background-color: #434B5C;\n",
              "      box-shadow: 0px 1px 3px 1px rgba(0, 0, 0, 0.15);\n",
              "      filter: drop-shadow(0px 1px 2px rgba(0, 0, 0, 0.3));\n",
              "      fill: #FFFFFF;\n",
              "    }\n",
              "  </style>\n",
              "\n",
              "      <script>\n",
              "        const buttonEl =\n",
              "          document.querySelector('#df-47ed43e1-f7e6-47a7-a324-17e5ed5a1223 button.colab-df-convert');\n",
              "        buttonEl.style.display =\n",
              "          google.colab.kernel.accessAllowed ? 'block' : 'none';\n",
              "\n",
              "        async function convertToInteractive(key) {\n",
              "          const element = document.querySelector('#df-47ed43e1-f7e6-47a7-a324-17e5ed5a1223');\n",
              "          const dataTable =\n",
              "            await google.colab.kernel.invokeFunction('convertToInteractive',\n",
              "                                                     [key], {});\n",
              "          if (!dataTable) return;\n",
              "\n",
              "          const docLinkHtml = 'Like what you see? Visit the ' +\n",
              "            '<a target=\"_blank\" href=https://colab.research.google.com/notebooks/data_table.ipynb>data table notebook</a>'\n",
              "            + ' to learn more about interactive tables.';\n",
              "          element.innerHTML = '';\n",
              "          dataTable['output_type'] = 'display_data';\n",
              "          await google.colab.output.renderOutput(dataTable, element);\n",
              "          const docLink = document.createElement('div');\n",
              "          docLink.innerHTML = docLinkHtml;\n",
              "          element.appendChild(docLink);\n",
              "        }\n",
              "      </script>\n",
              "    </div>\n",
              "  </div>\n",
              "  "
            ]
          },
          "metadata": {},
          "execution_count": 37
        }
      ]
    },
    {
      "cell_type": "code",
      "source": [
        "\n",
        "data.shape"
      ],
      "metadata": {
        "colab": {
          "base_uri": "https://localhost:8080/"
        },
        "id": "7LB_NH6HqYtr",
        "outputId": "2d8aac2a-0e35-44ee-97ff-663768cba847"
      },
      "execution_count": 38,
      "outputs": [
        {
          "output_type": "execute_result",
          "data": {
            "text/plain": [
              "(1746661, 10)"
            ]
          },
          "metadata": {},
          "execution_count": 38
        }
      ]
    },
    {
      "cell_type": "code",
      "source": [
        "data.info"
      ],
      "metadata": {
        "colab": {
          "base_uri": "https://localhost:8080/"
        },
        "id": "I-poLuGbqb-U",
        "outputId": "76190e75-87fa-450b-ef16-66955511646b"
      },
      "execution_count": 39,
      "outputs": [
        {
          "output_type": "execute_result",
          "data": {
            "text/plain": [
              "<bound method DataFrame.info of            State  Date Local   NO2 Mean  NO2 AQI   O3 Mean  O3 AQI  SO2 Mean  \\\n",
              "0        Arizona  2000-01-01  19.041667       46  0.022500      34  3.000000   \n",
              "1        Arizona  2000-01-01  19.041667       46  0.022500      34  3.000000   \n",
              "2        Arizona  2000-01-01  19.041667       46  0.022500      34  2.975000   \n",
              "3        Arizona  2000-01-01  19.041667       46  0.022500      34  2.975000   \n",
              "4        Arizona  2000-01-02  22.958333       34  0.013375      27  1.958333   \n",
              "...          ...         ...        ...      ...       ...     ...       ...   \n",
              "1746656  Wyoming  2016-03-30   1.083333        1  0.043917      44  0.000000   \n",
              "1746657  Wyoming  2016-03-31   0.939130        1  0.045263      44 -0.022727   \n",
              "1746658  Wyoming  2016-03-31   0.939130        1  0.045263      44 -0.022727   \n",
              "1746659  Wyoming  2016-03-31   0.939130        1  0.045263      44  0.000000   \n",
              "1746660  Wyoming  2016-03-31   0.939130        1  0.045263      44  0.000000   \n",
              "\n",
              "         SO2 AQI   CO Mean  CO AQI  \n",
              "0           13.0  1.145833     NaN  \n",
              "1           13.0  0.878947    25.0  \n",
              "2            NaN  1.145833     NaN  \n",
              "3            NaN  0.878947    25.0  \n",
              "4            4.0  0.850000     NaN  \n",
              "...          ...       ...     ...  \n",
              "1746656      NaN  0.091667     1.0  \n",
              "1746657      0.0  0.067714     NaN  \n",
              "1746658      0.0  0.100000     1.0  \n",
              "1746659      NaN  0.067714     NaN  \n",
              "1746660      NaN  0.100000     1.0  \n",
              "\n",
              "[1746661 rows x 10 columns]>"
            ]
          },
          "metadata": {},
          "execution_count": 39
        }
      ]
    },
    {
      "cell_type": "code",
      "source": [
        "data.dtypes"
      ],
      "metadata": {
        "colab": {
          "base_uri": "https://localhost:8080/"
        },
        "id": "F4dXH3AAqeGz",
        "outputId": "28765675-5956-497e-e7ad-6279a15dda8e"
      },
      "execution_count": 40,
      "outputs": [
        {
          "output_type": "execute_result",
          "data": {
            "text/plain": [
              "State          object\n",
              "Date Local     object\n",
              "NO2 Mean      float64\n",
              "NO2 AQI         int64\n",
              "O3 Mean       float64\n",
              "O3 AQI          int64\n",
              "SO2 Mean      float64\n",
              "SO2 AQI       float64\n",
              "CO Mean       float64\n",
              "CO AQI        float64\n",
              "dtype: object"
            ]
          },
          "metadata": {},
          "execution_count": 40
        }
      ]
    },
    {
      "cell_type": "code",
      "source": [
        "data.isna().sum()"
      ],
      "metadata": {
        "id": "tJ3md7vHiNhI",
        "outputId": "b5a16e94-030c-4892-d6e8-b0481d0ac790",
        "colab": {
          "base_uri": "https://localhost:8080/"
        }
      },
      "execution_count": 41,
      "outputs": [
        {
          "output_type": "execute_result",
          "data": {
            "text/plain": [
              "State              0\n",
              "Date Local         0\n",
              "NO2 Mean           0\n",
              "NO2 AQI            0\n",
              "O3 Mean            0\n",
              "O3 AQI             0\n",
              "SO2 Mean           0\n",
              "SO2 AQI       872907\n",
              "CO Mean            0\n",
              "CO AQI        873323\n",
              "dtype: int64"
            ]
          },
          "metadata": {},
          "execution_count": 41
        }
      ]
    },
    {
      "cell_type": "code",
      "source": [
        "df=data.fillna(method='ffill')\n",
        "df"
      ],
      "metadata": {
        "id": "0bL4CpowjMOA",
        "outputId": "9480de29-edc7-4672-cc51-010138a4613c",
        "colab": {
          "base_uri": "https://localhost:8080/",
          "height": 423
        }
      },
      "execution_count": 42,
      "outputs": [
        {
          "output_type": "execute_result",
          "data": {
            "text/plain": [
              "           State  Date Local   NO2 Mean  NO2 AQI   O3 Mean  O3 AQI  SO2 Mean  \\\n",
              "0        Arizona  2000-01-01  19.041667       46  0.022500      34  3.000000   \n",
              "1        Arizona  2000-01-01  19.041667       46  0.022500      34  3.000000   \n",
              "2        Arizona  2000-01-01  19.041667       46  0.022500      34  2.975000   \n",
              "3        Arizona  2000-01-01  19.041667       46  0.022500      34  2.975000   \n",
              "4        Arizona  2000-01-02  22.958333       34  0.013375      27  1.958333   \n",
              "...          ...         ...        ...      ...       ...     ...       ...   \n",
              "1746656  Wyoming  2016-03-30   1.083333        1  0.043917      44  0.000000   \n",
              "1746657  Wyoming  2016-03-31   0.939130        1  0.045263      44 -0.022727   \n",
              "1746658  Wyoming  2016-03-31   0.939130        1  0.045263      44 -0.022727   \n",
              "1746659  Wyoming  2016-03-31   0.939130        1  0.045263      44  0.000000   \n",
              "1746660  Wyoming  2016-03-31   0.939130        1  0.045263      44  0.000000   \n",
              "\n",
              "         SO2 AQI   CO Mean  CO AQI  \n",
              "0           13.0  1.145833     NaN  \n",
              "1           13.0  0.878947    25.0  \n",
              "2           13.0  1.145833    25.0  \n",
              "3           13.0  0.878947    25.0  \n",
              "4            4.0  0.850000    25.0  \n",
              "...          ...       ...     ...  \n",
              "1746656      0.0  0.091667     1.0  \n",
              "1746657      0.0  0.067714     1.0  \n",
              "1746658      0.0  0.100000     1.0  \n",
              "1746659      0.0  0.067714     1.0  \n",
              "1746660      0.0  0.100000     1.0  \n",
              "\n",
              "[1746661 rows x 10 columns]"
            ],
            "text/html": [
              "\n",
              "  <div id=\"df-433378b2-0559-4f5c-9491-37fd75d01c4c\">\n",
              "    <div class=\"colab-df-container\">\n",
              "      <div>\n",
              "<style scoped>\n",
              "    .dataframe tbody tr th:only-of-type {\n",
              "        vertical-align: middle;\n",
              "    }\n",
              "\n",
              "    .dataframe tbody tr th {\n",
              "        vertical-align: top;\n",
              "    }\n",
              "\n",
              "    .dataframe thead th {\n",
              "        text-align: right;\n",
              "    }\n",
              "</style>\n",
              "<table border=\"1\" class=\"dataframe\">\n",
              "  <thead>\n",
              "    <tr style=\"text-align: right;\">\n",
              "      <th></th>\n",
              "      <th>State</th>\n",
              "      <th>Date Local</th>\n",
              "      <th>NO2 Mean</th>\n",
              "      <th>NO2 AQI</th>\n",
              "      <th>O3 Mean</th>\n",
              "      <th>O3 AQI</th>\n",
              "      <th>SO2 Mean</th>\n",
              "      <th>SO2 AQI</th>\n",
              "      <th>CO Mean</th>\n",
              "      <th>CO AQI</th>\n",
              "    </tr>\n",
              "  </thead>\n",
              "  <tbody>\n",
              "    <tr>\n",
              "      <th>0</th>\n",
              "      <td>Arizona</td>\n",
              "      <td>2000-01-01</td>\n",
              "      <td>19.041667</td>\n",
              "      <td>46</td>\n",
              "      <td>0.022500</td>\n",
              "      <td>34</td>\n",
              "      <td>3.000000</td>\n",
              "      <td>13.0</td>\n",
              "      <td>1.145833</td>\n",
              "      <td>NaN</td>\n",
              "    </tr>\n",
              "    <tr>\n",
              "      <th>1</th>\n",
              "      <td>Arizona</td>\n",
              "      <td>2000-01-01</td>\n",
              "      <td>19.041667</td>\n",
              "      <td>46</td>\n",
              "      <td>0.022500</td>\n",
              "      <td>34</td>\n",
              "      <td>3.000000</td>\n",
              "      <td>13.0</td>\n",
              "      <td>0.878947</td>\n",
              "      <td>25.0</td>\n",
              "    </tr>\n",
              "    <tr>\n",
              "      <th>2</th>\n",
              "      <td>Arizona</td>\n",
              "      <td>2000-01-01</td>\n",
              "      <td>19.041667</td>\n",
              "      <td>46</td>\n",
              "      <td>0.022500</td>\n",
              "      <td>34</td>\n",
              "      <td>2.975000</td>\n",
              "      <td>13.0</td>\n",
              "      <td>1.145833</td>\n",
              "      <td>25.0</td>\n",
              "    </tr>\n",
              "    <tr>\n",
              "      <th>3</th>\n",
              "      <td>Arizona</td>\n",
              "      <td>2000-01-01</td>\n",
              "      <td>19.041667</td>\n",
              "      <td>46</td>\n",
              "      <td>0.022500</td>\n",
              "      <td>34</td>\n",
              "      <td>2.975000</td>\n",
              "      <td>13.0</td>\n",
              "      <td>0.878947</td>\n",
              "      <td>25.0</td>\n",
              "    </tr>\n",
              "    <tr>\n",
              "      <th>4</th>\n",
              "      <td>Arizona</td>\n",
              "      <td>2000-01-02</td>\n",
              "      <td>22.958333</td>\n",
              "      <td>34</td>\n",
              "      <td>0.013375</td>\n",
              "      <td>27</td>\n",
              "      <td>1.958333</td>\n",
              "      <td>4.0</td>\n",
              "      <td>0.850000</td>\n",
              "      <td>25.0</td>\n",
              "    </tr>\n",
              "    <tr>\n",
              "      <th>...</th>\n",
              "      <td>...</td>\n",
              "      <td>...</td>\n",
              "      <td>...</td>\n",
              "      <td>...</td>\n",
              "      <td>...</td>\n",
              "      <td>...</td>\n",
              "      <td>...</td>\n",
              "      <td>...</td>\n",
              "      <td>...</td>\n",
              "      <td>...</td>\n",
              "    </tr>\n",
              "    <tr>\n",
              "      <th>1746656</th>\n",
              "      <td>Wyoming</td>\n",
              "      <td>2016-03-30</td>\n",
              "      <td>1.083333</td>\n",
              "      <td>1</td>\n",
              "      <td>0.043917</td>\n",
              "      <td>44</td>\n",
              "      <td>0.000000</td>\n",
              "      <td>0.0</td>\n",
              "      <td>0.091667</td>\n",
              "      <td>1.0</td>\n",
              "    </tr>\n",
              "    <tr>\n",
              "      <th>1746657</th>\n",
              "      <td>Wyoming</td>\n",
              "      <td>2016-03-31</td>\n",
              "      <td>0.939130</td>\n",
              "      <td>1</td>\n",
              "      <td>0.045263</td>\n",
              "      <td>44</td>\n",
              "      <td>-0.022727</td>\n",
              "      <td>0.0</td>\n",
              "      <td>0.067714</td>\n",
              "      <td>1.0</td>\n",
              "    </tr>\n",
              "    <tr>\n",
              "      <th>1746658</th>\n",
              "      <td>Wyoming</td>\n",
              "      <td>2016-03-31</td>\n",
              "      <td>0.939130</td>\n",
              "      <td>1</td>\n",
              "      <td>0.045263</td>\n",
              "      <td>44</td>\n",
              "      <td>-0.022727</td>\n",
              "      <td>0.0</td>\n",
              "      <td>0.100000</td>\n",
              "      <td>1.0</td>\n",
              "    </tr>\n",
              "    <tr>\n",
              "      <th>1746659</th>\n",
              "      <td>Wyoming</td>\n",
              "      <td>2016-03-31</td>\n",
              "      <td>0.939130</td>\n",
              "      <td>1</td>\n",
              "      <td>0.045263</td>\n",
              "      <td>44</td>\n",
              "      <td>0.000000</td>\n",
              "      <td>0.0</td>\n",
              "      <td>0.067714</td>\n",
              "      <td>1.0</td>\n",
              "    </tr>\n",
              "    <tr>\n",
              "      <th>1746660</th>\n",
              "      <td>Wyoming</td>\n",
              "      <td>2016-03-31</td>\n",
              "      <td>0.939130</td>\n",
              "      <td>1</td>\n",
              "      <td>0.045263</td>\n",
              "      <td>44</td>\n",
              "      <td>0.000000</td>\n",
              "      <td>0.0</td>\n",
              "      <td>0.100000</td>\n",
              "      <td>1.0</td>\n",
              "    </tr>\n",
              "  </tbody>\n",
              "</table>\n",
              "<p>1746661 rows × 10 columns</p>\n",
              "</div>\n",
              "      <button class=\"colab-df-convert\" onclick=\"convertToInteractive('df-433378b2-0559-4f5c-9491-37fd75d01c4c')\"\n",
              "              title=\"Convert this dataframe to an interactive table.\"\n",
              "              style=\"display:none;\">\n",
              "        \n",
              "  <svg xmlns=\"http://www.w3.org/2000/svg\" height=\"24px\"viewBox=\"0 0 24 24\"\n",
              "       width=\"24px\">\n",
              "    <path d=\"M0 0h24v24H0V0z\" fill=\"none\"/>\n",
              "    <path d=\"M18.56 5.44l.94 2.06.94-2.06 2.06-.94-2.06-.94-.94-2.06-.94 2.06-2.06.94zm-11 1L8.5 8.5l.94-2.06 2.06-.94-2.06-.94L8.5 2.5l-.94 2.06-2.06.94zm10 10l.94 2.06.94-2.06 2.06-.94-2.06-.94-.94-2.06-.94 2.06-2.06.94z\"/><path d=\"M17.41 7.96l-1.37-1.37c-.4-.4-.92-.59-1.43-.59-.52 0-1.04.2-1.43.59L10.3 9.45l-7.72 7.72c-.78.78-.78 2.05 0 2.83L4 21.41c.39.39.9.59 1.41.59.51 0 1.02-.2 1.41-.59l7.78-7.78 2.81-2.81c.8-.78.8-2.07 0-2.86zM5.41 20L4 18.59l7.72-7.72 1.47 1.35L5.41 20z\"/>\n",
              "  </svg>\n",
              "      </button>\n",
              "      \n",
              "  <style>\n",
              "    .colab-df-container {\n",
              "      display:flex;\n",
              "      flex-wrap:wrap;\n",
              "      gap: 12px;\n",
              "    }\n",
              "\n",
              "    .colab-df-convert {\n",
              "      background-color: #E8F0FE;\n",
              "      border: none;\n",
              "      border-radius: 50%;\n",
              "      cursor: pointer;\n",
              "      display: none;\n",
              "      fill: #1967D2;\n",
              "      height: 32px;\n",
              "      padding: 0 0 0 0;\n",
              "      width: 32px;\n",
              "    }\n",
              "\n",
              "    .colab-df-convert:hover {\n",
              "      background-color: #E2EBFA;\n",
              "      box-shadow: 0px 1px 2px rgba(60, 64, 67, 0.3), 0px 1px 3px 1px rgba(60, 64, 67, 0.15);\n",
              "      fill: #174EA6;\n",
              "    }\n",
              "\n",
              "    [theme=dark] .colab-df-convert {\n",
              "      background-color: #3B4455;\n",
              "      fill: #D2E3FC;\n",
              "    }\n",
              "\n",
              "    [theme=dark] .colab-df-convert:hover {\n",
              "      background-color: #434B5C;\n",
              "      box-shadow: 0px 1px 3px 1px rgba(0, 0, 0, 0.15);\n",
              "      filter: drop-shadow(0px 1px 2px rgba(0, 0, 0, 0.3));\n",
              "      fill: #FFFFFF;\n",
              "    }\n",
              "  </style>\n",
              "\n",
              "      <script>\n",
              "        const buttonEl =\n",
              "          document.querySelector('#df-433378b2-0559-4f5c-9491-37fd75d01c4c button.colab-df-convert');\n",
              "        buttonEl.style.display =\n",
              "          google.colab.kernel.accessAllowed ? 'block' : 'none';\n",
              "\n",
              "        async function convertToInteractive(key) {\n",
              "          const element = document.querySelector('#df-433378b2-0559-4f5c-9491-37fd75d01c4c');\n",
              "          const dataTable =\n",
              "            await google.colab.kernel.invokeFunction('convertToInteractive',\n",
              "                                                     [key], {});\n",
              "          if (!dataTable) return;\n",
              "\n",
              "          const docLinkHtml = 'Like what you see? Visit the ' +\n",
              "            '<a target=\"_blank\" href=https://colab.research.google.com/notebooks/data_table.ipynb>data table notebook</a>'\n",
              "            + ' to learn more about interactive tables.';\n",
              "          element.innerHTML = '';\n",
              "          dataTable['output_type'] = 'display_data';\n",
              "          await google.colab.output.renderOutput(dataTable, element);\n",
              "          const docLink = document.createElement('div');\n",
              "          docLink.innerHTML = docLinkHtml;\n",
              "          element.appendChild(docLink);\n",
              "        }\n",
              "      </script>\n",
              "    </div>\n",
              "  </div>\n",
              "  "
            ]
          },
          "metadata": {},
          "execution_count": 42
        }
      ]
    },
    {
      "cell_type": "code",
      "source": [
        "df.isna().sum()"
      ],
      "metadata": {
        "id": "69kvwgVMjk0s",
        "outputId": "344cc99d-2352-4c6f-f1ff-9d496602d2f2",
        "colab": {
          "base_uri": "https://localhost:8080/"
        }
      },
      "execution_count": 43,
      "outputs": [
        {
          "output_type": "execute_result",
          "data": {
            "text/plain": [
              "State         0\n",
              "Date Local    0\n",
              "NO2 Mean      0\n",
              "NO2 AQI       0\n",
              "O3 Mean       0\n",
              "O3 AQI        0\n",
              "SO2 Mean      0\n",
              "SO2 AQI       0\n",
              "CO Mean       0\n",
              "CO AQI        1\n",
              "dtype: int64"
            ]
          },
          "metadata": {},
          "execution_count": 43
        }
      ]
    },
    {
      "cell_type": "code",
      "source": [
        "df=df.fillna(method='bfill')"
      ],
      "metadata": {
        "id": "ZZKj_KjRj1MD"
      },
      "execution_count": 44,
      "outputs": []
    },
    {
      "cell_type": "code",
      "source": [
        "df.isna().sum()"
      ],
      "metadata": {
        "id": "p34k7uudj77n",
        "outputId": "94354f79-cf46-4088-a938-900a74e39d69",
        "colab": {
          "base_uri": "https://localhost:8080/"
        }
      },
      "execution_count": 45,
      "outputs": [
        {
          "output_type": "execute_result",
          "data": {
            "text/plain": [
              "State         0\n",
              "Date Local    0\n",
              "NO2 Mean      0\n",
              "NO2 AQI       0\n",
              "O3 Mean       0\n",
              "O3 AQI        0\n",
              "SO2 Mean      0\n",
              "SO2 AQI       0\n",
              "CO Mean       0\n",
              "CO AQI        0\n",
              "dtype: int64"
            ]
          },
          "metadata": {},
          "execution_count": 45
        }
      ]
    },
    {
      "cell_type": "code",
      "source": [
        "df.shape"
      ],
      "metadata": {
        "colab": {
          "base_uri": "https://localhost:8080/"
        },
        "id": "gPpvcC9VqmNt",
        "outputId": "666302bb-0af5-4a4d-fe01-7d2d5e2535a8"
      },
      "execution_count": 46,
      "outputs": [
        {
          "output_type": "execute_result",
          "data": {
            "text/plain": [
              "(1746661, 10)"
            ]
          },
          "metadata": {},
          "execution_count": 46
        }
      ]
    },
    {
      "cell_type": "code",
      "source": [
        "df1=df.groupby(df['State'])['NO2 AQI'].sum()\n",
        "df1\n",
        "df1.plot(kind='bar')"
      ],
      "metadata": {
        "id": "Z8qP9HDonZNl",
        "outputId": "4a081d74-8955-4091-b6d9-f76292078b90",
        "colab": {
          "base_uri": "https://localhost:8080/",
          "height": 398
        }
      },
      "execution_count": 64,
      "outputs": [
        {
          "output_type": "execute_result",
          "data": {
            "text/plain": [
              "<AxesSubplot:xlabel='State'>"
            ]
          },
          "metadata": {},
          "execution_count": 64
        },
        {
          "output_type": "display_data",
          "data": {
            "text/plain": [
              "<Figure size 432x288 with 1 Axes>"
            ],
            "image/png": "[encoded data removed]"
          },
          "metadata": {
            "needs_background": "light"
          }
        }
      ]
    },
    {
      "cell_type": "code",
      "source": [
        "df2=df.groupby(df['State'])['O3 AQI'].sum()\n",
        "df2\n",
        "df2.plot(kind='bar')"
      ],
      "metadata": {
        "id": "27R0n6Jl3Jj5",
        "outputId": "97061945-0d59-4a8a-9b88-8a7f89fd346f",
        "colab": {
          "base_uri": "https://localhost:8080/",
          "height": 398
        }
      },
      "execution_count": 65,
      "outputs": [
        {
          "output_type": "execute_result",
          "data": {
            "text/plain": [
              "<AxesSubplot:xlabel='State'>"
            ]
          },
          "metadata": {},
          "execution_count": 65
        },
        {
          "output_type": "display_data",
          "data": {
            "text/plain": [
              "<Figure size 432x288 with 1 Axes>"
            ],
            "image/png": "[encoded data removed]"
          },
          "metadata": {
            "needs_background": "light"
          }
        }
      ]
    },
    {
      "cell_type": "code",
      "source": [
        "df3=df.groupby(df['State'])['SO2 AQI'].sum()\n",
        "df3\n",
        "df3.plot(kind='bar')"
      ],
      "metadata": {
        "id": "zo-kPUWu4rAR",
        "outputId": "cc40ad7d-62b9-42c5-c728-ca1a4ca1cb19",
        "colab": {
          "base_uri": "https://localhost:8080/",
          "height": 398
        }
      },
      "execution_count": 66,
      "outputs": [
        {
          "output_type": "execute_result",
          "data": {
            "text/plain": [
              "<AxesSubplot:xlabel='State'>"
            ]
          },
          "metadata": {},
          "execution_count": 66
        },
        {
          "output_type": "display_data",
          "data": {
            "text/plain": [
              "<Figure size 432x288 with 1 Axes>"
            ],
            "image/png": "[encoded data removed]"
          },
          "metadata": {
            "needs_background": "light"
          }
        }
      ]
    },
    {
      "cell_type": "code",
      "source": [
        "df4=df.groupby(df['State'])['CO AQI'].sum()\n",
        "df4\n",
        "df4.plot(kind='bar')"
      ],
      "metadata": {
        "id": "5_5Jbg9x4wMi",
        "outputId": "cd89ca89-fe3a-4a99-b079-9865b349be23",
        "colab": {
          "base_uri": "https://localhost:8080/",
          "height": 398
        }
      },
      "execution_count": 67,
      "outputs": [
        {
          "output_type": "execute_result",
          "data": {
            "text/plain": [
              "<AxesSubplot:xlabel='State'>"
            ]
          },
          "metadata": {},
          "execution_count": 67
        },
        {
          "output_type": "display_data",
          "data": {
            "text/plain": [
              "<Figure size 432x288 with 1 Axes>"
            ],
            "image/png": "[encoded data removed]"
          },
          "metadata": {
            "needs_background": "light"
          }
        }
      ]
    },
    {
      "cell_type": "markdown",
      "source": [
        "https://www.statology.org/pandas-groupby-bar-plot/"
      ],
      "metadata": {
        "id": "VHD-qa3k4558"
      }
    },
    {
      "cell_type": "code",
      "source": [
        "lines = df.plot.line(x='Date Local', y='CO Mean')"
      ],
      "metadata": {
        "id": "Sg4_oSL7aZfF",
        "outputId": "a2aa6241-7a50-4f81-e6d1-f3acadb0c02a",
        "colab": {
          "base_uri": "https://localhost:8080/",
          "height": 279
        }
      },
      "execution_count": 69,
      "outputs": [
        {
          "output_type": "display_data",
          "data": {
            "text/plain": [
              "<Figure size 432x288 with 1 Axes>"
            ],
            "image/png": "[encoded data removed]"
          },
          "metadata": {
            "needs_background": "light"
          }
        }
      ]
    },
    {
      "cell_type": "code",
      "source": [
        "lines = df.plot.line(x='date', y='CO AQI')"
      ],
      "metadata": {
        "id": "nC94ca1tbBLO",
        "outputId": "e1482ea6-be5d-4c15-c3ec-98154f5b2d63",
        "colab": {
          "base_uri": "https://localhost:8080/",
          "height": 279
        }
      },
      "execution_count": 17,
      "outputs": [
        {
          "output_type": "display_data",
          "data": {
            "text/plain": [
              "<Figure size 432x288 with 1 Axes>"
            ],
            "image/png": "[encoded data removed]"
          },
          "metadata": {
            "needs_background": "light"
          }
        }
      ]
    },
    {
      "cell_type": "code",
      "source": [
        "lines = df.plot.line(x='State', y='CO AQI')"
      ],
      "metadata": {
        "id": "EcYg8-5QbHTa",
        "outputId": "37172e04-088c-469e-99a9-49de9119328a",
        "colab": {
          "base_uri": "https://localhost:8080/",
          "height": 279
        }
      },
      "execution_count": 18,
      "outputs": [
        {
          "output_type": "display_data",
          "data": {
            "text/plain": [
              "<Figure size 432x288 with 1 Axes>"
            ],
            "image/png": "[encoded data removed]"
          },
          "metadata": {
            "needs_background": "light"
          }
        }
      ]
    },
    {
      "cell_type": "code",
      "source": [
        "df1 = pd.DataFrame(df)"
      ],
      "metadata": {
        "id": "iGMfxxxibL1E"
      },
      "execution_count": 19,
      "outputs": []
    },
    {
      "cell_type": "code",
      "source": [
        "df1.State.unique()"
      ],
      "metadata": {
        "id": "9vJ9E4L8b2eT",
        "outputId": "c320013a-e305-4a96-ce01-8ac2cddd398b",
        "colab": {
          "base_uri": "https://localhost:8080/"
        }
      },
      "execution_count": 21,
      "outputs": [
        {
          "output_type": "execute_result",
          "data": {
            "text/plain": [
              "array(['Arizona', 'California', 'Colorado', 'District Of Columbia',\n",
              "       'Florida', 'Illinois', 'Indiana', 'Kansas', 'Kentucky',\n",
              "       'Louisiana', 'Michigan', 'Missouri', 'New Jersey', 'New York',\n",
              "       'North Carolina', 'Oklahoma', 'Pennsylvania', 'Texas', 'Virginia',\n",
              "       'Massachusetts', 'Nevada', 'New Hampshire', 'Tennessee',\n",
              "       'South Carolina', 'Connecticut', 'Iowa', 'Maine', 'Maryland',\n",
              "       'Wisconsin', 'Country Of Mexico', 'Arkansas', 'Oregon', 'Wyoming',\n",
              "       'North Dakota', 'Idaho', 'Ohio', 'Georgia', 'Delaware', 'Hawaii',\n",
              "       'Minnesota', 'New Mexico', 'Rhode Island', 'South Dakota', 'Utah',\n",
              "       'Alabama', 'Washington', 'Alaska'], dtype=object)"
            ]
          },
          "metadata": {},
          "execution_count": 21
        }
      ]
    },
    {
      "cell_type": "code",
      "source": [],
      "metadata": {
        "id": "zozDUzZ0b7zv"
      },
      "execution_count": null,
      "outputs": []
    }
  ]
}