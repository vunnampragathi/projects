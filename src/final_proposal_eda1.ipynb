{
  "nbformat": 4,
  "nbformat_minor": 0,
  "metadata": {
    "colab": {
      "provenance": [],
      "include_colab_link": true
    },
    "kernelspec": {
      "name": "python3",
      "display_name": "Python 3"
    },
    "language_info": {
      "name": "python"
    }
  },
  "cells": [
    {
      "cell_type": "markdown",
      "metadata": {
        "id": "view-in-github",
        "colab_type": "text"
      },
      "source": [
        "<a href=\"https://colab.research.google.com/github/vunnampragathi/projects/blob/main/src/final_proposal_eda1.ipynb\" target=\"_parent\"><img src=\"https://colab.research.google.com/assets/colab-badge.svg\" alt=\"Open In Colab\"/></a>"
      ]
    },
    {
      "cell_type": "code",
      "execution_count": 1,
      "metadata": {
        "id": "sUCGzSCtj_qL"
      },
      "outputs": [],
      "source": [
        "\n",
        "import pandas as pd\n",
        "import matplotlib.pyplot as plt\n",
        "import numpy as np"
      ]
    },
    {
      "cell_type": "code",
      "source": [
        "data = pd.read_csv(\"/content/uspollution_pollution_us_2000_2016.csv\",usecols = ['State','Date Local','NO2 AQI','NO2 Mean','O3 AQI','O3 Mean','CO AQI','CO Mean','SO2 AQI','SO2 Mean'])"
      ],
      "metadata": {
        "id": "omABX6t9kC7m"
      },
      "execution_count": 2,
      "outputs": []
    },
    {
      "cell_type": "markdown",
      "source": [
        "https://www.geeksforgeeks.org/reading-specific-columns-of-a-csv-file-using-pandas/"
      ],
      "metadata": {
        "id": "zSVx5vVuhHFD"
      }
    },
    {
      "cell_type": "code",
      "source": [
        "data"
      ],
      "metadata": {
        "id": "L9Mx-dI2Wi9q",
        "outputId": "71239494-01e6-4055-d257-21daaf32a69a",
        "colab": {
          "base_uri": "https://localhost:8080/",
          "height": 423
        }
      },
      "execution_count": 3,
      "outputs": [
        {
          "output_type": "execute_result",
          "data": {
            "text/plain": [
              "          State  Date Local   NO2 Mean  NO2 AQI   O3 Mean  O3 AQI   SO2 Mean  \\\n",
              "0       Arizona  2000-01-01  19.041667     46.0  0.022500    34.0   3.000000   \n",
              "1       Arizona  2000-01-01  19.041667     46.0  0.022500    34.0   3.000000   \n",
              "2       Arizona  2000-01-01  19.041667     46.0  0.022500    34.0   2.975000   \n",
              "3       Arizona  2000-01-01  19.041667     46.0  0.022500    34.0   2.975000   \n",
              "4       Arizona  2000-01-02  22.958333     34.0  0.013375    27.0   1.958333   \n",
              "...         ...         ...        ...      ...       ...     ...        ...   \n",
              "44830  Illinois  2000-05-24  28.041667     49.0  0.021792    32.0  11.833333   \n",
              "44831  Illinois  2000-05-24  28.041667     49.0  0.021792    32.0  11.833333   \n",
              "44832  Illinois  2000-05-24  28.041667     49.0  0.021792    32.0  11.800000   \n",
              "44833  Illinois  2000-05-24  28.041667     49.0  0.021792    32.0  11.800000   \n",
              "44834  Illinois          20        NaN      NaN       NaN     NaN        NaN   \n",
              "\n",
              "       SO2 AQI   CO Mean  CO AQI  \n",
              "0         13.0  1.145833     NaN  \n",
              "1         13.0  0.878947    25.0  \n",
              "2          NaN  1.145833     NaN  \n",
              "3          NaN  0.878947    25.0  \n",
              "4          4.0  0.850000     NaN  \n",
              "...        ...       ...     ...  \n",
              "44830     51.0  0.883333     NaN  \n",
              "44831     51.0  0.929167    14.0  \n",
              "44832      NaN  0.883333     NaN  \n",
              "44833      NaN  0.929167    14.0  \n",
              "44834      NaN       NaN     NaN  \n",
              "\n",
              "[44835 rows x 10 columns]"
            ],
            "text/html": [
              "\n",
              "  <div id=\"df-b3ad1726-047c-4f5f-91d7-f3378e04ed36\">\n",
              "    <div class=\"colab-df-container\">\n",
              "      <div>\n",
              "<style scoped>\n",
              "    .dataframe tbody tr th:only-of-type {\n",
              "        vertical-align: middle;\n",
              "    }\n",
              "\n",
              "    .dataframe tbody tr th {\n",
              "        vertical-align: top;\n",
              "    }\n",
              "\n",
              "    .dataframe thead th {\n",
              "        text-align: right;\n",
              "    }\n",
              "</style>\n",
              "<table border=\"1\" class=\"dataframe\">\n",
              "  <thead>\n",
              "    <tr style=\"text-align: right;\">\n",
              "      <th></th>\n",
              "      <th>State</th>\n",
              "      <th>Date Local</th>\n",
              "      <th>NO2 Mean</th>\n",
              "      <th>NO2 AQI</th>\n",
              "      <th>O3 Mean</th>\n",
              "      <th>O3 AQI</th>\n",
              "      <th>SO2 Mean</th>\n",
              "      <th>SO2 AQI</th>\n",
              "      <th>CO Mean</th>\n",
              "      <th>CO AQI</th>\n",
              "    </tr>\n",
              "  </thead>\n",
              "  <tbody>\n",
              "    <tr>\n",
              "      <th>0</th>\n",
              "      <td>Arizona</td>\n",
              "      <td>2000-01-01</td>\n",
              "      <td>19.041667</td>\n",
              "      <td>46.0</td>\n",
              "      <td>0.022500</td>\n",
              "      <td>34.0</td>\n",
              "      <td>3.000000</td>\n",
              "      <td>13.0</td>\n",
              "      <td>1.145833</td>\n",
              "      <td>NaN</td>\n",
              "    </tr>\n",
              "    <tr>\n",
              "      <th>1</th>\n",
              "      <td>Arizona</td>\n",
              "      <td>2000-01-01</td>\n",
              "      <td>19.041667</td>\n",
              "      <td>46.0</td>\n",
              "      <td>0.022500</td>\n",
              "      <td>34.0</td>\n",
              "      <td>3.000000</td>\n",
              "      <td>13.0</td>\n",
              "      <td>0.878947</td>\n",
              "      <td>25.0</td>\n",
              "    </tr>\n",
              "    <tr>\n",
              "      <th>2</th>\n",
              "      <td>Arizona</td>\n",
              "      <td>2000-01-01</td>\n",
              "      <td>19.041667</td>\n",
              "      <td>46.0</td>\n",
              "      <td>0.022500</td>\n",
              "      <td>34.0</td>\n",
              "      <td>2.975000</td>\n",
              "      <td>NaN</td>\n",
              "      <td>1.145833</td>\n",
              "      <td>NaN</td>\n",
              "    </tr>\n",
              "    <tr>\n",
              "      <th>3</th>\n",
              "      <td>Arizona</td>\n",
              "      <td>2000-01-01</td>\n",
              "      <td>19.041667</td>\n",
              "      <td>46.0</td>\n",
              "      <td>0.022500</td>\n",
              "      <td>34.0</td>\n",
              "      <td>2.975000</td>\n",
              "      <td>NaN</td>\n",
              "      <td>0.878947</td>\n",
              "      <td>25.0</td>\n",
              "    </tr>\n",
              "    <tr>\n",
              "      <th>4</th>\n",
              "      <td>Arizona</td>\n",
              "      <td>2000-01-02</td>\n",
              "      <td>22.958333</td>\n",
              "      <td>34.0</td>\n",
              "      <td>0.013375</td>\n",
              "      <td>27.0</td>\n",
              "      <td>1.958333</td>\n",
              "      <td>4.0</td>\n",
              "      <td>0.850000</td>\n",
              "      <td>NaN</td>\n",
              "    </tr>\n",
              "    <tr>\n",
              "      <th>...</th>\n",
              "      <td>...</td>\n",
              "      <td>...</td>\n",
              "      <td>...</td>\n",
              "      <td>...</td>\n",
              "      <td>...</td>\n",
              "      <td>...</td>\n",
              "      <td>...</td>\n",
              "      <td>...</td>\n",
              "      <td>...</td>\n",
              "      <td>...</td>\n",
              "    </tr>\n",
              "    <tr>\n",
              "      <th>44830</th>\n",
              "      <td>Illinois</td>\n",
              "      <td>2000-05-24</td>\n",
              "      <td>28.041667</td>\n",
              "      <td>49.0</td>\n",
              "      <td>0.021792</td>\n",
              "      <td>32.0</td>\n",
              "      <td>11.833333</td>\n",
              "      <td>51.0</td>\n",
              "      <td>0.883333</td>\n",
              "      <td>NaN</td>\n",
              "    </tr>\n",
              "    <tr>\n",
              "      <th>44831</th>\n",
              "      <td>Illinois</td>\n",
              "      <td>2000-05-24</td>\n",
              "      <td>28.041667</td>\n",
              "      <td>49.0</td>\n",
              "      <td>0.021792</td>\n",
              "      <td>32.0</td>\n",
              "      <td>11.833333</td>\n",
              "      <td>51.0</td>\n",
              "      <td>0.929167</td>\n",
              "      <td>14.0</td>\n",
              "    </tr>\n",
              "    <tr>\n",
              "      <th>44832</th>\n",
              "      <td>Illinois</td>\n",
              "      <td>2000-05-24</td>\n",
              "      <td>28.041667</td>\n",
              "      <td>49.0</td>\n",
              "      <td>0.021792</td>\n",
              "      <td>32.0</td>\n",
              "      <td>11.800000</td>\n",
              "      <td>NaN</td>\n",
              "      <td>0.883333</td>\n",
              "      <td>NaN</td>\n",
              "    </tr>\n",
              "    <tr>\n",
              "      <th>44833</th>\n",
              "      <td>Illinois</td>\n",
              "      <td>2000-05-24</td>\n",
              "      <td>28.041667</td>\n",
              "      <td>49.0</td>\n",
              "      <td>0.021792</td>\n",
              "      <td>32.0</td>\n",
              "      <td>11.800000</td>\n",
              "      <td>NaN</td>\n",
              "      <td>0.929167</td>\n",
              "      <td>14.0</td>\n",
              "    </tr>\n",
              "    <tr>\n",
              "      <th>44834</th>\n",
              "      <td>Illinois</td>\n",
              "      <td>20</td>\n",
              "      <td>NaN</td>\n",
              "      <td>NaN</td>\n",
              "      <td>NaN</td>\n",
              "      <td>NaN</td>\n",
              "      <td>NaN</td>\n",
              "      <td>NaN</td>\n",
              "      <td>NaN</td>\n",
              "      <td>NaN</td>\n",
              "    </tr>\n",
              "  </tbody>\n",
              "</table>\n",
              "<p>44835 rows × 10 columns</p>\n",
              "</div>\n",
              "      <button class=\"colab-df-convert\" onclick=\"convertToInteractive('df-b3ad1726-047c-4f5f-91d7-f3378e04ed36')\"\n",
              "              title=\"Convert this dataframe to an interactive table.\"\n",
              "              style=\"display:none;\">\n",
              "        \n",
              "  <svg xmlns=\"http://www.w3.org/2000/svg\" height=\"24px\"viewBox=\"0 0 24 24\"\n",
              "       width=\"24px\">\n",
              "    <path d=\"M0 0h24v24H0V0z\" fill=\"none\"/>\n",
              "    <path d=\"M18.56 5.44l.94 2.06.94-2.06 2.06-.94-2.06-.94-.94-2.06-.94 2.06-2.06.94zm-11 1L8.5 8.5l.94-2.06 2.06-.94-2.06-.94L8.5 2.5l-.94 2.06-2.06.94zm10 10l.94 2.06.94-2.06 2.06-.94-2.06-.94-.94-2.06-.94 2.06-2.06.94z\"/><path d=\"M17.41 7.96l-1.37-1.37c-.4-.4-.92-.59-1.43-.59-.52 0-1.04.2-1.43.59L10.3 9.45l-7.72 7.72c-.78.78-.78 2.05 0 2.83L4 21.41c.39.39.9.59 1.41.59.51 0 1.02-.2 1.41-.59l7.78-7.78 2.81-2.81c.8-.78.8-2.07 0-2.86zM5.41 20L4 18.59l7.72-7.72 1.47 1.35L5.41 20z\"/>\n",
              "  </svg>\n",
              "      </button>\n",
              "      \n",
              "  <style>\n",
              "    .colab-df-container {\n",
              "      display:flex;\n",
              "      flex-wrap:wrap;\n",
              "      gap: 12px;\n",
              "    }\n",
              "\n",
              "    .colab-df-convert {\n",
              "      background-color: #E8F0FE;\n",
              "      border: none;\n",
              "      border-radius: 50%;\n",
              "      cursor: pointer;\n",
              "      display: none;\n",
              "      fill: #1967D2;\n",
              "      height: 32px;\n",
              "      padding: 0 0 0 0;\n",
              "      width: 32px;\n",
              "    }\n",
              "\n",
              "    .colab-df-convert:hover {\n",
              "      background-color: #E2EBFA;\n",
              "      box-shadow: 0px 1px 2px rgba(60, 64, 67, 0.3), 0px 1px 3px 1px rgba(60, 64, 67, 0.15);\n",
              "      fill: #174EA6;\n",
              "    }\n",
              "\n",
              "    [theme=dark] .colab-df-convert {\n",
              "      background-color: #3B4455;\n",
              "      fill: #D2E3FC;\n",
              "    }\n",
              "\n",
              "    [theme=dark] .colab-df-convert:hover {\n",
              "      background-color: #434B5C;\n",
              "      box-shadow: 0px 1px 3px 1px rgba(0, 0, 0, 0.15);\n",
              "      filter: drop-shadow(0px 1px 2px rgba(0, 0, 0, 0.3));\n",
              "      fill: #FFFFFF;\n",
              "    }\n",
              "  </style>\n",
              "\n",
              "      <script>\n",
              "        const buttonEl =\n",
              "          document.querySelector('#df-b3ad1726-047c-4f5f-91d7-f3378e04ed36 button.colab-df-convert');\n",
              "        buttonEl.style.display =\n",
              "          google.colab.kernel.accessAllowed ? 'block' : 'none';\n",
              "\n",
              "        async function convertToInteractive(key) {\n",
              "          const element = document.querySelector('#df-b3ad1726-047c-4f5f-91d7-f3378e04ed36');\n",
              "          const dataTable =\n",
              "            await google.colab.kernel.invokeFunction('convertToInteractive',\n",
              "                                                     [key], {});\n",
              "          if (!dataTable) return;\n",
              "\n",
              "          const docLinkHtml = 'Like what you see? Visit the ' +\n",
              "            '<a target=\"_blank\" href=https://colab.research.google.com/notebooks/data_table.ipynb>data table notebook</a>'\n",
              "            + ' to learn more about interactive tables.';\n",
              "          element.innerHTML = '';\n",
              "          dataTable['output_type'] = 'display_data';\n",
              "          await google.colab.output.renderOutput(dataTable, element);\n",
              "          const docLink = document.createElement('div');\n",
              "          docLink.innerHTML = docLinkHtml;\n",
              "          element.appendChild(docLink);\n",
              "        }\n",
              "      </script>\n",
              "    </div>\n",
              "  </div>\n",
              "  "
            ]
          },
          "metadata": {},
          "execution_count": 3
        }
      ]
    },
    {
      "cell_type": "code",
      "source": [
        "\n",
        "data.shape"
      ],
      "metadata": {
        "colab": {
          "base_uri": "https://localhost:8080/"
        },
        "id": "7LB_NH6HqYtr",
        "outputId": "9fa10a5e-dd15-448c-c900-d270ae40c1e2"
      },
      "execution_count": 4,
      "outputs": [
        {
          "output_type": "execute_result",
          "data": {
            "text/plain": [
              "(44835, 10)"
            ]
          },
          "metadata": {},
          "execution_count": 4
        }
      ]
    },
    {
      "cell_type": "code",
      "source": [
        "data.info"
      ],
      "metadata": {
        "colab": {
          "base_uri": "https://localhost:8080/"
        },
        "id": "I-poLuGbqb-U",
        "outputId": "79a053b6-7588-4817-c44a-1cbd99c43718"
      },
      "execution_count": 5,
      "outputs": [
        {
          "output_type": "execute_result",
          "data": {
            "text/plain": [
              "<bound method DataFrame.info of           State  Date Local   NO2 Mean  NO2 AQI   O3 Mean  O3 AQI   SO2 Mean  \\\n",
              "0       Arizona  2000-01-01  19.041667     46.0  0.022500    34.0   3.000000   \n",
              "1       Arizona  2000-01-01  19.041667     46.0  0.022500    34.0   3.000000   \n",
              "2       Arizona  2000-01-01  19.041667     46.0  0.022500    34.0   2.975000   \n",
              "3       Arizona  2000-01-01  19.041667     46.0  0.022500    34.0   2.975000   \n",
              "4       Arizona  2000-01-02  22.958333     34.0  0.013375    27.0   1.958333   \n",
              "...         ...         ...        ...      ...       ...     ...        ...   \n",
              "44830  Illinois  2000-05-24  28.041667     49.0  0.021792    32.0  11.833333   \n",
              "44831  Illinois  2000-05-24  28.041667     49.0  0.021792    32.0  11.833333   \n",
              "44832  Illinois  2000-05-24  28.041667     49.0  0.021792    32.0  11.800000   \n",
              "44833  Illinois  2000-05-24  28.041667     49.0  0.021792    32.0  11.800000   \n",
              "44834  Illinois          20        NaN      NaN       NaN     NaN        NaN   \n",
              "\n",
              "       SO2 AQI   CO Mean  CO AQI  \n",
              "0         13.0  1.145833     NaN  \n",
              "1         13.0  0.878947    25.0  \n",
              "2          NaN  1.145833     NaN  \n",
              "3          NaN  0.878947    25.0  \n",
              "4          4.0  0.850000     NaN  \n",
              "...        ...       ...     ...  \n",
              "44830     51.0  0.883333     NaN  \n",
              "44831     51.0  0.929167    14.0  \n",
              "44832      NaN  0.883333     NaN  \n",
              "44833      NaN  0.929167    14.0  \n",
              "44834      NaN       NaN     NaN  \n",
              "\n",
              "[44835 rows x 10 columns]>"
            ]
          },
          "metadata": {},
          "execution_count": 5
        }
      ]
    },
    {
      "cell_type": "code",
      "source": [
        "data.dtypes"
      ],
      "metadata": {
        "colab": {
          "base_uri": "https://localhost:8080/"
        },
        "id": "F4dXH3AAqeGz",
        "outputId": "7169f0eb-86b8-4dbc-e624-ca630b060f2e"
      },
      "execution_count": 6,
      "outputs": [
        {
          "output_type": "execute_result",
          "data": {
            "text/plain": [
              "State          object\n",
              "Date Local     object\n",
              "NO2 Mean      float64\n",
              "NO2 AQI       float64\n",
              "O3 Mean       float64\n",
              "O3 AQI        float64\n",
              "SO2 Mean      float64\n",
              "SO2 AQI       float64\n",
              "CO Mean       float64\n",
              "CO AQI        float64\n",
              "dtype: object"
            ]
          },
          "metadata": {},
          "execution_count": 6
        }
      ]
    },
    {
      "cell_type": "code",
      "source": [
        "data.isna().sum()"
      ],
      "metadata": {
        "id": "tJ3md7vHiNhI",
        "outputId": "8a7bed00-1ab5-400c-d093-25a1344a989c",
        "colab": {
          "base_uri": "https://localhost:8080/"
        }
      },
      "execution_count": 7,
      "outputs": [
        {
          "output_type": "execute_result",
          "data": {
            "text/plain": [
              "State             0\n",
              "Date Local        0\n",
              "NO2 Mean          1\n",
              "NO2 AQI           1\n",
              "O3 Mean           1\n",
              "O3 AQI            1\n",
              "SO2 Mean          1\n",
              "SO2 AQI       22415\n",
              "CO Mean           1\n",
              "CO AQI        22418\n",
              "dtype: int64"
            ]
          },
          "metadata": {},
          "execution_count": 7
        }
      ]
    },
    {
      "cell_type": "code",
      "source": [
        "df=data.fillna(method='ffill')\n",
        "df"
      ],
      "metadata": {
        "id": "0bL4CpowjMOA",
        "outputId": "b9a153d8-2e64-43ac-986c-5404333b4b5c",
        "colab": {
          "base_uri": "https://localhost:8080/",
          "height": 423
        }
      },
      "execution_count": 8,
      "outputs": [
        {
          "output_type": "execute_result",
          "data": {
            "text/plain": [
              "          State  Date Local   NO2 Mean  NO2 AQI   O3 Mean  O3 AQI   SO2 Mean  \\\n",
              "0       Arizona  2000-01-01  19.041667     46.0  0.022500    34.0   3.000000   \n",
              "1       Arizona  2000-01-01  19.041667     46.0  0.022500    34.0   3.000000   \n",
              "2       Arizona  2000-01-01  19.041667     46.0  0.022500    34.0   2.975000   \n",
              "3       Arizona  2000-01-01  19.041667     46.0  0.022500    34.0   2.975000   \n",
              "4       Arizona  2000-01-02  22.958333     34.0  0.013375    27.0   1.958333   \n",
              "...         ...         ...        ...      ...       ...     ...        ...   \n",
              "44830  Illinois  2000-05-24  28.041667     49.0  0.021792    32.0  11.833333   \n",
              "44831  Illinois  2000-05-24  28.041667     49.0  0.021792    32.0  11.833333   \n",
              "44832  Illinois  2000-05-24  28.041667     49.0  0.021792    32.0  11.800000   \n",
              "44833  Illinois  2000-05-24  28.041667     49.0  0.021792    32.0  11.800000   \n",
              "44834  Illinois          20  28.041667     49.0  0.021792    32.0  11.800000   \n",
              "\n",
              "       SO2 AQI   CO Mean  CO AQI  \n",
              "0         13.0  1.145833     NaN  \n",
              "1         13.0  0.878947    25.0  \n",
              "2         13.0  1.145833    25.0  \n",
              "3         13.0  0.878947    25.0  \n",
              "4          4.0  0.850000    25.0  \n",
              "...        ...       ...     ...  \n",
              "44830     51.0  0.883333     9.0  \n",
              "44831     51.0  0.929167    14.0  \n",
              "44832     51.0  0.883333    14.0  \n",
              "44833     51.0  0.929167    14.0  \n",
              "44834     51.0  0.929167    14.0  \n",
              "\n",
              "[44835 rows x 10 columns]"
            ],
            "text/html": [
              "\n",
              "  <div id=\"df-06995dc5-0f84-4f42-a343-5a64503d46ec\">\n",
              "    <div class=\"colab-df-container\">\n",
              "      <div>\n",
              "<style scoped>\n",
              "    .dataframe tbody tr th:only-of-type {\n",
              "        vertical-align: middle;\n",
              "    }\n",
              "\n",
              "    .dataframe tbody tr th {\n",
              "        vertical-align: top;\n",
              "    }\n",
              "\n",
              "    .dataframe thead th {\n",
              "        text-align: right;\n",
              "    }\n",
              "</style>\n",
              "<table border=\"1\" class=\"dataframe\">\n",
              "  <thead>\n",
              "    <tr style=\"text-align: right;\">\n",
              "      <th></th>\n",
              "      <th>State</th>\n",
              "      <th>Date Local</th>\n",
              "      <th>NO2 Mean</th>\n",
              "      <th>NO2 AQI</th>\n",
              "      <th>O3 Mean</th>\n",
              "      <th>O3 AQI</th>\n",
              "      <th>SO2 Mean</th>\n",
              "      <th>SO2 AQI</th>\n",
              "      <th>CO Mean</th>\n",
              "      <th>CO AQI</th>\n",
              "    </tr>\n",
              "  </thead>\n",
              "  <tbody>\n",
              "    <tr>\n",
              "      <th>0</th>\n",
              "      <td>Arizona</td>\n",
              "      <td>2000-01-01</td>\n",
              "      <td>19.041667</td>\n",
              "      <td>46.0</td>\n",
              "      <td>0.022500</td>\n",
              "      <td>34.0</td>\n",
              "      <td>3.000000</td>\n",
              "      <td>13.0</td>\n",
              "      <td>1.145833</td>\n",
              "      <td>NaN</td>\n",
              "    </tr>\n",
              "    <tr>\n",
              "      <th>1</th>\n",
              "      <td>Arizona</td>\n",
              "      <td>2000-01-01</td>\n",
              "      <td>19.041667</td>\n",
              "      <td>46.0</td>\n",
              "      <td>0.022500</td>\n",
              "      <td>34.0</td>\n",
              "      <td>3.000000</td>\n",
              "      <td>13.0</td>\n",
              "      <td>0.878947</td>\n",
              "      <td>25.0</td>\n",
              "    </tr>\n",
              "    <tr>\n",
              "      <th>2</th>\n",
              "      <td>Arizona</td>\n",
              "      <td>2000-01-01</td>\n",
              "      <td>19.041667</td>\n",
              "      <td>46.0</td>\n",
              "      <td>0.022500</td>\n",
              "      <td>34.0</td>\n",
              "      <td>2.975000</td>\n",
              "      <td>13.0</td>\n",
              "      <td>1.145833</td>\n",
              "      <td>25.0</td>\n",
              "    </tr>\n",
              "    <tr>\n",
              "      <th>3</th>\n",
              "      <td>Arizona</td>\n",
              "      <td>2000-01-01</td>\n",
              "      <td>19.041667</td>\n",
              "      <td>46.0</td>\n",
              "      <td>0.022500</td>\n",
              "      <td>34.0</td>\n",
              "      <td>2.975000</td>\n",
              "      <td>13.0</td>\n",
              "      <td>0.878947</td>\n",
              "      <td>25.0</td>\n",
              "    </tr>\n",
              "    <tr>\n",
              "      <th>4</th>\n",
              "      <td>Arizona</td>\n",
              "      <td>2000-01-02</td>\n",
              "      <td>22.958333</td>\n",
              "      <td>34.0</td>\n",
              "      <td>0.013375</td>\n",
              "      <td>27.0</td>\n",
              "      <td>1.958333</td>\n",
              "      <td>4.0</td>\n",
              "      <td>0.850000</td>\n",
              "      <td>25.0</td>\n",
              "    </tr>\n",
              "    <tr>\n",
              "      <th>...</th>\n",
              "      <td>...</td>\n",
              "      <td>...</td>\n",
              "      <td>...</td>\n",
              "      <td>...</td>\n",
              "      <td>...</td>\n",
              "      <td>...</td>\n",
              "      <td>...</td>\n",
              "      <td>...</td>\n",
              "      <td>...</td>\n",
              "      <td>...</td>\n",
              "    </tr>\n",
              "    <tr>\n",
              "      <th>44830</th>\n",
              "      <td>Illinois</td>\n",
              "      <td>2000-05-24</td>\n",
              "      <td>28.041667</td>\n",
              "      <td>49.0</td>\n",
              "      <td>0.021792</td>\n",
              "      <td>32.0</td>\n",
              "      <td>11.833333</td>\n",
              "      <td>51.0</td>\n",
              "      <td>0.883333</td>\n",
              "      <td>9.0</td>\n",
              "    </tr>\n",
              "    <tr>\n",
              "      <th>44831</th>\n",
              "      <td>Illinois</td>\n",
              "      <td>2000-05-24</td>\n",
              "      <td>28.041667</td>\n",
              "      <td>49.0</td>\n",
              "      <td>0.021792</td>\n",
              "      <td>32.0</td>\n",
              "      <td>11.833333</td>\n",
              "      <td>51.0</td>\n",
              "      <td>0.929167</td>\n",
              "      <td>14.0</td>\n",
              "    </tr>\n",
              "    <tr>\n",
              "      <th>44832</th>\n",
              "      <td>Illinois</td>\n",
              "      <td>2000-05-24</td>\n",
              "      <td>28.041667</td>\n",
              "      <td>49.0</td>\n",
              "      <td>0.021792</td>\n",
              "      <td>32.0</td>\n",
              "      <td>11.800000</td>\n",
              "      <td>51.0</td>\n",
              "      <td>0.883333</td>\n",
              "      <td>14.0</td>\n",
              "    </tr>\n",
              "    <tr>\n",
              "      <th>44833</th>\n",
              "      <td>Illinois</td>\n",
              "      <td>2000-05-24</td>\n",
              "      <td>28.041667</td>\n",
              "      <td>49.0</td>\n",
              "      <td>0.021792</td>\n",
              "      <td>32.0</td>\n",
              "      <td>11.800000</td>\n",
              "      <td>51.0</td>\n",
              "      <td>0.929167</td>\n",
              "      <td>14.0</td>\n",
              "    </tr>\n",
              "    <tr>\n",
              "      <th>44834</th>\n",
              "      <td>Illinois</td>\n",
              "      <td>20</td>\n",
              "      <td>28.041667</td>\n",
              "      <td>49.0</td>\n",
              "      <td>0.021792</td>\n",
              "      <td>32.0</td>\n",
              "      <td>11.800000</td>\n",
              "      <td>51.0</td>\n",
              "      <td>0.929167</td>\n",
              "      <td>14.0</td>\n",
              "    </tr>\n",
              "  </tbody>\n",
              "</table>\n",
              "<p>44835 rows × 10 columns</p>\n",
              "</div>\n",
              "      <button class=\"colab-df-convert\" onclick=\"convertToInteractive('df-06995dc5-0f84-4f42-a343-5a64503d46ec')\"\n",
              "              title=\"Convert this dataframe to an interactive table.\"\n",
              "              style=\"display:none;\">\n",
              "        \n",
              "  <svg xmlns=\"http://www.w3.org/2000/svg\" height=\"24px\"viewBox=\"0 0 24 24\"\n",
              "       width=\"24px\">\n",
              "    <path d=\"M0 0h24v24H0V0z\" fill=\"none\"/>\n",
              "    <path d=\"M18.56 5.44l.94 2.06.94-2.06 2.06-.94-2.06-.94-.94-2.06-.94 2.06-2.06.94zm-11 1L8.5 8.5l.94-2.06 2.06-.94-2.06-.94L8.5 2.5l-.94 2.06-2.06.94zm10 10l.94 2.06.94-2.06 2.06-.94-2.06-.94-.94-2.06-.94 2.06-2.06.94z\"/><path d=\"M17.41 7.96l-1.37-1.37c-.4-.4-.92-.59-1.43-.59-.52 0-1.04.2-1.43.59L10.3 9.45l-7.72 7.72c-.78.78-.78 2.05 0 2.83L4 21.41c.39.39.9.59 1.41.59.51 0 1.02-.2 1.41-.59l7.78-7.78 2.81-2.81c.8-.78.8-2.07 0-2.86zM5.41 20L4 18.59l7.72-7.72 1.47 1.35L5.41 20z\"/>\n",
              "  </svg>\n",
              "      </button>\n",
              "      \n",
              "  <style>\n",
              "    .colab-df-container {\n",
              "      display:flex;\n",
              "      flex-wrap:wrap;\n",
              "      gap: 12px;\n",
              "    }\n",
              "\n",
              "    .colab-df-convert {\n",
              "      background-color: #E8F0FE;\n",
              "      border: none;\n",
              "      border-radius: 50%;\n",
              "      cursor: pointer;\n",
              "      display: none;\n",
              "      fill: #1967D2;\n",
              "      height: 32px;\n",
              "      padding: 0 0 0 0;\n",
              "      width: 32px;\n",
              "    }\n",
              "\n",
              "    .colab-df-convert:hover {\n",
              "      background-color: #E2EBFA;\n",
              "      box-shadow: 0px 1px 2px rgba(60, 64, 67, 0.3), 0px 1px 3px 1px rgba(60, 64, 67, 0.15);\n",
              "      fill: #174EA6;\n",
              "    }\n",
              "\n",
              "    [theme=dark] .colab-df-convert {\n",
              "      background-color: #3B4455;\n",
              "      fill: #D2E3FC;\n",
              "    }\n",
              "\n",
              "    [theme=dark] .colab-df-convert:hover {\n",
              "      background-color: #434B5C;\n",
              "      box-shadow: 0px 1px 3px 1px rgba(0, 0, 0, 0.15);\n",
              "      filter: drop-shadow(0px 1px 2px rgba(0, 0, 0, 0.3));\n",
              "      fill: #FFFFFF;\n",
              "    }\n",
              "  </style>\n",
              "\n",
              "      <script>\n",
              "        const buttonEl =\n",
              "          document.querySelector('#df-06995dc5-0f84-4f42-a343-5a64503d46ec button.colab-df-convert');\n",
              "        buttonEl.style.display =\n",
              "          google.colab.kernel.accessAllowed ? 'block' : 'none';\n",
              "\n",
              "        async function convertToInteractive(key) {\n",
              "          const element = document.querySelector('#df-06995dc5-0f84-4f42-a343-5a64503d46ec');\n",
              "          const dataTable =\n",
              "            await google.colab.kernel.invokeFunction('convertToInteractive',\n",
              "                                                     [key], {});\n",
              "          if (!dataTable) return;\n",
              "\n",
              "          const docLinkHtml = 'Like what you see? Visit the ' +\n",
              "            '<a target=\"_blank\" href=https://colab.research.google.com/notebooks/data_table.ipynb>data table notebook</a>'\n",
              "            + ' to learn more about interactive tables.';\n",
              "          element.innerHTML = '';\n",
              "          dataTable['output_type'] = 'display_data';\n",
              "          await google.colab.output.renderOutput(dataTable, element);\n",
              "          const docLink = document.createElement('div');\n",
              "          docLink.innerHTML = docLinkHtml;\n",
              "          element.appendChild(docLink);\n",
              "        }\n",
              "      </script>\n",
              "    </div>\n",
              "  </div>\n",
              "  "
            ]
          },
          "metadata": {},
          "execution_count": 8
        }
      ]
    },
    {
      "cell_type": "code",
      "source": [
        "df.isna().sum()"
      ],
      "metadata": {
        "id": "69kvwgVMjk0s",
        "outputId": "9b455550-05b9-444c-ef8a-a3a5686e431e",
        "colab": {
          "base_uri": "https://localhost:8080/"
        }
      },
      "execution_count": 9,
      "outputs": [
        {
          "output_type": "execute_result",
          "data": {
            "text/plain": [
              "State         0\n",
              "Date Local    0\n",
              "NO2 Mean      0\n",
              "NO2 AQI       0\n",
              "O3 Mean       0\n",
              "O3 AQI        0\n",
              "SO2 Mean      0\n",
              "SO2 AQI       0\n",
              "CO Mean       0\n",
              "CO AQI        1\n",
              "dtype: int64"
            ]
          },
          "metadata": {},
          "execution_count": 9
        }
      ]
    },
    {
      "cell_type": "code",
      "source": [
        "df=df.fillna(method='bfill')"
      ],
      "metadata": {
        "id": "ZZKj_KjRj1MD"
      },
      "execution_count": 10,
      "outputs": []
    },
    {
      "cell_type": "code",
      "source": [
        "df.isna().sum()"
      ],
      "metadata": {
        "id": "p34k7uudj77n",
        "outputId": "9c162658-3b2b-4de6-8698-04b03fb1e5fe",
        "colab": {
          "base_uri": "https://localhost:8080/"
        }
      },
      "execution_count": 11,
      "outputs": [
        {
          "output_type": "execute_result",
          "data": {
            "text/plain": [
              "State         0\n",
              "Date Local    0\n",
              "NO2 Mean      0\n",
              "NO2 AQI       0\n",
              "O3 Mean       0\n",
              "O3 AQI        0\n",
              "SO2 Mean      0\n",
              "SO2 AQI       0\n",
              "CO Mean       0\n",
              "CO AQI        0\n",
              "dtype: int64"
            ]
          },
          "metadata": {},
          "execution_count": 11
        }
      ]
    },
    {
      "cell_type": "code",
      "source": [
        "df.shape"
      ],
      "metadata": {
        "colab": {
          "base_uri": "https://localhost:8080/"
        },
        "id": "gPpvcC9VqmNt",
        "outputId": "dc2e4ab1-f660-4719-b45f-ea5219c26740"
      },
      "execution_count": 12,
      "outputs": [
        {
          "output_type": "execute_result",
          "data": {
            "text/plain": [
              "(44835, 10)"
            ]
          },
          "metadata": {},
          "execution_count": 12
        }
      ]
    },
    {
      "cell_type": "code",
      "source": [
        "df1=df.groupby(df['State'])['NO2 AQI'].sum()\n",
        "df1\n",
        "df1.plot(kind='bar')"
      ],
      "metadata": {
        "id": "Z8qP9HDonZNl",
        "outputId": "aba90271-8894-45b7-8a3d-22d051a687aa",
        "colab": {
          "base_uri": "https://localhost:8080/",
          "height": 398
        }
      },
      "execution_count": 13,
      "outputs": [
        {
          "output_type": "execute_result",
          "data": {
            "text/plain": [
              "<AxesSubplot:xlabel='State'>"
            ]
          },
          "metadata": {},
          "execution_count": 13
        },
        {
          "output_type": "display_data",
          "data": {
            "text/plain": [
              "<Figure size 432x288 with 1 Axes>"
            ],
            "image/png": "[encoded data removed]"
          },
          "metadata": {
            "needs_background": "light"
          }
        }
      ]
    },
    {
      "cell_type": "code",
      "source": [
        "df2=df.groupby(df['State'])['O3 AQI'].sum()\n",
        "df2\n",
        "df2.plot(kind='bar')"
      ],
      "metadata": {
        "id": "27R0n6Jl3Jj5",
        "outputId": "cfad80d9-b566-473f-edd6-bdbc01053143",
        "colab": {
          "base_uri": "https://localhost:8080/",
          "height": 398
        }
      },
      "execution_count": 14,
      "outputs": [
        {
          "output_type": "execute_result",
          "data": {
            "text/plain": [
              "<AxesSubplot:xlabel='State'>"
            ]
          },
          "metadata": {},
          "execution_count": 14
        },
        {
          "output_type": "display_data",
          "data": {
            "text/plain": [
              "<Figure size 432x288 with 1 Axes>"
            ],
            "image/png": "[encoded data removed]"
          },
          "metadata": {
            "needs_background": "light"
          }
        }
      ]
    },
    {
      "cell_type": "code",
      "source": [
        "df3=df.groupby(df['State'])['SO2 AQI'].sum()\n",
        "df3\n",
        "df3.plot(kind='bar')"
      ],
      "metadata": {
        "id": "zo-kPUWu4rAR",
        "outputId": "3b19092f-59f1-4211-c277-fb276d9db97f",
        "colab": {
          "base_uri": "https://localhost:8080/",
          "height": 387
        }
      },
      "execution_count": 15,
      "outputs": [
        {
          "output_type": "execute_result",
          "data": {
            "text/plain": [
              "<AxesSubplot:xlabel='State'>"
            ]
          },
          "metadata": {},
          "execution_count": 15
        },
        {
          "output_type": "display_data",
          "data": {
            "text/plain": [
              "<Figure size 432x288 with 1 Axes>"
            ],
            "image/png": "[encoded data removed]"
          },
          "metadata": {
            "needs_background": "light"
          }
        }
      ]
    },
    {
      "cell_type": "code",
      "source": [
        "df4=df.groupby(df['State'])['CO AQI'].sum()\n",
        "df4\n",
        "df4.plot(kind='bar')"
      ],
      "metadata": {
        "id": "5_5Jbg9x4wMi",
        "outputId": "e98593fe-db0d-4127-e080-3dd9d472a869",
        "colab": {
          "base_uri": "https://localhost:8080/",
          "height": 387
        }
      },
      "execution_count": 16,
      "outputs": [
        {
          "output_type": "execute_result",
          "data": {
            "text/plain": [
              "<AxesSubplot:xlabel='State'>"
            ]
          },
          "metadata": {},
          "execution_count": 16
        },
        {
          "output_type": "display_data",
          "data": {
            "text/plain": [
              "<Figure size 432x288 with 1 Axes>"
            ],
            "image/png": "[encoded data removed]"
          },
          "metadata": {
            "needs_background": "light"
          }
        }
      ]
    },
    {
      "cell_type": "markdown",
      "source": [
        "https://www.statology.org/pandas-groupby-bar-plot/"
      ],
      "metadata": {
        "id": "VHD-qa3k4558"
      }
    },
    {
      "cell_type": "code",
      "source": [
        "df1 = pd.DataFrame(df)"
      ],
      "metadata": {
        "id": "iGMfxxxibL1E"
      },
      "execution_count": 17,
      "outputs": []
    },
    {
      "cell_type": "code",
      "source": [
        "df1.State.unique()"
      ],
      "metadata": {
        "id": "9vJ9E4L8b2eT",
        "outputId": "53dfecc9-db13-412e-9dd3-1542ab422d8d",
        "colab": {
          "base_uri": "https://localhost:8080/"
        }
      },
      "execution_count": 18,
      "outputs": [
        {
          "output_type": "execute_result",
          "data": {
            "text/plain": [
              "array(['Arizona', 'California', 'Colorado', 'District Of Columbia',\n",
              "       'Florida', 'Illinois'], dtype=object)"
            ]
          },
          "metadata": {},
          "execution_count": 18
        }
      ]
    },
    {
      "cell_type": "code",
      "source": [
        "df2=df1.loc[df['State'] == \"California\"]"
      ],
      "metadata": {
        "id": "vcq-h7ocFqNy"
      },
      "execution_count": 19,
      "outputs": []
    },
    {
      "cell_type": "code",
      "source": [
        "df2"
      ],
      "metadata": {
        "id": "0rQgwQ3_JcTJ",
        "outputId": "484a8936-64e0-4606-83ed-60977a9fad6b",
        "colab": {
          "base_uri": "https://localhost:8080/",
          "height": 423
        }
      },
      "execution_count": 20,
      "outputs": [
        {
          "output_type": "execute_result",
          "data": {
            "text/plain": [
              "            State  Date Local   NO2 Mean  NO2 AQI   O3 Mean  O3 AQI  SO2 Mean  \\\n",
              "3516   California  2000-01-01  14.782609     25.0  0.015542    25.0  0.636364   \n",
              "3517   California  2000-01-01  14.782609     25.0  0.015542    25.0  0.636364   \n",
              "3518   California  2000-01-01  14.782609     25.0  0.015542    25.0  0.600000   \n",
              "3519   California  2000-01-01  14.782609     25.0  0.015542    25.0  0.600000   \n",
              "3520   California  2000-01-02  16.043478     28.0  0.015292    27.0  1.000000   \n",
              "...           ...         ...        ...      ...       ...     ...       ...   \n",
              "38301  California  2000-12-30  29.826087     39.0  0.005458    13.0  0.414286   \n",
              "38302  California  2000-12-31  34.130435     48.0  0.006895    13.0  0.043478   \n",
              "38303  California  2000-12-31  34.130435     48.0  0.006895    13.0  0.043478   \n",
              "38304  California  2000-12-31  34.130435     48.0  0.006895    13.0  0.042857   \n",
              "38305  California  2000-12-31  34.130435     48.0  0.006895    13.0  0.042857   \n",
              "\n",
              "       SO2 AQI   CO Mean  CO AQI  \n",
              "3516       3.0  0.556522    22.0  \n",
              "3517       3.0  0.572222     9.0  \n",
              "3518       3.0  0.556522     9.0  \n",
              "3519       3.0  0.572222     9.0  \n",
              "3520       3.0  0.578261     9.0  \n",
              "...        ...       ...     ...  \n",
              "38301      4.0  0.395833     8.0  \n",
              "38302      1.0  0.747826     8.0  \n",
              "38303      1.0  0.716667    11.0  \n",
              "38304      1.0  0.747826    11.0  \n",
              "38305      1.0  0.716667    11.0  \n",
              "\n",
              "[34790 rows x 10 columns]"
            ],
            "text/html": [
              "\n",
              "  <div id=\"df-c55bcc33-a695-49b5-af0f-7e0638ced71b\">\n",
              "    <div class=\"colab-df-container\">\n",
              "      <div>\n",
              "<style scoped>\n",
              "    .dataframe tbody tr th:only-of-type {\n",
              "        vertical-align: middle;\n",
              "    }\n",
              "\n",
              "    .dataframe tbody tr th {\n",
              "        vertical-align: top;\n",
              "    }\n",
              "\n",
              "    .dataframe thead th {\n",
              "        text-align: right;\n",
              "    }\n",
              "</style>\n",
              "<table border=\"1\" class=\"dataframe\">\n",
              "  <thead>\n",
              "    <tr style=\"text-align: right;\">\n",
              "      <th></th>\n",
              "      <th>State</th>\n",
              "      <th>Date Local</th>\n",
              "      <th>NO2 Mean</th>\n",
              "      <th>NO2 AQI</th>\n",
              "      <th>O3 Mean</th>\n",
              "      <th>O3 AQI</th>\n",
              "      <th>SO2 Mean</th>\n",
              "      <th>SO2 AQI</th>\n",
              "      <th>CO Mean</th>\n",
              "      <th>CO AQI</th>\n",
              "    </tr>\n",
              "  </thead>\n",
              "  <tbody>\n",
              "    <tr>\n",
              "      <th>3516</th>\n",
              "      <td>California</td>\n",
              "      <td>2000-01-01</td>\n",
              "      <td>14.782609</td>\n",
              "      <td>25.0</td>\n",
              "      <td>0.015542</td>\n",
              "      <td>25.0</td>\n",
              "      <td>0.636364</td>\n",
              "      <td>3.0</td>\n",
              "      <td>0.556522</td>\n",
              "      <td>22.0</td>\n",
              "    </tr>\n",
              "    <tr>\n",
              "      <th>3517</th>\n",
              "      <td>California</td>\n",
              "      <td>2000-01-01</td>\n",
              "      <td>14.782609</td>\n",
              "      <td>25.0</td>\n",
              "      <td>0.015542</td>\n",
              "      <td>25.0</td>\n",
              "      <td>0.636364</td>\n",
              "      <td>3.0</td>\n",
              "      <td>0.572222</td>\n",
              "      <td>9.0</td>\n",
              "    </tr>\n",
              "    <tr>\n",
              "      <th>3518</th>\n",
              "      <td>California</td>\n",
              "      <td>2000-01-01</td>\n",
              "      <td>14.782609</td>\n",
              "      <td>25.0</td>\n",
              "      <td>0.015542</td>\n",
              "      <td>25.0</td>\n",
              "      <td>0.600000</td>\n",
              "      <td>3.0</td>\n",
              "      <td>0.556522</td>\n",
              "      <td>9.0</td>\n",
              "    </tr>\n",
              "    <tr>\n",
              "      <th>3519</th>\n",
              "      <td>California</td>\n",
              "      <td>2000-01-01</td>\n",
              "      <td>14.782609</td>\n",
              "      <td>25.0</td>\n",
              "      <td>0.015542</td>\n",
              "      <td>25.0</td>\n",
              "      <td>0.600000</td>\n",
              "      <td>3.0</td>\n",
              "      <td>0.572222</td>\n",
              "      <td>9.0</td>\n",
              "    </tr>\n",
              "    <tr>\n",
              "      <th>3520</th>\n",
              "      <td>California</td>\n",
              "      <td>2000-01-02</td>\n",
              "      <td>16.043478</td>\n",
              "      <td>28.0</td>\n",
              "      <td>0.015292</td>\n",
              "      <td>27.0</td>\n",
              "      <td>1.000000</td>\n",
              "      <td>3.0</td>\n",
              "      <td>0.578261</td>\n",
              "      <td>9.0</td>\n",
              "    </tr>\n",
              "    <tr>\n",
              "      <th>...</th>\n",
              "      <td>...</td>\n",
              "      <td>...</td>\n",
              "      <td>...</td>\n",
              "      <td>...</td>\n",
              "      <td>...</td>\n",
              "      <td>...</td>\n",
              "      <td>...</td>\n",
              "      <td>...</td>\n",
              "      <td>...</td>\n",
              "      <td>...</td>\n",
              "    </tr>\n",
              "    <tr>\n",
              "      <th>38301</th>\n",
              "      <td>California</td>\n",
              "      <td>2000-12-30</td>\n",
              "      <td>29.826087</td>\n",
              "      <td>39.0</td>\n",
              "      <td>0.005458</td>\n",
              "      <td>13.0</td>\n",
              "      <td>0.414286</td>\n",
              "      <td>4.0</td>\n",
              "      <td>0.395833</td>\n",
              "      <td>8.0</td>\n",
              "    </tr>\n",
              "    <tr>\n",
              "      <th>38302</th>\n",
              "      <td>California</td>\n",
              "      <td>2000-12-31</td>\n",
              "      <td>34.130435</td>\n",
              "      <td>48.0</td>\n",
              "      <td>0.006895</td>\n",
              "      <td>13.0</td>\n",
              "      <td>0.043478</td>\n",
              "      <td>1.0</td>\n",
              "      <td>0.747826</td>\n",
              "      <td>8.0</td>\n",
              "    </tr>\n",
              "    <tr>\n",
              "      <th>38303</th>\n",
              "      <td>California</td>\n",
              "      <td>2000-12-31</td>\n",
              "      <td>34.130435</td>\n",
              "      <td>48.0</td>\n",
              "      <td>0.006895</td>\n",
              "      <td>13.0</td>\n",
              "      <td>0.043478</td>\n",
              "      <td>1.0</td>\n",
              "      <td>0.716667</td>\n",
              "      <td>11.0</td>\n",
              "    </tr>\n",
              "    <tr>\n",
              "      <th>38304</th>\n",
              "      <td>California</td>\n",
              "      <td>2000-12-31</td>\n",
              "      <td>34.130435</td>\n",
              "      <td>48.0</td>\n",
              "      <td>0.006895</td>\n",
              "      <td>13.0</td>\n",
              "      <td>0.042857</td>\n",
              "      <td>1.0</td>\n",
              "      <td>0.747826</td>\n",
              "      <td>11.0</td>\n",
              "    </tr>\n",
              "    <tr>\n",
              "      <th>38305</th>\n",
              "      <td>California</td>\n",
              "      <td>2000-12-31</td>\n",
              "      <td>34.130435</td>\n",
              "      <td>48.0</td>\n",
              "      <td>0.006895</td>\n",
              "      <td>13.0</td>\n",
              "      <td>0.042857</td>\n",
              "      <td>1.0</td>\n",
              "      <td>0.716667</td>\n",
              "      <td>11.0</td>\n",
              "    </tr>\n",
              "  </tbody>\n",
              "</table>\n",
              "<p>34790 rows × 10 columns</p>\n",
              "</div>\n",
              "      <button class=\"colab-df-convert\" onclick=\"convertToInteractive('df-c55bcc33-a695-49b5-af0f-7e0638ced71b')\"\n",
              "              title=\"Convert this dataframe to an interactive table.\"\n",
              "              style=\"display:none;\">\n",
              "        \n",
              "  <svg xmlns=\"http://www.w3.org/2000/svg\" height=\"24px\"viewBox=\"0 0 24 24\"\n",
              "       width=\"24px\">\n",
              "    <path d=\"M0 0h24v24H0V0z\" fill=\"none\"/>\n",
              "    <path d=\"M18.56 5.44l.94 2.06.94-2.06 2.06-.94-2.06-.94-.94-2.06-.94 2.06-2.06.94zm-11 1L8.5 8.5l.94-2.06 2.06-.94-2.06-.94L8.5 2.5l-.94 2.06-2.06.94zm10 10l.94 2.06.94-2.06 2.06-.94-2.06-.94-.94-2.06-.94 2.06-2.06.94z\"/><path d=\"M17.41 7.96l-1.37-1.37c-.4-.4-.92-.59-1.43-.59-.52 0-1.04.2-1.43.59L10.3 9.45l-7.72 7.72c-.78.78-.78 2.05 0 2.83L4 21.41c.39.39.9.59 1.41.59.51 0 1.02-.2 1.41-.59l7.78-7.78 2.81-2.81c.8-.78.8-2.07 0-2.86zM5.41 20L4 18.59l7.72-7.72 1.47 1.35L5.41 20z\"/>\n",
              "  </svg>\n",
              "      </button>\n",
              "      \n",
              "  <style>\n",
              "    .colab-df-container {\n",
              "      display:flex;\n",
              "      flex-wrap:wrap;\n",
              "      gap: 12px;\n",
              "    }\n",
              "\n",
              "    .colab-df-convert {\n",
              "      background-color: #E8F0FE;\n",
              "      border: none;\n",
              "      border-radius: 50%;\n",
              "      cursor: pointer;\n",
              "      display: none;\n",
              "      fill: #1967D2;\n",
              "      height: 32px;\n",
              "      padding: 0 0 0 0;\n",
              "      width: 32px;\n",
              "    }\n",
              "\n",
              "    .colab-df-convert:hover {\n",
              "      background-color: #E2EBFA;\n",
              "      box-shadow: 0px 1px 2px rgba(60, 64, 67, 0.3), 0px 1px 3px 1px rgba(60, 64, 67, 0.15);\n",
              "      fill: #174EA6;\n",
              "    }\n",
              "\n",
              "    [theme=dark] .colab-df-convert {\n",
              "      background-color: #3B4455;\n",
              "      fill: #D2E3FC;\n",
              "    }\n",
              "\n",
              "    [theme=dark] .colab-df-convert:hover {\n",
              "      background-color: #434B5C;\n",
              "      box-shadow: 0px 1px 3px 1px rgba(0, 0, 0, 0.15);\n",
              "      filter: drop-shadow(0px 1px 2px rgba(0, 0, 0, 0.3));\n",
              "      fill: #FFFFFF;\n",
              "    }\n",
              "  </style>\n",
              "\n",
              "      <script>\n",
              "        const buttonEl =\n",
              "          document.querySelector('#df-c55bcc33-a695-49b5-af0f-7e0638ced71b button.colab-df-convert');\n",
              "        buttonEl.style.display =\n",
              "          google.colab.kernel.accessAllowed ? 'block' : 'none';\n",
              "\n",
              "        async function convertToInteractive(key) {\n",
              "          const element = document.querySelector('#df-c55bcc33-a695-49b5-af0f-7e0638ced71b');\n",
              "          const dataTable =\n",
              "            await google.colab.kernel.invokeFunction('convertToInteractive',\n",
              "                                                     [key], {});\n",
              "          if (!dataTable) return;\n",
              "\n",
              "          const docLinkHtml = 'Like what you see? Visit the ' +\n",
              "            '<a target=\"_blank\" href=https://colab.research.google.com/notebooks/data_table.ipynb>data table notebook</a>'\n",
              "            + ' to learn more about interactive tables.';\n",
              "          element.innerHTML = '';\n",
              "          dataTable['output_type'] = 'display_data';\n",
              "          await google.colab.output.renderOutput(dataTable, element);\n",
              "          const docLink = document.createElement('div');\n",
              "          docLink.innerHTML = docLinkHtml;\n",
              "          element.appendChild(docLink);\n",
              "        }\n",
              "      </script>\n",
              "    </div>\n",
              "  </div>\n",
              "  "
            ]
          },
          "metadata": {},
          "execution_count": 20
        }
      ]
    },
    {
      "cell_type": "code",
      "source": [
        "df2['CO AQI'].max()"
      ],
      "metadata": {
        "id": "qBdLZw6pgwsG",
        "outputId": "a09875f5-ed1d-4bf6-e9e7-b8a5f738c18b",
        "colab": {
          "base_uri": "https://localhost:8080/"
        }
      },
      "execution_count": 27,
      "outputs": [
        {
          "output_type": "execute_result",
          "data": {
            "text/plain": [
              "201.0"
            ]
          },
          "metadata": {},
          "execution_count": 27
        }
      ]
    },
    {
      "cell_type": "code",
      "source": [
        "df2.nlargest(n=10, columns=['CO AQI'])"
      ],
      "metadata": {
        "id": "4dJ3WrluhazR",
        "outputId": "9fa7bbb1-f2e6-4555-854b-768226fbe85c",
        "colab": {
          "base_uri": "https://localhost:8080/",
          "height": 363
        }
      },
      "execution_count": 30,
      "outputs": [
        {
          "output_type": "execute_result",
          "data": {
            "text/plain": [
              "            State  Date Local   NO2 Mean  NO2 AQI   O3 Mean  O3 AQI  \\\n",
              "10505  California  2000-12-20  49.739130     91.0  0.013417    25.0   \n",
              "10506  California  2000-12-20  49.739130     91.0  0.013417    25.0   \n",
              "10507  California  2000-12-20  49.739130     91.0  0.013417    25.0   \n",
              "10508  California  2000-12-21  62.869565    107.0  0.014875    31.0   \n",
              "10409  California  2000-11-26  33.086957     70.0  0.013125    30.0   \n",
              "10410  California  2000-11-26  33.086957     70.0  0.013125    30.0   \n",
              "10411  California  2000-11-26  33.086957     70.0  0.013125    30.0   \n",
              "10412  California  2000-11-27  36.913043    100.0  0.013833    31.0   \n",
              "10509  California  2000-12-21  62.869565    107.0  0.014875    31.0   \n",
              "10510  California  2000-12-21  62.869565    107.0  0.014875    31.0   \n",
              "\n",
              "        SO2 Mean  SO2 AQI   CO Mean  CO AQI  \n",
              "10505   9.608696     36.0  7.508333   201.0  \n",
              "10506   8.885714     36.0  6.795652   201.0  \n",
              "10507   8.885714     36.0  7.508333   201.0  \n",
              "10508  10.000000     30.0  6.543478   201.0  \n",
              "10409   4.608696     23.0  5.195833   183.0  \n",
              "10410   4.200000     23.0  3.434783   183.0  \n",
              "10411   4.200000     23.0  5.195833   183.0  \n",
              "10412   3.869565     20.0  3.134783   183.0  \n",
              "10509  10.000000     30.0  6.975000   173.0  \n",
              "10510   9.485714     30.0  6.543478   173.0  "
            ],
            "text/html": [
              "\n",
              "  <div id=\"df-8a95f964-5809-4b62-bd8c-5a1d10fd8b7a\">\n",
              "    <div class=\"colab-df-container\">\n",
              "      <div>\n",
              "<style scoped>\n",
              "    .dataframe tbody tr th:only-of-type {\n",
              "        vertical-align: middle;\n",
              "    }\n",
              "\n",
              "    .dataframe tbody tr th {\n",
              "        vertical-align: top;\n",
              "    }\n",
              "\n",
              "    .dataframe thead th {\n",
              "        text-align: right;\n",
              "    }\n",
              "</style>\n",
              "<table border=\"1\" class=\"dataframe\">\n",
              "  <thead>\n",
              "    <tr style=\"text-align: right;\">\n",
              "      <th></th>\n",
              "      <th>State</th>\n",
              "      <th>Date Local</th>\n",
              "      <th>NO2 Mean</th>\n",
              "      <th>NO2 AQI</th>\n",
              "      <th>O3 Mean</th>\n",
              "      <th>O3 AQI</th>\n",
              "      <th>SO2 Mean</th>\n",
              "      <th>SO2 AQI</th>\n",
              "      <th>CO Mean</th>\n",
              "      <th>CO AQI</th>\n",
              "    </tr>\n",
              "  </thead>\n",
              "  <tbody>\n",
              "    <tr>\n",
              "      <th>10505</th>\n",
              "      <td>California</td>\n",
              "      <td>2000-12-20</td>\n",
              "      <td>49.739130</td>\n",
              "      <td>91.0</td>\n",
              "      <td>0.013417</td>\n",
              "      <td>25.0</td>\n",
              "      <td>9.608696</td>\n",
              "      <td>36.0</td>\n",
              "      <td>7.508333</td>\n",
              "      <td>201.0</td>\n",
              "    </tr>\n",
              "    <tr>\n",
              "      <th>10506</th>\n",
              "      <td>California</td>\n",
              "      <td>2000-12-20</td>\n",
              "      <td>49.739130</td>\n",
              "      <td>91.0</td>\n",
              "      <td>0.013417</td>\n",
              "      <td>25.0</td>\n",
              "      <td>8.885714</td>\n",
              "      <td>36.0</td>\n",
              "      <td>6.795652</td>\n",
              "      <td>201.0</td>\n",
              "    </tr>\n",
              "    <tr>\n",
              "      <th>10507</th>\n",
              "      <td>California</td>\n",
              "      <td>2000-12-20</td>\n",
              "      <td>49.739130</td>\n",
              "      <td>91.0</td>\n",
              "      <td>0.013417</td>\n",
              "      <td>25.0</td>\n",
              "      <td>8.885714</td>\n",
              "      <td>36.0</td>\n",
              "      <td>7.508333</td>\n",
              "      <td>201.0</td>\n",
              "    </tr>\n",
              "    <tr>\n",
              "      <th>10508</th>\n",
              "      <td>California</td>\n",
              "      <td>2000-12-21</td>\n",
              "      <td>62.869565</td>\n",
              "      <td>107.0</td>\n",
              "      <td>0.014875</td>\n",
              "      <td>31.0</td>\n",
              "      <td>10.000000</td>\n",
              "      <td>30.0</td>\n",
              "      <td>6.543478</td>\n",
              "      <td>201.0</td>\n",
              "    </tr>\n",
              "    <tr>\n",
              "      <th>10409</th>\n",
              "      <td>California</td>\n",
              "      <td>2000-11-26</td>\n",
              "      <td>33.086957</td>\n",
              "      <td>70.0</td>\n",
              "      <td>0.013125</td>\n",
              "      <td>30.0</td>\n",
              "      <td>4.608696</td>\n",
              "      <td>23.0</td>\n",
              "      <td>5.195833</td>\n",
              "      <td>183.0</td>\n",
              "    </tr>\n",
              "    <tr>\n",
              "      <th>10410</th>\n",
              "      <td>California</td>\n",
              "      <td>2000-11-26</td>\n",
              "      <td>33.086957</td>\n",
              "      <td>70.0</td>\n",
              "      <td>0.013125</td>\n",
              "      <td>30.0</td>\n",
              "      <td>4.200000</td>\n",
              "      <td>23.0</td>\n",
              "      <td>3.434783</td>\n",
              "      <td>183.0</td>\n",
              "    </tr>\n",
              "    <tr>\n",
              "      <th>10411</th>\n",
              "      <td>California</td>\n",
              "      <td>2000-11-26</td>\n",
              "      <td>33.086957</td>\n",
              "      <td>70.0</td>\n",
              "      <td>0.013125</td>\n",
              "      <td>30.0</td>\n",
              "      <td>4.200000</td>\n",
              "      <td>23.0</td>\n",
              "      <td>5.195833</td>\n",
              "      <td>183.0</td>\n",
              "    </tr>\n",
              "    <tr>\n",
              "      <th>10412</th>\n",
              "      <td>California</td>\n",
              "      <td>2000-11-27</td>\n",
              "      <td>36.913043</td>\n",
              "      <td>100.0</td>\n",
              "      <td>0.013833</td>\n",
              "      <td>31.0</td>\n",
              "      <td>3.869565</td>\n",
              "      <td>20.0</td>\n",
              "      <td>3.134783</td>\n",
              "      <td>183.0</td>\n",
              "    </tr>\n",
              "    <tr>\n",
              "      <th>10509</th>\n",
              "      <td>California</td>\n",
              "      <td>2000-12-21</td>\n",
              "      <td>62.869565</td>\n",
              "      <td>107.0</td>\n",
              "      <td>0.014875</td>\n",
              "      <td>31.0</td>\n",
              "      <td>10.000000</td>\n",
              "      <td>30.0</td>\n",
              "      <td>6.975000</td>\n",
              "      <td>173.0</td>\n",
              "    </tr>\n",
              "    <tr>\n",
              "      <th>10510</th>\n",
              "      <td>California</td>\n",
              "      <td>2000-12-21</td>\n",
              "      <td>62.869565</td>\n",
              "      <td>107.0</td>\n",
              "      <td>0.014875</td>\n",
              "      <td>31.0</td>\n",
              "      <td>9.485714</td>\n",
              "      <td>30.0</td>\n",
              "      <td>6.543478</td>\n",
              "      <td>173.0</td>\n",
              "    </tr>\n",
              "  </tbody>\n",
              "</table>\n",
              "</div>\n",
              "      <button class=\"colab-df-convert\" onclick=\"convertToInteractive('df-8a95f964-5809-4b62-bd8c-5a1d10fd8b7a')\"\n",
              "              title=\"Convert this dataframe to an interactive table.\"\n",
              "              style=\"display:none;\">\n",
              "        \n",
              "  <svg xmlns=\"http://www.w3.org/2000/svg\" height=\"24px\"viewBox=\"0 0 24 24\"\n",
              "       width=\"24px\">\n",
              "    <path d=\"M0 0h24v24H0V0z\" fill=\"none\"/>\n",
              "    <path d=\"M18.56 5.44l.94 2.06.94-2.06 2.06-.94-2.06-.94-.94-2.06-.94 2.06-2.06.94zm-11 1L8.5 8.5l.94-2.06 2.06-.94-2.06-.94L8.5 2.5l-.94 2.06-2.06.94zm10 10l.94 2.06.94-2.06 2.06-.94-2.06-.94-.94-2.06-.94 2.06-2.06.94z\"/><path d=\"M17.41 7.96l-1.37-1.37c-.4-.4-.92-.59-1.43-.59-.52 0-1.04.2-1.43.59L10.3 9.45l-7.72 7.72c-.78.78-.78 2.05 0 2.83L4 21.41c.39.39.9.59 1.41.59.51 0 1.02-.2 1.41-.59l7.78-7.78 2.81-2.81c.8-.78.8-2.07 0-2.86zM5.41 20L4 18.59l7.72-7.72 1.47 1.35L5.41 20z\"/>\n",
              "  </svg>\n",
              "      </button>\n",
              "      \n",
              "  <style>\n",
              "    .colab-df-container {\n",
              "      display:flex;\n",
              "      flex-wrap:wrap;\n",
              "      gap: 12px;\n",
              "    }\n",
              "\n",
              "    .colab-df-convert {\n",
              "      background-color: #E8F0FE;\n",
              "      border: none;\n",
              "      border-radius: 50%;\n",
              "      cursor: pointer;\n",
              "      display: none;\n",
              "      fill: #1967D2;\n",
              "      height: 32px;\n",
              "      padding: 0 0 0 0;\n",
              "      width: 32px;\n",
              "    }\n",
              "\n",
              "    .colab-df-convert:hover {\n",
              "      background-color: #E2EBFA;\n",
              "      box-shadow: 0px 1px 2px rgba(60, 64, 67, 0.3), 0px 1px 3px 1px rgba(60, 64, 67, 0.15);\n",
              "      fill: #174EA6;\n",
              "    }\n",
              "\n",
              "    [theme=dark] .colab-df-convert {\n",
              "      background-color: #3B4455;\n",
              "      fill: #D2E3FC;\n",
              "    }\n",
              "\n",
              "    [theme=dark] .colab-df-convert:hover {\n",
              "      background-color: #434B5C;\n",
              "      box-shadow: 0px 1px 3px 1px rgba(0, 0, 0, 0.15);\n",
              "      filter: drop-shadow(0px 1px 2px rgba(0, 0, 0, 0.3));\n",
              "      fill: #FFFFFF;\n",
              "    }\n",
              "  </style>\n",
              "\n",
              "      <script>\n",
              "        const buttonEl =\n",
              "          document.querySelector('#df-8a95f964-5809-4b62-bd8c-5a1d10fd8b7a button.colab-df-convert');\n",
              "        buttonEl.style.display =\n",
              "          google.colab.kernel.accessAllowed ? 'block' : 'none';\n",
              "\n",
              "        async function convertToInteractive(key) {\n",
              "          const element = document.querySelector('#df-8a95f964-5809-4b62-bd8c-5a1d10fd8b7a');\n",
              "          const dataTable =\n",
              "            await google.colab.kernel.invokeFunction('convertToInteractive',\n",
              "                                                     [key], {});\n",
              "          if (!dataTable) return;\n",
              "\n",
              "          const docLinkHtml = 'Like what you see? Visit the ' +\n",
              "            '<a target=\"_blank\" href=https://colab.research.google.com/notebooks/data_table.ipynb>data table notebook</a>'\n",
              "            + ' to learn more about interactive tables.';\n",
              "          element.innerHTML = '';\n",
              "          dataTable['output_type'] = 'display_data';\n",
              "          await google.colab.output.renderOutput(dataTable, element);\n",
              "          const docLink = document.createElement('div');\n",
              "          docLink.innerHTML = docLinkHtml;\n",
              "          element.appendChild(docLink);\n",
              "        }\n",
              "      </script>\n",
              "    </div>\n",
              "  </div>\n",
              "  "
            ]
          },
          "metadata": {},
          "execution_count": 30
        }
      ]
    },
    {
      "cell_type": "code",
      "source": [
        "df2.nsmallest(n=10, columns=['CO AQI'])"
      ],
      "metadata": {
        "id": "YCxIuuenhofS",
        "outputId": "9b18c0df-4523-462d-e006-5a81192fb922",
        "colab": {
          "base_uri": "https://localhost:8080/",
          "height": 363
        }
      },
      "execution_count": 31,
      "outputs": [
        {
          "output_type": "execute_result",
          "data": {
            "text/plain": [
              "            State  Date Local   NO2 Mean  NO2 AQI   O3 Mean  O3 AQI  SO2 Mean  \\\n",
              "5477   California  2000-05-19  12.363636     25.0  0.033167    64.0  2.571429   \n",
              "5478   California  2000-05-19  12.363636     25.0  0.033167    64.0  2.866667   \n",
              "5479   California  2000-05-19  12.363636     25.0  0.033167    64.0  2.866667   \n",
              "5480   California  2000-05-20  12.608696     26.0  0.035125    71.0  2.409091   \n",
              "9917   California  2000-07-04   4.043478     10.0  0.046125    49.0  0.956522   \n",
              "9918   California  2000-07-04   4.043478     10.0  0.046125    49.0  0.985714   \n",
              "9919   California  2000-07-04   4.043478     10.0  0.046125    49.0  0.985714   \n",
              "9920   California  2000-07-05  13.217391     29.0  0.051833   132.0  1.913043   \n",
              "13611  California  2000-03-05  14.565217     22.0  0.027625    30.0  1.000000   \n",
              "13612  California  2000-03-05  14.565217     22.0  0.027625    30.0  1.085714   \n",
              "\n",
              "       SO2 AQI   CO Mean  CO AQI  \n",
              "5477       9.0  0.000000     0.0  \n",
              "5478       9.0  0.014286     0.0  \n",
              "5479       9.0  0.000000     0.0  \n",
              "5480       7.0  0.065217     0.0  \n",
              "9917       3.0  0.000000     0.0  \n",
              "9918       3.0  0.017391     0.0  \n",
              "9919       3.0  0.000000     0.0  \n",
              "9920       7.0  0.230435     0.0  \n",
              "13611     13.0  0.000000     0.0  \n",
              "13612     13.0  0.000000     0.0  "
            ],
            "text/html": [
              "\n",
              "  <div id=\"df-61d469a4-47b4-4998-9248-db5b91371730\">\n",
              "    <div class=\"colab-df-container\">\n",
              "      <div>\n",
              "<style scoped>\n",
              "    .dataframe tbody tr th:only-of-type {\n",
              "        vertical-align: middle;\n",
              "    }\n",
              "\n",
              "    .dataframe tbody tr th {\n",
              "        vertical-align: top;\n",
              "    }\n",
              "\n",
              "    .dataframe thead th {\n",
              "        text-align: right;\n",
              "    }\n",
              "</style>\n",
              "<table border=\"1\" class=\"dataframe\">\n",
              "  <thead>\n",
              "    <tr style=\"text-align: right;\">\n",
              "      <th></th>\n",
              "      <th>State</th>\n",
              "      <th>Date Local</th>\n",
              "      <th>NO2 Mean</th>\n",
              "      <th>NO2 AQI</th>\n",
              "      <th>O3 Mean</th>\n",
              "      <th>O3 AQI</th>\n",
              "      <th>SO2 Mean</th>\n",
              "      <th>SO2 AQI</th>\n",
              "      <th>CO Mean</th>\n",
              "      <th>CO AQI</th>\n",
              "    </tr>\n",
              "  </thead>\n",
              "  <tbody>\n",
              "    <tr>\n",
              "      <th>5477</th>\n",
              "      <td>California</td>\n",
              "      <td>2000-05-19</td>\n",
              "      <td>12.363636</td>\n",
              "      <td>25.0</td>\n",
              "      <td>0.033167</td>\n",
              "      <td>64.0</td>\n",
              "      <td>2.571429</td>\n",
              "      <td>9.0</td>\n",
              "      <td>0.000000</td>\n",
              "      <td>0.0</td>\n",
              "    </tr>\n",
              "    <tr>\n",
              "      <th>5478</th>\n",
              "      <td>California</td>\n",
              "      <td>2000-05-19</td>\n",
              "      <td>12.363636</td>\n",
              "      <td>25.0</td>\n",
              "      <td>0.033167</td>\n",
              "      <td>64.0</td>\n",
              "      <td>2.866667</td>\n",
              "      <td>9.0</td>\n",
              "      <td>0.014286</td>\n",
              "      <td>0.0</td>\n",
              "    </tr>\n",
              "    <tr>\n",
              "      <th>5479</th>\n",
              "      <td>California</td>\n",
              "      <td>2000-05-19</td>\n",
              "      <td>12.363636</td>\n",
              "      <td>25.0</td>\n",
              "      <td>0.033167</td>\n",
              "      <td>64.0</td>\n",
              "      <td>2.866667</td>\n",
              "      <td>9.0</td>\n",
              "      <td>0.000000</td>\n",
              "      <td>0.0</td>\n",
              "    </tr>\n",
              "    <tr>\n",
              "      <th>5480</th>\n",
              "      <td>California</td>\n",
              "      <td>2000-05-20</td>\n",
              "      <td>12.608696</td>\n",
              "      <td>26.0</td>\n",
              "      <td>0.035125</td>\n",
              "      <td>71.0</td>\n",
              "      <td>2.409091</td>\n",
              "      <td>7.0</td>\n",
              "      <td>0.065217</td>\n",
              "      <td>0.0</td>\n",
              "    </tr>\n",
              "    <tr>\n",
              "      <th>9917</th>\n",
              "      <td>California</td>\n",
              "      <td>2000-07-04</td>\n",
              "      <td>4.043478</td>\n",
              "      <td>10.0</td>\n",
              "      <td>0.046125</td>\n",
              "      <td>49.0</td>\n",
              "      <td>0.956522</td>\n",
              "      <td>3.0</td>\n",
              "      <td>0.000000</td>\n",
              "      <td>0.0</td>\n",
              "    </tr>\n",
              "    <tr>\n",
              "      <th>9918</th>\n",
              "      <td>California</td>\n",
              "      <td>2000-07-04</td>\n",
              "      <td>4.043478</td>\n",
              "      <td>10.0</td>\n",
              "      <td>0.046125</td>\n",
              "      <td>49.0</td>\n",
              "      <td>0.985714</td>\n",
              "      <td>3.0</td>\n",
              "      <td>0.017391</td>\n",
              "      <td>0.0</td>\n",
              "    </tr>\n",
              "    <tr>\n",
              "      <th>9919</th>\n",
              "      <td>California</td>\n",
              "      <td>2000-07-04</td>\n",
              "      <td>4.043478</td>\n",
              "      <td>10.0</td>\n",
              "      <td>0.046125</td>\n",
              "      <td>49.0</td>\n",
              "      <td>0.985714</td>\n",
              "      <td>3.0</td>\n",
              "      <td>0.000000</td>\n",
              "      <td>0.0</td>\n",
              "    </tr>\n",
              "    <tr>\n",
              "      <th>9920</th>\n",
              "      <td>California</td>\n",
              "      <td>2000-07-05</td>\n",
              "      <td>13.217391</td>\n",
              "      <td>29.0</td>\n",
              "      <td>0.051833</td>\n",
              "      <td>132.0</td>\n",
              "      <td>1.913043</td>\n",
              "      <td>7.0</td>\n",
              "      <td>0.230435</td>\n",
              "      <td>0.0</td>\n",
              "    </tr>\n",
              "    <tr>\n",
              "      <th>13611</th>\n",
              "      <td>California</td>\n",
              "      <td>2000-03-05</td>\n",
              "      <td>14.565217</td>\n",
              "      <td>22.0</td>\n",
              "      <td>0.027625</td>\n",
              "      <td>30.0</td>\n",
              "      <td>1.000000</td>\n",
              "      <td>13.0</td>\n",
              "      <td>0.000000</td>\n",
              "      <td>0.0</td>\n",
              "    </tr>\n",
              "    <tr>\n",
              "      <th>13612</th>\n",
              "      <td>California</td>\n",
              "      <td>2000-03-05</td>\n",
              "      <td>14.565217</td>\n",
              "      <td>22.0</td>\n",
              "      <td>0.027625</td>\n",
              "      <td>30.0</td>\n",
              "      <td>1.085714</td>\n",
              "      <td>13.0</td>\n",
              "      <td>0.000000</td>\n",
              "      <td>0.0</td>\n",
              "    </tr>\n",
              "  </tbody>\n",
              "</table>\n",
              "</div>\n",
              "      <button class=\"colab-df-convert\" onclick=\"convertToInteractive('df-61d469a4-47b4-4998-9248-db5b91371730')\"\n",
              "              title=\"Convert this dataframe to an interactive table.\"\n",
              "              style=\"display:none;\">\n",
              "        \n",
              "  <svg xmlns=\"http://www.w3.org/2000/svg\" height=\"24px\"viewBox=\"0 0 24 24\"\n",
              "       width=\"24px\">\n",
              "    <path d=\"M0 0h24v24H0V0z\" fill=\"none\"/>\n",
              "    <path d=\"M18.56 5.44l.94 2.06.94-2.06 2.06-.94-2.06-.94-.94-2.06-.94 2.06-2.06.94zm-11 1L8.5 8.5l.94-2.06 2.06-.94-2.06-.94L8.5 2.5l-.94 2.06-2.06.94zm10 10l.94 2.06.94-2.06 2.06-.94-2.06-.94-.94-2.06-.94 2.06-2.06.94z\"/><path d=\"M17.41 7.96l-1.37-1.37c-.4-.4-.92-.59-1.43-.59-.52 0-1.04.2-1.43.59L10.3 9.45l-7.72 7.72c-.78.78-.78 2.05 0 2.83L4 21.41c.39.39.9.59 1.41.59.51 0 1.02-.2 1.41-.59l7.78-7.78 2.81-2.81c.8-.78.8-2.07 0-2.86zM5.41 20L4 18.59l7.72-7.72 1.47 1.35L5.41 20z\"/>\n",
              "  </svg>\n",
              "      </button>\n",
              "      \n",
              "  <style>\n",
              "    .colab-df-container {\n",
              "      display:flex;\n",
              "      flex-wrap:wrap;\n",
              "      gap: 12px;\n",
              "    }\n",
              "\n",
              "    .colab-df-convert {\n",
              "      background-color: #E8F0FE;\n",
              "      border: none;\n",
              "      border-radius: 50%;\n",
              "      cursor: pointer;\n",
              "      display: none;\n",
              "      fill: #1967D2;\n",
              "      height: 32px;\n",
              "      padding: 0 0 0 0;\n",
              "      width: 32px;\n",
              "    }\n",
              "\n",
              "    .colab-df-convert:hover {\n",
              "      background-color: #E2EBFA;\n",
              "      box-shadow: 0px 1px 2px rgba(60, 64, 67, 0.3), 0px 1px 3px 1px rgba(60, 64, 67, 0.15);\n",
              "      fill: #174EA6;\n",
              "    }\n",
              "\n",
              "    [theme=dark] .colab-df-convert {\n",
              "      background-color: #3B4455;\n",
              "      fill: #D2E3FC;\n",
              "    }\n",
              "\n",
              "    [theme=dark] .colab-df-convert:hover {\n",
              "      background-color: #434B5C;\n",
              "      box-shadow: 0px 1px 3px 1px rgba(0, 0, 0, 0.15);\n",
              "      filter: drop-shadow(0px 1px 2px rgba(0, 0, 0, 0.3));\n",
              "      fill: #FFFFFF;\n",
              "    }\n",
              "  </style>\n",
              "\n",
              "      <script>\n",
              "        const buttonEl =\n",
              "          document.querySelector('#df-61d469a4-47b4-4998-9248-db5b91371730 button.colab-df-convert');\n",
              "        buttonEl.style.display =\n",
              "          google.colab.kernel.accessAllowed ? 'block' : 'none';\n",
              "\n",
              "        async function convertToInteractive(key) {\n",
              "          const element = document.querySelector('#df-61d469a4-47b4-4998-9248-db5b91371730');\n",
              "          const dataTable =\n",
              "            await google.colab.kernel.invokeFunction('convertToInteractive',\n",
              "                                                     [key], {});\n",
              "          if (!dataTable) return;\n",
              "\n",
              "          const docLinkHtml = 'Like what you see? Visit the ' +\n",
              "            '<a target=\"_blank\" href=https://colab.research.google.com/notebooks/data_table.ipynb>data table notebook</a>'\n",
              "            + ' to learn more about interactive tables.';\n",
              "          element.innerHTML = '';\n",
              "          dataTable['output_type'] = 'display_data';\n",
              "          await google.colab.output.renderOutput(dataTable, element);\n",
              "          const docLink = document.createElement('div');\n",
              "          docLink.innerHTML = docLinkHtml;\n",
              "          element.appendChild(docLink);\n",
              "        }\n",
              "      </script>\n",
              "    </div>\n",
              "  </div>\n",
              "  "
            ]
          },
          "metadata": {},
          "execution_count": 31
        }
      ]
    },
    {
      "cell_type": "code",
      "source": [
        "import matplotlib.pyplot as plt"
      ],
      "metadata": {
        "id": "XuaQBxD7gY3I"
      },
      "execution_count": 23,
      "outputs": []
    },
    {
      "cell_type": "code",
      "source": [
        "from statsmodels.tsa.seasonal import seasonal_decompose"
      ],
      "metadata": {
        "id": "cv3PIBPSftmd"
      },
      "execution_count": 32,
      "outputs": []
    },
    {
      "cell_type": "code",
      "source": [
        "decomposition = seasonal_decompose(df2['CO AQI'], model='additive', period=7)\n",
        "plt.figure(figsize=(50, 4))\n",
        "decomposition.plot()\n",
        "plt.show()"
      ],
      "metadata": {
        "id": "dScHsNJxiLhQ",
        "outputId": "4696c096-2ccc-4e5b-8114-415727bbb721",
        "colab": {
          "base_uri": "https://localhost:8080/",
          "height": 314
        }
      },
      "execution_count": 36,
      "outputs": [
        {
          "output_type": "display_data",
          "data": {
            "text/plain": [
              "<Figure size 3600x288 with 0 Axes>"
            ]
          },
          "metadata": {}
        },
        {
          "output_type": "display_data",
          "data": {
            "text/plain": [
              "<Figure size 432x288 with 4 Axes>"
            ],
            "image/png": "[encoded data removed]"
          },
          "metadata": {
            "needs_background": "light"
          }
        }
      ]
    },
    {
      "cell_type": "code",
      "source": [
        "from statsmodels.tsa.stattools import adfuller\n",
        "stat_test = adfuller(df2['CO AQI'])\n",
        "print('The test statistic for CO AQI is {} and p-value is {}'.format(stat_test[0], stat_test[1]))"
      ],
      "metadata": {
        "id": "nysG7oiYigqX",
        "outputId": "607fb2f2-04b1-4072-92e7-4e37420c9b50",
        "colab": {
          "base_uri": "https://localhost:8080/"
        }
      },
      "execution_count": 39,
      "outputs": [
        {
          "output_type": "stream",
          "name": "stdout",
          "text": [
            "The test statistic for CO AQI is -9.277878524609298 and p-value is 1.274391892243863e-15\n"
          ]
        }
      ]
    },
    {
      "cell_type": "markdown",
      "source": [
        "it is observed that p value of CO AQI is approximately eqaul to 0. it is quite obvious that the time series becomes stationary."
      ],
      "metadata": {
        "id": "F3caXF-tkCmt"
      }
    },
    {
      "cell_type": "code",
      "source": [
        "from statsmodels.tsa.arima.model import ARIMA\n",
        "import statsmodels.api as sm\n",
        "from sklearn.metrics import mean_absolute_error, mean_squared_error"
      ],
      "metadata": {
        "id": "e8HiO-YhjX28"
      },
      "execution_count": 40,
      "outputs": []
    },
    {
      "cell_type": "code",
      "source": [
        "sm.graphics.tsa.plot_acf(df2['CO AQI'], lags=35);"
      ],
      "metadata": {
        "id": "RFR5pbH_kWCQ",
        "outputId": "7f799717-9619-46f1-d05c-a9a3ac69331f",
        "colab": {
          "base_uri": "https://localhost:8080/",
          "height": 281
        }
      },
      "execution_count": 41,
      "outputs": [
        {
          "output_type": "display_data",
          "data": {
            "text/plain": [
              "<Figure size 432x288 with 1 Axes>"
            ],
            "image/png": "[encoded data removed]"
          },
          "metadata": {
            "needs_background": "light"
          }
        }
      ]
    },
    {
      "cell_type": "code",
      "source": [
        "sm.graphics.tsa.plot_pacf(df2['CO AQI'], lags=35);"
      ],
      "metadata": {
        "id": "KvT152eZkbOF",
        "outputId": "eb80602e-e7e9-4eca-c8ba-d5d63fa88819",
        "colab": {
          "base_uri": "https://localhost:8080/",
          "height": 336
        }
      },
      "execution_count": 42,
      "outputs": [
        {
          "output_type": "stream",
          "name": "stderr",
          "text": [
            "/usr/local/lib/python3.9/dist-packages/statsmodels/graphics/tsaplots.py:348: FutureWarning: The default method 'yw' can produce PACF values outside of the [-1,1] interval. After 0.13, the default will change tounadjusted Yule-Walker ('ywm'). You can use this method now by setting method='ywm'.\n",
            "  warnings.warn(\n"
          ]
        },
        {
          "output_type": "display_data",
          "data": {
            "text/plain": [
              "<Figure size 432x288 with 1 Axes>"
            ],
            "image/png": "[encoded data removed]"
          },
          "metadata": {
            "needs_background": "light"
          }
        }
      ]
    },
    {
      "cell_type": "code",
      "source": [],
      "metadata": {
        "id": "x4bvstB-k5AQ"
      },
      "execution_count": null,
      "outputs": []
    }
  ]
}