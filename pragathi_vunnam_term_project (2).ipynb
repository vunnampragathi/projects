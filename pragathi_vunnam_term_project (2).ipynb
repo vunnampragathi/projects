{
 "cells": [
  {
   "cell_type": "markdown",
   "id": "dbcf6ff6",
   "metadata": {},
   "source": [
    "##### The methods i used to classify the virus in the given dataset are mentioned below\n",
    "##### 1.logistic regression\n",
    "##### 2.decission tree\n",
    "##### 3.SVC\n",
    "##### 4.KNN\n",
    "##### 5.feature selection\n",
    "##### 6.random forest"
   ]
  },
  {
   "cell_type": "markdown",
   "id": "2557f48c",
   "metadata": {},
   "source": [
    "importing the required libraries"
   ]
  },
  {
   "cell_type": "code",
   "execution_count": 1,
   "id": "6c46a89d",
   "metadata": {},
   "outputs": [],
   "source": [
    "import pandas as pd\n",
    "from sklearn import datasets\n",
    "from matplotlib import pyplot\n",
    "import numpy as np\n",
    "from sklearn.linear_model import LogisticRegression\n",
    "from sklearn.utils import shuffle"
   ]
  },
  {
   "cell_type": "markdown",
   "id": "f3aa60b2",
   "metadata": {},
   "source": [
    "reading the given data set"
   ]
  },
  {
   "cell_type": "code",
   "execution_count": 2,
   "id": "fe65ab77",
   "metadata": {},
   "outputs": [],
   "source": [
    "data=pd.read_csv(\"C:/Users/pragathi/Downloads/data602_exam.csv\")"
   ]
  },
  {
   "cell_type": "markdown",
   "id": "799f5cfa",
   "metadata": {},
   "source": [
    "printing the top 5 columns of the given dataset"
   ]
  },
  {
   "cell_type": "code",
   "execution_count": 3,
   "id": "1ecde628",
   "metadata": {},
   "outputs": [
    {
     "data": {
      "text/html": [
       "<div>\n",
       "<style scoped>\n",
       "    .dataframe tbody tr th:only-of-type {\n",
       "        vertical-align: middle;\n",
       "    }\n",
       "\n",
       "    .dataframe tbody tr th {\n",
       "        vertical-align: top;\n",
       "    }\n",
       "\n",
       "    .dataframe thead th {\n",
       "        text-align: right;\n",
       "    }\n",
       "</style>\n",
       "<table border=\"1\" class=\"dataframe\">\n",
       "  <thead>\n",
       "    <tr style=\"text-align: right;\">\n",
       "      <th></th>\n",
       "      <th>Virtual</th>\n",
       "      <th>Offset</th>\n",
       "      <th>loc</th>\n",
       "      <th>Import</th>\n",
       "      <th>Imports</th>\n",
       "      <th>var</th>\n",
       "      <th>Forwarder</th>\n",
       "      <th>UINT</th>\n",
       "      <th>LONG</th>\n",
       "      <th>BOOL</th>\n",
       "      <th>...</th>\n",
       "      <th>Img99</th>\n",
       "      <th>Img100</th>\n",
       "      <th>Img101</th>\n",
       "      <th>Img102</th>\n",
       "      <th>Img103</th>\n",
       "      <th>Img104</th>\n",
       "      <th>Img105</th>\n",
       "      <th>Img106</th>\n",
       "      <th>Img107</th>\n",
       "      <th>target</th>\n",
       "    </tr>\n",
       "  </thead>\n",
       "  <tbody>\n",
       "    <tr>\n",
       "      <th>0</th>\n",
       "      <td>3.0</td>\n",
       "      <td>3.0</td>\n",
       "      <td>689.0</td>\n",
       "      <td>18.000000</td>\n",
       "      <td>6.0</td>\n",
       "      <td>890.0</td>\n",
       "      <td>6.000000</td>\n",
       "      <td>39.0</td>\n",
       "      <td>17.000000</td>\n",
       "      <td>88.0</td>\n",
       "      <td>...</td>\n",
       "      <td>-208196.847822</td>\n",
       "      <td>149454.443336</td>\n",
       "      <td>330552.774213</td>\n",
       "      <td>133907.410063</td>\n",
       "      <td>44038.800343</td>\n",
       "      <td>55156.067737</td>\n",
       "      <td>-77588.974897</td>\n",
       "      <td>171979.000000</td>\n",
       "      <td>162674.0</td>\n",
       "      <td>2</td>\n",
       "    </tr>\n",
       "    <tr>\n",
       "      <th>1</th>\n",
       "      <td>3.0</td>\n",
       "      <td>3.0</td>\n",
       "      <td>583.0</td>\n",
       "      <td>15.000000</td>\n",
       "      <td>5.0</td>\n",
       "      <td>1574.0</td>\n",
       "      <td>8640.382774</td>\n",
       "      <td>6.0</td>\n",
       "      <td>7.000000</td>\n",
       "      <td>30.0</td>\n",
       "      <td>...</td>\n",
       "      <td>36209.864030</td>\n",
       "      <td>221318.549792</td>\n",
       "      <td>-1568.194718</td>\n",
       "      <td>22651.037591</td>\n",
       "      <td>-144906.975987</td>\n",
       "      <td>-33489.566102</td>\n",
       "      <td>157701.356695</td>\n",
       "      <td>7702.000000</td>\n",
       "      <td>6551.0</td>\n",
       "      <td>8</td>\n",
       "    </tr>\n",
       "    <tr>\n",
       "      <th>2</th>\n",
       "      <td>3.0</td>\n",
       "      <td>4.0</td>\n",
       "      <td>2796.0</td>\n",
       "      <td>15.000000</td>\n",
       "      <td>5.0</td>\n",
       "      <td>625.0</td>\n",
       "      <td>5.000000</td>\n",
       "      <td>58.0</td>\n",
       "      <td>11.000000</td>\n",
       "      <td>152.0</td>\n",
       "      <td>...</td>\n",
       "      <td>88398.670923</td>\n",
       "      <td>66550.556919</td>\n",
       "      <td>5404.362294</td>\n",
       "      <td>13947.925003</td>\n",
       "      <td>-48559.885445</td>\n",
       "      <td>257023.562444</td>\n",
       "      <td>-204889.973046</td>\n",
       "      <td>151324.169975</td>\n",
       "      <td>12946.0</td>\n",
       "      <td>6</td>\n",
       "    </tr>\n",
       "    <tr>\n",
       "      <th>3</th>\n",
       "      <td>3.0</td>\n",
       "      <td>3.0</td>\n",
       "      <td>373.0</td>\n",
       "      <td>2726.071722</td>\n",
       "      <td>9.0</td>\n",
       "      <td>615.0</td>\n",
       "      <td>9.000000</td>\n",
       "      <td>16.0</td>\n",
       "      <td>98583.277889</td>\n",
       "      <td>34.0</td>\n",
       "      <td>...</td>\n",
       "      <td>-157101.258148</td>\n",
       "      <td>-60336.395075</td>\n",
       "      <td>157629.928962</td>\n",
       "      <td>117458.409503</td>\n",
       "      <td>62076.273381</td>\n",
       "      <td>98733.489947</td>\n",
       "      <td>-51461.636374</td>\n",
       "      <td>122247.000000</td>\n",
       "      <td>98621.0</td>\n",
       "      <td>4</td>\n",
       "    </tr>\n",
       "    <tr>\n",
       "      <th>4</th>\n",
       "      <td>3.0</td>\n",
       "      <td>3.0</td>\n",
       "      <td>77.0</td>\n",
       "      <td>12.000000</td>\n",
       "      <td>4.0</td>\n",
       "      <td>66.0</td>\n",
       "      <td>91945.635853</td>\n",
       "      <td>3.0</td>\n",
       "      <td>0.000000</td>\n",
       "      <td>5.0</td>\n",
       "      <td>...</td>\n",
       "      <td>32595.648968</td>\n",
       "      <td>-228909.737896</td>\n",
       "      <td>-87033.363460</td>\n",
       "      <td>131606.196188</td>\n",
       "      <td>-118625.690367</td>\n",
       "      <td>89326.297602</td>\n",
       "      <td>-84991.427204</td>\n",
       "      <td>15501.000000</td>\n",
       "      <td>11864.0</td>\n",
       "      <td>1</td>\n",
       "    </tr>\n",
       "  </tbody>\n",
       "</table>\n",
       "<p>5 rows × 1805 columns</p>\n",
       "</div>"
      ],
      "text/plain": [
       "   Virtual  Offset     loc       Import  Imports     var     Forwarder  UINT  \\\n",
       "0      3.0     3.0   689.0    18.000000      6.0   890.0      6.000000  39.0   \n",
       "1      3.0     3.0   583.0    15.000000      5.0  1574.0   8640.382774   6.0   \n",
       "2      3.0     4.0  2796.0    15.000000      5.0   625.0      5.000000  58.0   \n",
       "3      3.0     3.0   373.0  2726.071722      9.0   615.0      9.000000  16.0   \n",
       "4      3.0     3.0    77.0    12.000000      4.0    66.0  91945.635853   3.0   \n",
       "\n",
       "           LONG   BOOL  ...          Img99         Img100         Img101  \\\n",
       "0     17.000000   88.0  ... -208196.847822  149454.443336  330552.774213   \n",
       "1      7.000000   30.0  ...   36209.864030  221318.549792   -1568.194718   \n",
       "2     11.000000  152.0  ...   88398.670923   66550.556919    5404.362294   \n",
       "3  98583.277889   34.0  ... -157101.258148  -60336.395075  157629.928962   \n",
       "4      0.000000    5.0  ...   32595.648968 -228909.737896  -87033.363460   \n",
       "\n",
       "          Img102         Img103         Img104         Img105         Img106  \\\n",
       "0  133907.410063   44038.800343   55156.067737  -77588.974897  171979.000000   \n",
       "1   22651.037591 -144906.975987  -33489.566102  157701.356695    7702.000000   \n",
       "2   13947.925003  -48559.885445  257023.562444 -204889.973046  151324.169975   \n",
       "3  117458.409503   62076.273381   98733.489947  -51461.636374  122247.000000   \n",
       "4  131606.196188 -118625.690367   89326.297602  -84991.427204   15501.000000   \n",
       "\n",
       "     Img107  target  \n",
       "0  162674.0       2  \n",
       "1    6551.0       8  \n",
       "2   12946.0       6  \n",
       "3   98621.0       4  \n",
       "4   11864.0       1  \n",
       "\n",
       "[5 rows x 1805 columns]"
      ]
     },
     "execution_count": 3,
     "metadata": {},
     "output_type": "execute_result"
    }
   ],
   "source": [
    "data.head()"
   ]
  },
  {
   "cell_type": "markdown",
   "id": "4c7ef110",
   "metadata": {},
   "source": [
    "printing the target column to find how many different target values are available in the given dataset"
   ]
  },
  {
   "cell_type": "code",
   "execution_count": 4,
   "id": "dfa45d1e",
   "metadata": {},
   "outputs": [
    {
     "data": {
      "text/plain": [
       "0       2\n",
       "1       8\n",
       "2       6\n",
       "3       4\n",
       "4       1\n",
       "       ..\n",
       "4994    4\n",
       "4995    3\n",
       "4996    3\n",
       "4997    2\n",
       "4998    9\n",
       "Name: target, Length: 4999, dtype: int64"
      ]
     },
     "execution_count": 4,
     "metadata": {},
     "output_type": "execute_result"
    }
   ],
   "source": [
    "data['target']"
   ]
  },
  {
   "cell_type": "markdown",
   "id": "8651f5b4",
   "metadata": {},
   "source": [
    "from the above data it is understood that there are 9 different target values are available in the given dataset\n",
    "\n",
    "printing the shape of the dataset"
   ]
  },
  {
   "cell_type": "code",
   "execution_count": 5,
   "id": "8fff05a1",
   "metadata": {},
   "outputs": [
    {
     "data": {
      "text/plain": [
       "(4999, 1805)"
      ]
     },
     "execution_count": 5,
     "metadata": {},
     "output_type": "execute_result"
    }
   ],
   "source": [
    "data.shape"
   ]
  },
  {
   "cell_type": "markdown",
   "id": "bda2475b",
   "metadata": {},
   "source": [
    "using the describe function to get the summary of the given dataset"
   ]
  },
  {
   "cell_type": "code",
   "execution_count": 6,
   "id": "e75b5a48",
   "metadata": {},
   "outputs": [
    {
     "data": {
      "text/html": [
       "<div>\n",
       "<style scoped>\n",
       "    .dataframe tbody tr th:only-of-type {\n",
       "        vertical-align: middle;\n",
       "    }\n",
       "\n",
       "    .dataframe tbody tr th {\n",
       "        vertical-align: top;\n",
       "    }\n",
       "\n",
       "    .dataframe thead th {\n",
       "        text-align: right;\n",
       "    }\n",
       "</style>\n",
       "<table border=\"1\" class=\"dataframe\">\n",
       "  <thead>\n",
       "    <tr style=\"text-align: right;\">\n",
       "      <th></th>\n",
       "      <th>Virtual</th>\n",
       "      <th>Offset</th>\n",
       "      <th>loc</th>\n",
       "      <th>Import</th>\n",
       "      <th>Imports</th>\n",
       "      <th>var</th>\n",
       "      <th>Forwarder</th>\n",
       "      <th>UINT</th>\n",
       "      <th>LONG</th>\n",
       "      <th>BOOL</th>\n",
       "      <th>...</th>\n",
       "      <th>Img99</th>\n",
       "      <th>Img100</th>\n",
       "      <th>Img101</th>\n",
       "      <th>Img102</th>\n",
       "      <th>Img103</th>\n",
       "      <th>Img104</th>\n",
       "      <th>Img105</th>\n",
       "      <th>Img106</th>\n",
       "      <th>Img107</th>\n",
       "      <th>target</th>\n",
       "    </tr>\n",
       "  </thead>\n",
       "  <tbody>\n",
       "    <tr>\n",
       "      <th>count</th>\n",
       "      <td>4999.000000</td>\n",
       "      <td>4999.000000</td>\n",
       "      <td>4999.000000</td>\n",
       "      <td>4999.000000</td>\n",
       "      <td>4999.000000</td>\n",
       "      <td>4999.000000</td>\n",
       "      <td>4999.000000</td>\n",
       "      <td>4999.000000</td>\n",
       "      <td>4999.000000</td>\n",
       "      <td>4999.000000</td>\n",
       "      <td>...</td>\n",
       "      <td>4999.000000</td>\n",
       "      <td>4999.000000</td>\n",
       "      <td>4999.000000</td>\n",
       "      <td>4999.000000</td>\n",
       "      <td>4999.000000</td>\n",
       "      <td>4999.000000</td>\n",
       "      <td>4999.000000</td>\n",
       "      <td>4999.000000</td>\n",
       "      <td>4999.000000</td>\n",
       "      <td>4999.000000</td>\n",
       "    </tr>\n",
       "    <tr>\n",
       "      <th>mean</th>\n",
       "      <td>2413.316145</td>\n",
       "      <td>2659.311487</td>\n",
       "      <td>4424.891220</td>\n",
       "      <td>2291.214822</td>\n",
       "      <td>2512.272757</td>\n",
       "      <td>3470.164710</td>\n",
       "      <td>2612.176503</td>\n",
       "      <td>2472.228927</td>\n",
       "      <td>2554.660865</td>\n",
       "      <td>2452.442360</td>\n",
       "      <td>...</td>\n",
       "      <td>14331.213118</td>\n",
       "      <td>9358.953517</td>\n",
       "      <td>23654.548237</td>\n",
       "      <td>8540.786955</td>\n",
       "      <td>17432.020184</td>\n",
       "      <td>22032.274639</td>\n",
       "      <td>9505.453675</td>\n",
       "      <td>70574.781259</td>\n",
       "      <td>54803.742148</td>\n",
       "      <td>4.086817</td>\n",
       "    </tr>\n",
       "    <tr>\n",
       "      <th>std</th>\n",
       "      <td>12506.374487</td>\n",
       "      <td>13159.966494</td>\n",
       "      <td>13604.624599</td>\n",
       "      <td>11996.827931</td>\n",
       "      <td>12656.467627</td>\n",
       "      <td>12442.838259</td>\n",
       "      <td>13026.935701</td>\n",
       "      <td>12695.076990</td>\n",
       "      <td>12533.327183</td>\n",
       "      <td>12280.398873</td>\n",
       "      <td>...</td>\n",
       "      <td>108685.996366</td>\n",
       "      <td>107161.612891</td>\n",
       "      <td>109735.456647</td>\n",
       "      <td>105281.088434</td>\n",
       "      <td>107423.247504</td>\n",
       "      <td>109858.578170</td>\n",
       "      <td>106876.987983</td>\n",
       "      <td>67871.038272</td>\n",
       "      <td>53395.251409</td>\n",
       "      <td>2.677785</td>\n",
       "    </tr>\n",
       "    <tr>\n",
       "      <th>min</th>\n",
       "      <td>0.000000</td>\n",
       "      <td>0.000000</td>\n",
       "      <td>0.000000</td>\n",
       "      <td>0.000000</td>\n",
       "      <td>0.000000</td>\n",
       "      <td>0.000000</td>\n",
       "      <td>0.000000</td>\n",
       "      <td>0.000000</td>\n",
       "      <td>0.000000</td>\n",
       "      <td>0.000000</td>\n",
       "      <td>...</td>\n",
       "      <td>-399471.378431</td>\n",
       "      <td>-344924.897141</td>\n",
       "      <td>-348906.065760</td>\n",
       "      <td>-379757.698729</td>\n",
       "      <td>-345576.170139</td>\n",
       "      <td>-410986.193796</td>\n",
       "      <td>-355679.953652</td>\n",
       "      <td>0.000000</td>\n",
       "      <td>0.000000</td>\n",
       "      <td>1.000000</td>\n",
       "    </tr>\n",
       "    <tr>\n",
       "      <th>25%</th>\n",
       "      <td>3.000000</td>\n",
       "      <td>3.000000</td>\n",
       "      <td>77.000000</td>\n",
       "      <td>6.000000</td>\n",
       "      <td>4.000000</td>\n",
       "      <td>37.000000</td>\n",
       "      <td>2.000000</td>\n",
       "      <td>6.000000</td>\n",
       "      <td>0.000000</td>\n",
       "      <td>13.000000</td>\n",
       "      <td>...</td>\n",
       "      <td>-57945.624535</td>\n",
       "      <td>-63567.620933</td>\n",
       "      <td>-50475.672159</td>\n",
       "      <td>-63194.878910</td>\n",
       "      <td>-55114.830841</td>\n",
       "      <td>-50016.264131</td>\n",
       "      <td>-63550.766114</td>\n",
       "      <td>13387.000000</td>\n",
       "      <td>8117.000000</td>\n",
       "      <td>2.000000</td>\n",
       "    </tr>\n",
       "    <tr>\n",
       "      <th>50%</th>\n",
       "      <td>3.000000</td>\n",
       "      <td>3.000000</td>\n",
       "      <td>526.000000</td>\n",
       "      <td>12.000000</td>\n",
       "      <td>4.000000</td>\n",
       "      <td>407.000000</td>\n",
       "      <td>4.000000</td>\n",
       "      <td>12.000000</td>\n",
       "      <td>5.000000</td>\n",
       "      <td>20.000000</td>\n",
       "      <td>...</td>\n",
       "      <td>13494.353190</td>\n",
       "      <td>9797.650967</td>\n",
       "      <td>22385.687582</td>\n",
       "      <td>10410.067259</td>\n",
       "      <td>18424.422329</td>\n",
       "      <td>21454.161075</td>\n",
       "      <td>9709.062906</td>\n",
       "      <td>67890.000000</td>\n",
       "      <td>49865.000000</td>\n",
       "      <td>3.000000</td>\n",
       "    </tr>\n",
       "    <tr>\n",
       "      <th>75%</th>\n",
       "      <td>4.000000</td>\n",
       "      <td>4.000000</td>\n",
       "      <td>1977.500000</td>\n",
       "      <td>18.000000</td>\n",
       "      <td>7.000000</td>\n",
       "      <td>1330.500000</td>\n",
       "      <td>6.000000</td>\n",
       "      <td>18.000000</td>\n",
       "      <td>9.000000</td>\n",
       "      <td>38.000000</td>\n",
       "      <td>...</td>\n",
       "      <td>87246.586847</td>\n",
       "      <td>82454.969088</td>\n",
       "      <td>95044.827729</td>\n",
       "      <td>80084.458079</td>\n",
       "      <td>87543.264657</td>\n",
       "      <td>96288.509357</td>\n",
       "      <td>82107.827536</td>\n",
       "      <td>88771.000000</td>\n",
       "      <td>68589.500000</td>\n",
       "      <td>6.000000</td>\n",
       "    </tr>\n",
       "    <tr>\n",
       "      <th>max</th>\n",
       "      <td>99416.349008</td>\n",
       "      <td>99973.742656</td>\n",
       "      <td>107775.000000</td>\n",
       "      <td>99364.479576</td>\n",
       "      <td>99838.164777</td>\n",
       "      <td>100278.830725</td>\n",
       "      <td>99673.225000</td>\n",
       "      <td>100002.864718</td>\n",
       "      <td>99039.014532</td>\n",
       "      <td>99262.954988</td>\n",
       "      <td>...</td>\n",
       "      <td>500390.536696</td>\n",
       "      <td>358149.487611</td>\n",
       "      <td>465889.867881</td>\n",
       "      <td>364890.436486</td>\n",
       "      <td>389119.972128</td>\n",
       "      <td>443685.869973</td>\n",
       "      <td>437127.690431</td>\n",
       "      <td>412076.355373</td>\n",
       "      <td>300241.000000</td>\n",
       "      <td>9.000000</td>\n",
       "    </tr>\n",
       "  </tbody>\n",
       "</table>\n",
       "<p>8 rows × 1805 columns</p>\n",
       "</div>"
      ],
      "text/plain": [
       "            Virtual        Offset            loc        Import       Imports  \\\n",
       "count   4999.000000   4999.000000    4999.000000   4999.000000   4999.000000   \n",
       "mean    2413.316145   2659.311487    4424.891220   2291.214822   2512.272757   \n",
       "std    12506.374487  13159.966494   13604.624599  11996.827931  12656.467627   \n",
       "min        0.000000      0.000000       0.000000      0.000000      0.000000   \n",
       "25%        3.000000      3.000000      77.000000      6.000000      4.000000   \n",
       "50%        3.000000      3.000000     526.000000     12.000000      4.000000   \n",
       "75%        4.000000      4.000000    1977.500000     18.000000      7.000000   \n",
       "max    99416.349008  99973.742656  107775.000000  99364.479576  99838.164777   \n",
       "\n",
       "                 var     Forwarder           UINT          LONG          BOOL  \\\n",
       "count    4999.000000   4999.000000    4999.000000   4999.000000   4999.000000   \n",
       "mean     3470.164710   2612.176503    2472.228927   2554.660865   2452.442360   \n",
       "std     12442.838259  13026.935701   12695.076990  12533.327183  12280.398873   \n",
       "min         0.000000      0.000000       0.000000      0.000000      0.000000   \n",
       "25%        37.000000      2.000000       6.000000      0.000000     13.000000   \n",
       "50%       407.000000      4.000000      12.000000      5.000000     20.000000   \n",
       "75%      1330.500000      6.000000      18.000000      9.000000     38.000000   \n",
       "max    100278.830725  99673.225000  100002.864718  99039.014532  99262.954988   \n",
       "\n",
       "       ...          Img99         Img100         Img101         Img102  \\\n",
       "count  ...    4999.000000    4999.000000    4999.000000    4999.000000   \n",
       "mean   ...   14331.213118    9358.953517   23654.548237    8540.786955   \n",
       "std    ...  108685.996366  107161.612891  109735.456647  105281.088434   \n",
       "min    ... -399471.378431 -344924.897141 -348906.065760 -379757.698729   \n",
       "25%    ...  -57945.624535  -63567.620933  -50475.672159  -63194.878910   \n",
       "50%    ...   13494.353190    9797.650967   22385.687582   10410.067259   \n",
       "75%    ...   87246.586847   82454.969088   95044.827729   80084.458079   \n",
       "max    ...  500390.536696  358149.487611  465889.867881  364890.436486   \n",
       "\n",
       "              Img103         Img104         Img105         Img106  \\\n",
       "count    4999.000000    4999.000000    4999.000000    4999.000000   \n",
       "mean    17432.020184   22032.274639    9505.453675   70574.781259   \n",
       "std    107423.247504  109858.578170  106876.987983   67871.038272   \n",
       "min   -345576.170139 -410986.193796 -355679.953652       0.000000   \n",
       "25%    -55114.830841  -50016.264131  -63550.766114   13387.000000   \n",
       "50%     18424.422329   21454.161075    9709.062906   67890.000000   \n",
       "75%     87543.264657   96288.509357   82107.827536   88771.000000   \n",
       "max    389119.972128  443685.869973  437127.690431  412076.355373   \n",
       "\n",
       "              Img107       target  \n",
       "count    4999.000000  4999.000000  \n",
       "mean    54803.742148     4.086817  \n",
       "std     53395.251409     2.677785  \n",
       "min         0.000000     1.000000  \n",
       "25%      8117.000000     2.000000  \n",
       "50%     49865.000000     3.000000  \n",
       "75%     68589.500000     6.000000  \n",
       "max    300241.000000     9.000000  \n",
       "\n",
       "[8 rows x 1805 columns]"
      ]
     },
     "execution_count": 6,
     "metadata": {},
     "output_type": "execute_result"
    }
   ],
   "source": [
    "data.describe()"
   ]
  },
  {
   "cell_type": "code",
   "execution_count": 8,
   "id": "312dbc57",
   "metadata": {},
   "outputs": [],
   "source": [
    "df=data"
   ]
  },
  {
   "cell_type": "code",
   "execution_count": 9,
   "id": "98ad7aa7",
   "metadata": {},
   "outputs": [
    {
     "data": {
      "text/html": [
       "<div>\n",
       "<style scoped>\n",
       "    .dataframe tbody tr th:only-of-type {\n",
       "        vertical-align: middle;\n",
       "    }\n",
       "\n",
       "    .dataframe tbody tr th {\n",
       "        vertical-align: top;\n",
       "    }\n",
       "\n",
       "    .dataframe thead th {\n",
       "        text-align: right;\n",
       "    }\n",
       "</style>\n",
       "<table border=\"1\" class=\"dataframe\">\n",
       "  <thead>\n",
       "    <tr style=\"text-align: right;\">\n",
       "      <th></th>\n",
       "      <th>Virtual</th>\n",
       "      <th>Offset</th>\n",
       "      <th>loc</th>\n",
       "      <th>Import</th>\n",
       "      <th>Imports</th>\n",
       "      <th>var</th>\n",
       "      <th>Forwarder</th>\n",
       "      <th>UINT</th>\n",
       "      <th>LONG</th>\n",
       "      <th>BOOL</th>\n",
       "      <th>...</th>\n",
       "      <th>Img99</th>\n",
       "      <th>Img100</th>\n",
       "      <th>Img101</th>\n",
       "      <th>Img102</th>\n",
       "      <th>Img103</th>\n",
       "      <th>Img104</th>\n",
       "      <th>Img105</th>\n",
       "      <th>Img106</th>\n",
       "      <th>Img107</th>\n",
       "      <th>target</th>\n",
       "    </tr>\n",
       "  </thead>\n",
       "  <tbody>\n",
       "    <tr>\n",
       "      <th>0</th>\n",
       "      <td>3.0</td>\n",
       "      <td>3.0</td>\n",
       "      <td>689.0</td>\n",
       "      <td>18.000000</td>\n",
       "      <td>6.0</td>\n",
       "      <td>890.0</td>\n",
       "      <td>6.000000</td>\n",
       "      <td>39.0</td>\n",
       "      <td>17.000000</td>\n",
       "      <td>88.0</td>\n",
       "      <td>...</td>\n",
       "      <td>-208196.847822</td>\n",
       "      <td>149454.443336</td>\n",
       "      <td>330552.774213</td>\n",
       "      <td>133907.410063</td>\n",
       "      <td>44038.800343</td>\n",
       "      <td>55156.067737</td>\n",
       "      <td>-77588.974897</td>\n",
       "      <td>171979.000000</td>\n",
       "      <td>162674.0</td>\n",
       "      <td>2</td>\n",
       "    </tr>\n",
       "    <tr>\n",
       "      <th>1</th>\n",
       "      <td>3.0</td>\n",
       "      <td>3.0</td>\n",
       "      <td>583.0</td>\n",
       "      <td>15.000000</td>\n",
       "      <td>5.0</td>\n",
       "      <td>1574.0</td>\n",
       "      <td>8640.382774</td>\n",
       "      <td>6.0</td>\n",
       "      <td>7.000000</td>\n",
       "      <td>30.0</td>\n",
       "      <td>...</td>\n",
       "      <td>36209.864030</td>\n",
       "      <td>221318.549792</td>\n",
       "      <td>-1568.194718</td>\n",
       "      <td>22651.037591</td>\n",
       "      <td>-144906.975987</td>\n",
       "      <td>-33489.566102</td>\n",
       "      <td>157701.356695</td>\n",
       "      <td>7702.000000</td>\n",
       "      <td>6551.0</td>\n",
       "      <td>8</td>\n",
       "    </tr>\n",
       "    <tr>\n",
       "      <th>2</th>\n",
       "      <td>3.0</td>\n",
       "      <td>4.0</td>\n",
       "      <td>2796.0</td>\n",
       "      <td>15.000000</td>\n",
       "      <td>5.0</td>\n",
       "      <td>625.0</td>\n",
       "      <td>5.000000</td>\n",
       "      <td>58.0</td>\n",
       "      <td>11.000000</td>\n",
       "      <td>152.0</td>\n",
       "      <td>...</td>\n",
       "      <td>88398.670923</td>\n",
       "      <td>66550.556919</td>\n",
       "      <td>5404.362294</td>\n",
       "      <td>13947.925003</td>\n",
       "      <td>-48559.885445</td>\n",
       "      <td>257023.562444</td>\n",
       "      <td>-204889.973046</td>\n",
       "      <td>151324.169975</td>\n",
       "      <td>12946.0</td>\n",
       "      <td>6</td>\n",
       "    </tr>\n",
       "    <tr>\n",
       "      <th>3</th>\n",
       "      <td>3.0</td>\n",
       "      <td>3.0</td>\n",
       "      <td>373.0</td>\n",
       "      <td>2726.071722</td>\n",
       "      <td>9.0</td>\n",
       "      <td>615.0</td>\n",
       "      <td>9.000000</td>\n",
       "      <td>16.0</td>\n",
       "      <td>98583.277889</td>\n",
       "      <td>34.0</td>\n",
       "      <td>...</td>\n",
       "      <td>-157101.258148</td>\n",
       "      <td>-60336.395075</td>\n",
       "      <td>157629.928962</td>\n",
       "      <td>117458.409503</td>\n",
       "      <td>62076.273381</td>\n",
       "      <td>98733.489947</td>\n",
       "      <td>-51461.636374</td>\n",
       "      <td>122247.000000</td>\n",
       "      <td>98621.0</td>\n",
       "      <td>4</td>\n",
       "    </tr>\n",
       "    <tr>\n",
       "      <th>4</th>\n",
       "      <td>3.0</td>\n",
       "      <td>3.0</td>\n",
       "      <td>77.0</td>\n",
       "      <td>12.000000</td>\n",
       "      <td>4.0</td>\n",
       "      <td>66.0</td>\n",
       "      <td>91945.635853</td>\n",
       "      <td>3.0</td>\n",
       "      <td>0.000000</td>\n",
       "      <td>5.0</td>\n",
       "      <td>...</td>\n",
       "      <td>32595.648968</td>\n",
       "      <td>-228909.737896</td>\n",
       "      <td>-87033.363460</td>\n",
       "      <td>131606.196188</td>\n",
       "      <td>-118625.690367</td>\n",
       "      <td>89326.297602</td>\n",
       "      <td>-84991.427204</td>\n",
       "      <td>15501.000000</td>\n",
       "      <td>11864.0</td>\n",
       "      <td>1</td>\n",
       "    </tr>\n",
       "  </tbody>\n",
       "</table>\n",
       "<p>5 rows × 1805 columns</p>\n",
       "</div>"
      ],
      "text/plain": [
       "   Virtual  Offset     loc       Import  Imports     var     Forwarder  UINT  \\\n",
       "0      3.0     3.0   689.0    18.000000      6.0   890.0      6.000000  39.0   \n",
       "1      3.0     3.0   583.0    15.000000      5.0  1574.0   8640.382774   6.0   \n",
       "2      3.0     4.0  2796.0    15.000000      5.0   625.0      5.000000  58.0   \n",
       "3      3.0     3.0   373.0  2726.071722      9.0   615.0      9.000000  16.0   \n",
       "4      3.0     3.0    77.0    12.000000      4.0    66.0  91945.635853   3.0   \n",
       "\n",
       "           LONG   BOOL  ...          Img99         Img100         Img101  \\\n",
       "0     17.000000   88.0  ... -208196.847822  149454.443336  330552.774213   \n",
       "1      7.000000   30.0  ...   36209.864030  221318.549792   -1568.194718   \n",
       "2     11.000000  152.0  ...   88398.670923   66550.556919    5404.362294   \n",
       "3  98583.277889   34.0  ... -157101.258148  -60336.395075  157629.928962   \n",
       "4      0.000000    5.0  ...   32595.648968 -228909.737896  -87033.363460   \n",
       "\n",
       "          Img102         Img103         Img104         Img105         Img106  \\\n",
       "0  133907.410063   44038.800343   55156.067737  -77588.974897  171979.000000   \n",
       "1   22651.037591 -144906.975987  -33489.566102  157701.356695    7702.000000   \n",
       "2   13947.925003  -48559.885445  257023.562444 -204889.973046  151324.169975   \n",
       "3  117458.409503   62076.273381   98733.489947  -51461.636374  122247.000000   \n",
       "4  131606.196188 -118625.690367   89326.297602  -84991.427204   15501.000000   \n",
       "\n",
       "     Img107  target  \n",
       "0  162674.0       2  \n",
       "1    6551.0       8  \n",
       "2   12946.0       6  \n",
       "3   98621.0       4  \n",
       "4   11864.0       1  \n",
       "\n",
       "[5 rows x 1805 columns]"
      ]
     },
     "execution_count": 9,
     "metadata": {},
     "output_type": "execute_result"
    }
   ],
   "source": [
    "df.head()"
   ]
  },
  {
   "cell_type": "code",
   "execution_count": 10,
   "id": "ff9d9aee",
   "metadata": {},
   "outputs": [
    {
     "data": {
      "text/plain": [
       "(4999, 1805)"
      ]
     },
     "execution_count": 10,
     "metadata": {},
     "output_type": "execute_result"
    }
   ],
   "source": [
    "df.shape"
   ]
  },
  {
   "cell_type": "markdown",
   "id": "571d84a4",
   "metadata": {},
   "source": [
    "### logistic regression:\n",
    "strengths:\n",
    "\n",
    "1.very easy to implement\n",
    "\n",
    "2.very fast at classifying\n",
    "\n",
    "3.less inclined to overfitting\n",
    "\n",
    "4.easy extension to multiple classes\n",
    "\n",
    "weakness:\n",
    "\n",
    "1.number of observations are less compared to number of features\n",
    "\n",
    "2.it has linear boundaries\n",
    "\n",
    "3.it assumes linearity between dependent and independent variables"
   ]
  },
  {
   "cell_type": "markdown",
   "id": "bcf73c86",
   "metadata": {},
   "source": [
    "plotting the scatter plots for different features of the virus with the target values"
   ]
  },
  {
   "cell_type": "code",
   "execution_count": 11,
   "id": "6308ad0c",
   "metadata": {},
   "outputs": [
    {
     "data": {
      "text/plain": [
       "<AxesSubplot:xlabel='UINT', ylabel='Virtual'>"
      ]
     },
     "execution_count": 11,
     "metadata": {},
     "output_type": "execute_result"
    },
    {
     "data": {
      "image/png": "[encoded data removed]",
      "text/plain": [
       "<Figure size 432x288 with 2 Axes>"
      ]
     },
     "metadata": {
      "needs_background": "light"
     },
     "output_type": "display_data"
    },
    {
     "data": {
      "image/png": "[encoded data removed]",
      "text/plain": [
       "<Figure size 432x288 with 2 Axes>"
      ]
     },
     "metadata": {
      "needs_background": "light"
     },
     "output_type": "display_data"
    },
    {
     "data": {
      "image/png": "[encoded data removed]",
      "text/plain": [
       "<Figure size 432x288 with 2 Axes>"
      ]
     },
     "metadata": {
      "needs_background": "light"
     },
     "output_type": "display_data"
    },
    {
     "data": {
      "image/png": "[encoded data removed]",
      "text/plain": [
       "<Figure size 432x288 with 2 Axes>"
      ]
     },
     "metadata": {
      "needs_background": "light"
     },
     "output_type": "display_data"
    },
    {
     "data": {
      "image/png": "[encoded data removed]",
      "text/plain": [
       "<Figure size 432x288 with 2 Axes>"
      ]
     },
     "metadata": {
      "needs_background": "light"
     },
     "output_type": "display_data"
    },
    {
     "data": {
      "image/png": "[encoded data removed]",
      "text/plain": [
       "<Figure size 432x288 with 2 Axes>"
      ]
     },
     "metadata": {
      "needs_background": "light"
     },
     "output_type": "display_data"
    },
    {
     "data": {
      "image/png": "[encoded data removed]",
      "text/plain": [
       "<Figure size 432x288 with 2 Axes>"
      ]
     },
     "metadata": {
      "needs_background": "light"
     },
     "output_type": "display_data"
    },
    {
     "data": {
      "image/png": "[encoded data removed]",
      "text/plain": [
       "<Figure size 432x288 with 2 Axes>"
      ]
     },
     "metadata": {
      "needs_background": "light"
     },
     "output_type": "display_data"
    }
   ],
   "source": [
    "df.plot.scatter(x='UINT',y='Offset',s=30,c='target',colormap='viridis')\n",
    "df.plot.scatter(x='loc',y='var',s=30,c='target',colormap='viridis')\n",
    "df.plot.scatter(x='var',y='Virtual',s=30,c='target',colormap='viridis')\n",
    "df.plot.scatter(x='Offset',y='Virtual',s=30,c='target',colormap='viridis')\n",
    "df.plot.scatter(x='Forwarder',y='Offset',s=30,c='target',colormap='viridis')\n",
    "df.plot.scatter(x='loc',y='Virtual',s=30,c='target',colormap='viridis')\n",
    "df.plot.scatter(x='var',y='loc',s=30,c='target',colormap='viridis')\n",
    "df.plot.scatter(x='UINT',y='Virtual',s=30,c='target',colormap='viridis')"
   ]
  },
  {
   "cell_type": "markdown",
   "id": "ccf02160",
   "metadata": {},
   "source": [
    "just using some of the columns from the given dataset to plot the radviz plot"
   ]
  },
  {
   "cell_type": "code",
   "execution_count": 12,
   "id": "8c96358c",
   "metadata": {},
   "outputs": [],
   "source": [
    "df1=data.filter(['Virtual','Offset','loc','Import','Imports','var','Forwarder','UINT','target'])"
   ]
  },
  {
   "cell_type": "code",
   "execution_count": 13,
   "id": "32f54a89",
   "metadata": {},
   "outputs": [
    {
     "name": "stderr",
     "output_type": "stream",
     "text": [
      "C:\\Users\\pragathi\\anaconda3\\lib\\site-packages\\pandas\\plotting\\_matplotlib\\misc.py:178: RuntimeWarning: invalid value encountered in true_divide\n",
      "  y = (s * row_).sum(axis=0) / row.sum()\n"
     ]
    },
    {
     "data": {
      "text/plain": [
       "<AxesSubplot:>"
      ]
     },
     "execution_count": 13,
     "metadata": {},
     "output_type": "execute_result"
    },
    {
     "data": {
      "image/png": "[encoded data removed]",
      "text/plain": [
       "<Figure size 432x288 with 1 Axes>"
      ]
     },
     "metadata": {
      "needs_background": "light"
     },
     "output_type": "display_data"
    }
   ],
   "source": [
    "from pandas.plotting import radviz\n",
    "radviz(df1, \"target\")"
   ]
  },
  {
   "cell_type": "code",
   "execution_count": 14,
   "id": "bdbfe0ad",
   "metadata": {},
   "outputs": [],
   "source": [
    "x=df.drop(['target'],axis=1)\n",
    "y=df[\"target\"]"
   ]
  },
  {
   "cell_type": "code",
   "execution_count": 15,
   "id": "7d5d2b30",
   "metadata": {},
   "outputs": [
    {
     "name": "stderr",
     "output_type": "stream",
     "text": [
      "C:\\Users\\pragathi\\anaconda3\\lib\\site-packages\\sklearn\\linear_model\\_logistic.py:763: ConvergenceWarning: lbfgs failed to converge (status=1):\n",
      "STOP: TOTAL NO. of ITERATIONS REACHED LIMIT.\n",
      "\n",
      "Increase the number of iterations (max_iter) or scale the data as shown in:\n",
      "    https://scikit-learn.org/stable/modules/preprocessing.html\n",
      "Please also refer to the documentation for alternative solver options:\n",
      "    https://scikit-learn.org/stable/modules/linear_model.html#logistic-regression\n",
      "  n_iter_i = _check_optimize_result(\n"
     ]
    },
    {
     "data": {
      "text/plain": [
       "0.4938987797559512"
      ]
     },
     "execution_count": 15,
     "metadata": {},
     "output_type": "execute_result"
    }
   ],
   "source": [
    "classifier = LogisticRegression()\n",
    "classifier.fit(x,y)\n",
    "classifier.score(x,y)"
   ]
  },
  {
   "cell_type": "markdown",
   "id": "0dc00591",
   "metadata": {},
   "source": [
    "using the logistic regression the score obtained for the virus classifcation is 49.38%"
   ]
  },
  {
   "cell_type": "markdown",
   "id": "e826f21d",
   "metadata": {},
   "source": [
    "### decision tree\n",
    "\n",
    "strengths:\n",
    "\n",
    "1.generates understandable rules\n",
    "\n",
    "2.performs classification without much computation\n",
    "\n",
    "3.can handle both continuos and categorical variables\n",
    "\n",
    "weakness:\n",
    "\n",
    "1.expensive to train\n",
    "\n",
    "2.less appropriate for estimating the tasks\n",
    "\n",
    "3.more prone to errors"
   ]
  },
  {
   "cell_type": "code",
   "execution_count": 16,
   "id": "65454ea0",
   "metadata": {},
   "outputs": [],
   "source": [
    "from sklearn.model_selection import train_test_split\n",
    "from sklearn.metrics import confusion_matrix\n",
    "from sklearn.metrics import mean_squared_error\n",
    "#new tricks\n",
    "from sklearn.tree import DecisionTreeClassifier\n",
    "from sklearn.tree import DecisionTreeRegressor"
   ]
  },
  {
   "cell_type": "code",
   "execution_count": 17,
   "id": "ef40104b",
   "metadata": {},
   "outputs": [
    {
     "name": "stdout",
     "output_type": "stream",
     "text": [
      "3749 1250\n"
     ]
    },
    {
     "data": {
      "text/html": [
       "<div>\n",
       "<style scoped>\n",
       "    .dataframe tbody tr th:only-of-type {\n",
       "        vertical-align: middle;\n",
       "    }\n",
       "\n",
       "    .dataframe tbody tr th {\n",
       "        vertical-align: top;\n",
       "    }\n",
       "\n",
       "    .dataframe thead th {\n",
       "        text-align: right;\n",
       "    }\n",
       "</style>\n",
       "<table border=\"1\" class=\"dataframe\">\n",
       "  <thead>\n",
       "    <tr style=\"text-align: right;\">\n",
       "      <th></th>\n",
       "      <th>Virtual</th>\n",
       "      <th>Offset</th>\n",
       "      <th>loc</th>\n",
       "      <th>Import</th>\n",
       "      <th>Imports</th>\n",
       "      <th>var</th>\n",
       "      <th>Forwarder</th>\n",
       "      <th>UINT</th>\n",
       "      <th>LONG</th>\n",
       "      <th>BOOL</th>\n",
       "      <th>...</th>\n",
       "      <th>Img99</th>\n",
       "      <th>Img100</th>\n",
       "      <th>Img101</th>\n",
       "      <th>Img102</th>\n",
       "      <th>Img103</th>\n",
       "      <th>Img104</th>\n",
       "      <th>Img105</th>\n",
       "      <th>Img106</th>\n",
       "      <th>Img107</th>\n",
       "      <th>target</th>\n",
       "    </tr>\n",
       "  </thead>\n",
       "  <tbody>\n",
       "    <tr>\n",
       "      <th>3499</th>\n",
       "      <td>3.0</td>\n",
       "      <td>3.000000</td>\n",
       "      <td>2103.0</td>\n",
       "      <td>6.000000</td>\n",
       "      <td>2.000000</td>\n",
       "      <td>1054.0</td>\n",
       "      <td>2.0</td>\n",
       "      <td>15.000000</td>\n",
       "      <td>7.0</td>\n",
       "      <td>23.000000</td>\n",
       "      <td>...</td>\n",
       "      <td>-5988.297455</td>\n",
       "      <td>-68602.108124</td>\n",
       "      <td>-109923.906288</td>\n",
       "      <td>-123684.433816</td>\n",
       "      <td>124834.478748</td>\n",
       "      <td>13538.450186</td>\n",
       "      <td>-33760.721758</td>\n",
       "      <td>222517.0</td>\n",
       "      <td>213458.0</td>\n",
       "      <td>2</td>\n",
       "    </tr>\n",
       "    <tr>\n",
       "      <th>4418</th>\n",
       "      <td>3.0</td>\n",
       "      <td>3.000000</td>\n",
       "      <td>885.0</td>\n",
       "      <td>21.000000</td>\n",
       "      <td>7.000000</td>\n",
       "      <td>542.0</td>\n",
       "      <td>7.0</td>\n",
       "      <td>7.000000</td>\n",
       "      <td>3.0</td>\n",
       "      <td>64154.199587</td>\n",
       "      <td>...</td>\n",
       "      <td>-108464.178864</td>\n",
       "      <td>21244.730885</td>\n",
       "      <td>-181567.507941</td>\n",
       "      <td>47397.545517</td>\n",
       "      <td>-194869.775719</td>\n",
       "      <td>55721.662013</td>\n",
       "      <td>-63170.674790</td>\n",
       "      <td>8296.0</td>\n",
       "      <td>4165.0</td>\n",
       "      <td>8</td>\n",
       "    </tr>\n",
       "    <tr>\n",
       "      <th>400</th>\n",
       "      <td>3.0</td>\n",
       "      <td>3.000000</td>\n",
       "      <td>995.0</td>\n",
       "      <td>15.000000</td>\n",
       "      <td>24972.309803</td>\n",
       "      <td>906.0</td>\n",
       "      <td>5.0</td>\n",
       "      <td>44.000000</td>\n",
       "      <td>13.0</td>\n",
       "      <td>64.000000</td>\n",
       "      <td>...</td>\n",
       "      <td>4361.152784</td>\n",
       "      <td>27497.741136</td>\n",
       "      <td>259797.547300</td>\n",
       "      <td>-146389.960525</td>\n",
       "      <td>-21515.170145</td>\n",
       "      <td>266507.531049</td>\n",
       "      <td>246495.548351</td>\n",
       "      <td>230545.0</td>\n",
       "      <td>208050.0</td>\n",
       "      <td>2</td>\n",
       "    </tr>\n",
       "    <tr>\n",
       "      <th>2452</th>\n",
       "      <td>4.0</td>\n",
       "      <td>4.000000</td>\n",
       "      <td>312.0</td>\n",
       "      <td>9.000000</td>\n",
       "      <td>0.000000</td>\n",
       "      <td>1190.0</td>\n",
       "      <td>3.0</td>\n",
       "      <td>0.000000</td>\n",
       "      <td>0.0</td>\n",
       "      <td>0.000000</td>\n",
       "      <td>...</td>\n",
       "      <td>100033.427994</td>\n",
       "      <td>-56836.791088</td>\n",
       "      <td>152386.435559</td>\n",
       "      <td>-109534.832499</td>\n",
       "      <td>225516.142273</td>\n",
       "      <td>-23872.255533</td>\n",
       "      <td>29267.629855</td>\n",
       "      <td>13606.0</td>\n",
       "      <td>12480.0</td>\n",
       "      <td>8</td>\n",
       "    </tr>\n",
       "    <tr>\n",
       "      <th>1121</th>\n",
       "      <td>3.0</td>\n",
       "      <td>3.000000</td>\n",
       "      <td>550.0</td>\n",
       "      <td>15.000000</td>\n",
       "      <td>5.000000</td>\n",
       "      <td>1574.0</td>\n",
       "      <td>5.0</td>\n",
       "      <td>6.000000</td>\n",
       "      <td>7.0</td>\n",
       "      <td>72115.484631</td>\n",
       "      <td>...</td>\n",
       "      <td>-103708.659040</td>\n",
       "      <td>-82457.570528</td>\n",
       "      <td>33727.206758</td>\n",
       "      <td>222908.637123</td>\n",
       "      <td>-118887.441948</td>\n",
       "      <td>41841.252910</td>\n",
       "      <td>-198283.095712</td>\n",
       "      <td>7755.0</td>\n",
       "      <td>6020.0</td>\n",
       "      <td>8</td>\n",
       "    </tr>\n",
       "    <tr>\n",
       "      <th>...</th>\n",
       "      <td>...</td>\n",
       "      <td>...</td>\n",
       "      <td>...</td>\n",
       "      <td>...</td>\n",
       "      <td>...</td>\n",
       "      <td>...</td>\n",
       "      <td>...</td>\n",
       "      <td>...</td>\n",
       "      <td>...</td>\n",
       "      <td>...</td>\n",
       "      <td>...</td>\n",
       "      <td>...</td>\n",
       "      <td>...</td>\n",
       "      <td>...</td>\n",
       "      <td>...</td>\n",
       "      <td>...</td>\n",
       "      <td>...</td>\n",
       "      <td>...</td>\n",
       "      <td>...</td>\n",
       "      <td>...</td>\n",
       "      <td>...</td>\n",
       "    </tr>\n",
       "    <tr>\n",
       "      <th>3194</th>\n",
       "      <td>4.0</td>\n",
       "      <td>4.000000</td>\n",
       "      <td>1580.0</td>\n",
       "      <td>71034.116185</td>\n",
       "      <td>4.000000</td>\n",
       "      <td>92.0</td>\n",
       "      <td>0.0</td>\n",
       "      <td>53772.934444</td>\n",
       "      <td>9.0</td>\n",
       "      <td>31.000000</td>\n",
       "      <td>...</td>\n",
       "      <td>-117307.198516</td>\n",
       "      <td>25185.354234</td>\n",
       "      <td>-110731.982554</td>\n",
       "      <td>-20263.441083</td>\n",
       "      <td>86655.950662</td>\n",
       "      <td>-130735.886452</td>\n",
       "      <td>5590.637458</td>\n",
       "      <td>89448.0</td>\n",
       "      <td>65528.0</td>\n",
       "      <td>2</td>\n",
       "    </tr>\n",
       "    <tr>\n",
       "      <th>1696</th>\n",
       "      <td>3.0</td>\n",
       "      <td>3.000000</td>\n",
       "      <td>580.0</td>\n",
       "      <td>15.000000</td>\n",
       "      <td>5.000000</td>\n",
       "      <td>1574.0</td>\n",
       "      <td>5.0</td>\n",
       "      <td>6.000000</td>\n",
       "      <td>7.0</td>\n",
       "      <td>30.000000</td>\n",
       "      <td>...</td>\n",
       "      <td>-88053.458258</td>\n",
       "      <td>174250.062251</td>\n",
       "      <td>50658.180693</td>\n",
       "      <td>58027.027797</td>\n",
       "      <td>-51997.758988</td>\n",
       "      <td>-87303.290337</td>\n",
       "      <td>39816.837726</td>\n",
       "      <td>7648.0</td>\n",
       "      <td>6416.0</td>\n",
       "      <td>8</td>\n",
       "    </tr>\n",
       "    <tr>\n",
       "      <th>3396</th>\n",
       "      <td>3.0</td>\n",
       "      <td>3.000000</td>\n",
       "      <td>1115.0</td>\n",
       "      <td>3.000000</td>\n",
       "      <td>1.000000</td>\n",
       "      <td>671.0</td>\n",
       "      <td>1.0</td>\n",
       "      <td>0.000000</td>\n",
       "      <td>0.0</td>\n",
       "      <td>5.000000</td>\n",
       "      <td>...</td>\n",
       "      <td>-97338.636180</td>\n",
       "      <td>-128421.881111</td>\n",
       "      <td>-59742.085205</td>\n",
       "      <td>31471.445161</td>\n",
       "      <td>55860.417945</td>\n",
       "      <td>19535.987359</td>\n",
       "      <td>15919.487206</td>\n",
       "      <td>8155.0</td>\n",
       "      <td>5598.0</td>\n",
       "      <td>8</td>\n",
       "    </tr>\n",
       "    <tr>\n",
       "      <th>2122</th>\n",
       "      <td>3.0</td>\n",
       "      <td>3.000000</td>\n",
       "      <td>21.0</td>\n",
       "      <td>12.000000</td>\n",
       "      <td>4.000000</td>\n",
       "      <td>55.0</td>\n",
       "      <td>4.0</td>\n",
       "      <td>5.000000</td>\n",
       "      <td>0.0</td>\n",
       "      <td>14.000000</td>\n",
       "      <td>...</td>\n",
       "      <td>-154406.390111</td>\n",
       "      <td>-47427.039451</td>\n",
       "      <td>26039.368172</td>\n",
       "      <td>22600.840725</td>\n",
       "      <td>8478.400211</td>\n",
       "      <td>-153334.988807</td>\n",
       "      <td>-1273.499084</td>\n",
       "      <td>71994.0</td>\n",
       "      <td>68651.0</td>\n",
       "      <td>3</td>\n",
       "    </tr>\n",
       "    <tr>\n",
       "      <th>248</th>\n",
       "      <td>3.0</td>\n",
       "      <td>57587.326997</td>\n",
       "      <td>19.0</td>\n",
       "      <td>24064.989943</td>\n",
       "      <td>4.000000</td>\n",
       "      <td>43.0</td>\n",
       "      <td>0.0</td>\n",
       "      <td>4.000000</td>\n",
       "      <td>0.0</td>\n",
       "      <td>15.000000</td>\n",
       "      <td>...</td>\n",
       "      <td>173228.236322</td>\n",
       "      <td>106629.071827</td>\n",
       "      <td>179320.912128</td>\n",
       "      <td>-86414.361188</td>\n",
       "      <td>349263.014090</td>\n",
       "      <td>-25886.300865</td>\n",
       "      <td>89077.113385</td>\n",
       "      <td>68986.0</td>\n",
       "      <td>65609.0</td>\n",
       "      <td>3</td>\n",
       "    </tr>\n",
       "  </tbody>\n",
       "</table>\n",
       "<p>3749 rows × 1805 columns</p>\n",
       "</div>"
      ],
      "text/plain": [
       "      Virtual        Offset     loc        Import       Imports     var  \\\n",
       "3499      3.0      3.000000  2103.0      6.000000      2.000000  1054.0   \n",
       "4418      3.0      3.000000   885.0     21.000000      7.000000   542.0   \n",
       "400       3.0      3.000000   995.0     15.000000  24972.309803   906.0   \n",
       "2452      4.0      4.000000   312.0      9.000000      0.000000  1190.0   \n",
       "1121      3.0      3.000000   550.0     15.000000      5.000000  1574.0   \n",
       "...       ...           ...     ...           ...           ...     ...   \n",
       "3194      4.0      4.000000  1580.0  71034.116185      4.000000    92.0   \n",
       "1696      3.0      3.000000   580.0     15.000000      5.000000  1574.0   \n",
       "3396      3.0      3.000000  1115.0      3.000000      1.000000   671.0   \n",
       "2122      3.0      3.000000    21.0     12.000000      4.000000    55.0   \n",
       "248       3.0  57587.326997    19.0  24064.989943      4.000000    43.0   \n",
       "\n",
       "      Forwarder          UINT  LONG          BOOL  ...          Img99  \\\n",
       "3499        2.0     15.000000   7.0     23.000000  ...   -5988.297455   \n",
       "4418        7.0      7.000000   3.0  64154.199587  ... -108464.178864   \n",
       "400         5.0     44.000000  13.0     64.000000  ...    4361.152784   \n",
       "2452        3.0      0.000000   0.0      0.000000  ...  100033.427994   \n",
       "1121        5.0      6.000000   7.0  72115.484631  ... -103708.659040   \n",
       "...         ...           ...   ...           ...  ...            ...   \n",
       "3194        0.0  53772.934444   9.0     31.000000  ... -117307.198516   \n",
       "1696        5.0      6.000000   7.0     30.000000  ...  -88053.458258   \n",
       "3396        1.0      0.000000   0.0      5.000000  ...  -97338.636180   \n",
       "2122        4.0      5.000000   0.0     14.000000  ... -154406.390111   \n",
       "248         0.0      4.000000   0.0     15.000000  ...  173228.236322   \n",
       "\n",
       "             Img100         Img101         Img102         Img103  \\\n",
       "3499  -68602.108124 -109923.906288 -123684.433816  124834.478748   \n",
       "4418   21244.730885 -181567.507941   47397.545517 -194869.775719   \n",
       "400    27497.741136  259797.547300 -146389.960525  -21515.170145   \n",
       "2452  -56836.791088  152386.435559 -109534.832499  225516.142273   \n",
       "1121  -82457.570528   33727.206758  222908.637123 -118887.441948   \n",
       "...             ...            ...            ...            ...   \n",
       "3194   25185.354234 -110731.982554  -20263.441083   86655.950662   \n",
       "1696  174250.062251   50658.180693   58027.027797  -51997.758988   \n",
       "3396 -128421.881111  -59742.085205   31471.445161   55860.417945   \n",
       "2122  -47427.039451   26039.368172   22600.840725    8478.400211   \n",
       "248   106629.071827  179320.912128  -86414.361188  349263.014090   \n",
       "\n",
       "             Img104         Img105    Img106    Img107  target  \n",
       "3499   13538.450186  -33760.721758  222517.0  213458.0       2  \n",
       "4418   55721.662013  -63170.674790    8296.0    4165.0       8  \n",
       "400   266507.531049  246495.548351  230545.0  208050.0       2  \n",
       "2452  -23872.255533   29267.629855   13606.0   12480.0       8  \n",
       "1121   41841.252910 -198283.095712    7755.0    6020.0       8  \n",
       "...             ...            ...       ...       ...     ...  \n",
       "3194 -130735.886452    5590.637458   89448.0   65528.0       2  \n",
       "1696  -87303.290337   39816.837726    7648.0    6416.0       8  \n",
       "3396   19535.987359   15919.487206    8155.0    5598.0       8  \n",
       "2122 -153334.988807   -1273.499084   71994.0   68651.0       3  \n",
       "248   -25886.300865   89077.113385   68986.0   65609.0       3  \n",
       "\n",
       "[3749 rows x 1805 columns]"
      ]
     },
     "metadata": {},
     "output_type": "display_data"
    }
   ],
   "source": [
    "train_df, test_df= train_test_split(df)  #default for shuffle is True\n",
    "print(len(train_df),len(test_df))\n",
    "#help(train_test_split)\n",
    "display(train_df)"
   ]
  },
  {
   "cell_type": "code",
   "execution_count": 18,
   "id": "b3f7ef4d",
   "metadata": {},
   "outputs": [
    {
     "data": {
      "text/plain": [
       "DecisionTreeClassifier(max_depth=10)"
      ]
     },
     "execution_count": 18,
     "metadata": {},
     "output_type": "execute_result"
    }
   ],
   "source": [
    "tree = DecisionTreeClassifier(max_depth=10)\n",
    "#DecisionTreeClassifier(criterion='entropy')   #default criterion is 'gini'\n",
    "#help(DecisionTreeClassifier)\n",
    "tree.fit(train_df.drop('target', axis=1), train_df['target'])"
   ]
  },
  {
   "cell_type": "code",
   "execution_count": 19,
   "id": "6645f28f",
   "metadata": {},
   "outputs": [],
   "source": [
    "X = df.iloc[:, :-1].values\n",
    "y = df.iloc[:, -1].values\n",
    "\n",
    "# Splitting the dataset into the Training set and Test set\n",
    "X_train, X_test, y_train, y_test = train_test_split(X, y, random_state = 0)"
   ]
  },
  {
   "cell_type": "code",
   "execution_count": 20,
   "id": "e019275c",
   "metadata": {},
   "outputs": [],
   "source": [
    "# importing standard scalling method from sklearn\n",
    "from sklearn.preprocessing import StandardScaler\n",
    "sc = StandardScaler()\n",
    "\n",
    "# providing the inputs for the scalling purpose\n",
    "X_train = sc.fit_transform(X_train)\n",
    "X_test = sc.transform(X_test)"
   ]
  },
  {
   "cell_type": "code",
   "execution_count": 21,
   "id": "396f9e20",
   "metadata": {},
   "outputs": [
    {
     "data": {
      "text/plain": [
       "DecisionTreeClassifier(criterion='entropy', random_state=0)"
      ]
     },
     "execution_count": 21,
     "metadata": {},
     "output_type": "execute_result"
    }
   ],
   "source": [
    "# importing decision tree algorithm\n",
    "from sklearn.tree import DecisionTreeClassifier\n",
    "\n",
    "# entropy means information gain\n",
    "classifer = DecisionTreeClassifier(criterion='entropy', random_state=0)\n",
    "\n",
    "# providing the training dataset\n",
    "classifer.fit(X_train,y_train)"
   ]
  },
  {
   "cell_type": "code",
   "execution_count": 22,
   "id": "49f48647",
   "metadata": {},
   "outputs": [],
   "source": [
    "y_pred = classifer.predict(X_test)"
   ]
  },
  {
   "cell_type": "code",
   "execution_count": 23,
   "id": "064a7116",
   "metadata": {},
   "outputs": [
    {
     "data": {
      "text/plain": [
       "0.8192"
      ]
     },
     "execution_count": 23,
     "metadata": {},
     "output_type": "execute_result"
    }
   ],
   "source": [
    "# importing the accuracy score\n",
    "from sklearn.metrics import accuracy_score\n",
    "\n",
    "# accuracy\n",
    "accuracy_score(y_pred,y_test)"
   ]
  },
  {
   "cell_type": "code",
   "execution_count": 24,
   "id": "5aa46422",
   "metadata": {},
   "outputs": [
    {
     "data": {
      "text/plain": [
       "DecisionTreeRegressor(max_depth=10, min_samples_leaf=10)"
      ]
     },
     "execution_count": 24,
     "metadata": {},
     "output_type": "execute_result"
    }
   ],
   "source": [
    "tree_reg = DecisionTreeRegressor(max_depth=10, min_samples_leaf=10)\n",
    "tree_reg.fit(df.drop('target',axis=1),df['target'])"
   ]
  },
  {
   "cell_type": "code",
   "execution_count": 25,
   "id": "5e855466",
   "metadata": {},
   "outputs": [
    {
     "data": {
      "text/plain": [
       "0.835258569064208"
      ]
     },
     "execution_count": 25,
     "metadata": {},
     "output_type": "execute_result"
    }
   ],
   "source": [
    "tree_reg.score(df.drop('target',axis=1), df['target'])"
   ]
  },
  {
   "cell_type": "markdown",
   "id": "3fce9d88",
   "metadata": {},
   "source": [
    "the score obtained for the given dataset using the decission tree classification method is 83.52%"
   ]
  },
  {
   "cell_type": "markdown",
   "id": "e9f2ba52",
   "metadata": {},
   "source": [
    "### SVC\n",
    "\n",
    "strengths:\n",
    "\n",
    "1.works well\n",
    "\n",
    "2.more productive in high dimensional spaces\n",
    "\n",
    "3.it is effective in cases where number of dimensions are larger than specimens\n",
    "\n",
    "weakness:\n",
    "\n",
    "1.doesnot support large datasets\n",
    "\n",
    "2.does not excute well in overlapping cases\n",
    "\n",
    "3.there is probabilistic clarification for the classification\n"
   ]
  },
  {
   "cell_type": "code",
   "execution_count": 26,
   "id": "699b40c4",
   "metadata": {},
   "outputs": [],
   "source": [
    "from sklearn.model_selection import cross_val_score\n",
    "from sklearn.linear_model import LogisticRegression\n",
    "from sklearn.tree import DecisionTreeClassifier\n",
    "from sklearn.svm import SVC\n",
    "from sklearn.ensemble import RandomForestClassifier\n",
    "from sklearn.ensemble import BaggingClassifier\n",
    "from sklearn.neighbors import KNeighborsClassifier"
   ]
  },
  {
   "cell_type": "code",
   "execution_count": 27,
   "id": "c300d2cb",
   "metadata": {},
   "outputs": [
    {
     "data": {
      "text/plain": [
       "0.3644726726726727"
      ]
     },
     "execution_count": 27,
     "metadata": {},
     "output_type": "execute_result"
    }
   ],
   "source": [
    "scores = cross_val_score(SVC(), X, y, cv=5)\n",
    "scores.mean()"
   ]
  },
  {
   "cell_type": "markdown",
   "id": "f5f169d8",
   "metadata": {},
   "source": [
    "the score obtained for the given dataset using the SVC cross validation is 36.44%"
   ]
  },
  {
   "cell_type": "markdown",
   "id": "50bd8346",
   "metadata": {},
   "source": [
    "### KNN\n",
    "\n",
    "strengths:\n",
    "\n",
    "1.no training period\n",
    "\n",
    "2.easy implementation\n",
    "\n",
    "3.adding new data at any instance will not effect the model\n",
    "\n",
    "weakness:\n",
    "\n",
    "1.not suitable for larger datasets\n",
    "\n",
    "2.sensitive to noise and missing data\n",
    "\n",
    "3.feature scaling\n",
    "\n",
    "not work well with high dimensionality"
   ]
  },
  {
   "cell_type": "code",
   "execution_count": 28,
   "id": "52d45894",
   "metadata": {},
   "outputs": [
    {
     "data": {
      "text/plain": [
       "0.7525509509509509"
      ]
     },
     "execution_count": 28,
     "metadata": {},
     "output_type": "execute_result"
    }
   ],
   "source": [
    "scores = cross_val_score(KNeighborsClassifier(), X, y, cv=5)\n",
    "scores.mean()"
   ]
  },
  {
   "cell_type": "markdown",
   "id": "d4188394",
   "metadata": {},
   "source": [
    "the score obtained for the given dataset using K nearest neighbours method is 75.25%"
   ]
  },
  {
   "cell_type": "markdown",
   "id": "264b4497",
   "metadata": {},
   "source": [
    "### feature selection\n",
    "###### filter methods\n",
    "strengths:\n",
    "\n",
    "1.enables faster training\n",
    "\n",
    "2.reduces complexity and intrepets the models easily\n",
    "\n",
    "weakness:\n",
    "\n",
    "1.risk of overfitting\n",
    "\n",
    "2.more computation time there is more variables\n"
   ]
  },
  {
   "cell_type": "code",
   "execution_count": 29,
   "id": "2f8d1dae",
   "metadata": {},
   "outputs": [],
   "source": [
    "from sklearn.preprocessing import StandardScaler\n",
    "from sklearn.preprocessing import MinMaxScaler\n",
    "from sklearn.model_selection import cross_val_score\n",
    "from sklearn.metrics import balanced_accuracy_score\n",
    "from sklearn.metrics import accuracy_score"
   ]
  },
  {
   "cell_type": "code",
   "execution_count": 30,
   "id": "4a774b85",
   "metadata": {},
   "outputs": [
    {
     "name": "stdout",
     "output_type": "stream",
     "text": [
      "Log. Reg. Mean Accuracy:  0.6053183183183183\n"
     ]
    },
    {
     "name": "stderr",
     "output_type": "stream",
     "text": [
      "C:\\Users\\pragathi\\anaconda3\\lib\\site-packages\\sklearn\\svm\\_base.py:985: ConvergenceWarning: Liblinear failed to converge, increase the number of iterations.\n",
      "  warnings.warn(\"Liblinear failed to converge, increase \"\n"
     ]
    }
   ],
   "source": [
    "lr = LogisticRegression(solver='liblinear')\n",
    "print(\"Log. Reg. Mean Accuracy: \", cross_val_score(lr, X, y, cv=5).mean())"
   ]
  },
  {
   "cell_type": "markdown",
   "id": "70349201",
   "metadata": {},
   "source": [
    "the score obtained for the given dataset  before using the filter method in feature selection for logistic regression is 60.53%"
   ]
  },
  {
   "cell_type": "code",
   "execution_count": 31,
   "id": "a04ceea3",
   "metadata": {},
   "outputs": [],
   "source": [
    "from sklearn.feature_selection import chi2\n",
    "from sklearn.feature_selection import mutual_info_classif\n",
    "from sklearn.feature_selection import GenericUnivariateSelect"
   ]
  },
  {
   "cell_type": "code",
   "execution_count": 32,
   "id": "133ebf54",
   "metadata": {},
   "outputs": [
    {
     "name": "stdout",
     "output_type": "stream",
     "text": [
      "[0.20177513 0.21251448 0.69546741 ... 0.         0.92263711 0.95219386]\n"
     ]
    }
   ],
   "source": [
    "mutual_info = mutual_info_classif(X, y)\n",
    "print(mutual_info)"
   ]
  },
  {
   "cell_type": "code",
   "execution_count": 33,
   "id": "1c238136",
   "metadata": {},
   "outputs": [],
   "source": [
    "mf_select = GenericUnivariateSelect(score_func=mutual_info_classif, mode=\"percentile\", param=10)"
   ]
  },
  {
   "cell_type": "code",
   "execution_count": 34,
   "id": "ca070fa8",
   "metadata": {},
   "outputs": [
    {
     "name": "stdout",
     "output_type": "stream",
     "text": [
      "(4999, 181)\n"
     ]
    }
   ],
   "source": [
    "mf_select.fit(X, y)    #fit to the data\n",
    "X_mf = mf_select.transform(X)    #transform data to the selected feature space\n",
    "print(X_mf.shape)"
   ]
  },
  {
   "cell_type": "code",
   "execution_count": 35,
   "id": "d6171261",
   "metadata": {},
   "outputs": [
    {
     "name": "stderr",
     "output_type": "stream",
     "text": [
      "C:\\Users\\pragathi\\anaconda3\\lib\\site-packages\\sklearn\\svm\\_base.py:985: ConvergenceWarning: Liblinear failed to converge, increase the number of iterations.\n",
      "  warnings.warn(\"Liblinear failed to converge, increase \"\n",
      "C:\\Users\\pragathi\\anaconda3\\lib\\site-packages\\sklearn\\svm\\_base.py:985: ConvergenceWarning: Liblinear failed to converge, increase the number of iterations.\n",
      "  warnings.warn(\"Liblinear failed to converge, increase \"\n"
     ]
    },
    {
     "name": "stdout",
     "output_type": "stream",
     "text": [
      "Log. Reg. MF k=10:  0.6079225225225224\n"
     ]
    },
    {
     "name": "stderr",
     "output_type": "stream",
     "text": [
      "C:\\Users\\pragathi\\anaconda3\\lib\\site-packages\\sklearn\\svm\\_base.py:985: ConvergenceWarning: Liblinear failed to converge, increase the number of iterations.\n",
      "  warnings.warn(\"Liblinear failed to converge, increase \"\n"
     ]
    }
   ],
   "source": [
    "lr = LogisticRegression(solver='liblinear')\n",
    "\n",
    "print(\"Log. Reg. MF k=10: \", cross_val_score(lr, X_mf, y, cv=5).mean())"
   ]
  },
  {
   "cell_type": "markdown",
   "id": "896a4633",
   "metadata": {},
   "source": [
    "the score obtained for the given dataset using the feature selection method(mutual information) for logistic regression is 60.79%.\n",
    "\n",
    "it is observed that with the feature selection method the accuracy for the given dataset is improved."
   ]
  },
  {
   "cell_type": "markdown",
   "id": "2f4061e1",
   "metadata": {},
   "source": [
    "### Random Forest\n",
    "strengths:\n",
    "\n",
    "1.it can handle missing values\n",
    "\n",
    "2.works well for categorical and continous variables\n",
    "\n",
    "3.less impacted by noise\n",
    "\n",
    "4.no feature scaling\n",
    "\n",
    "5.handles non-linear parameters efficiently\n",
    "\n",
    "weakness:\n",
    "\n",
    "1.complexity\n",
    "\n",
    "2.longer training period"
   ]
  },
  {
   "cell_type": "code",
   "execution_count": 37,
   "id": "9df5d9f3",
   "metadata": {},
   "outputs": [],
   "source": [
    "from sklearn.metrics import accuracy_score, confusion_matrix\n",
    "from sklearn.ensemble import RandomForestClassifier"
   ]
  },
  {
   "cell_type": "code",
   "execution_count": 38,
   "id": "cb236936",
   "metadata": {},
   "outputs": [
    {
     "data": {
      "text/plain": [
       "RandomForestClassifier()"
      ]
     },
     "execution_count": 38,
     "metadata": {},
     "output_type": "execute_result"
    }
   ],
   "source": [
    "forest = RandomForestClassifier()\n",
    "forest.fit(X_train, y_train)"
   ]
  },
  {
   "cell_type": "code",
   "execution_count": 39,
   "id": "145c9b77",
   "metadata": {},
   "outputs": [],
   "source": [
    "y_pred_test = forest.predict(X_test)"
   ]
  },
  {
   "cell_type": "code",
   "execution_count": 40,
   "id": "048deb26",
   "metadata": {},
   "outputs": [
    {
     "data": {
      "text/plain": [
       "0.9072"
      ]
     },
     "execution_count": 40,
     "metadata": {},
     "output_type": "execute_result"
    }
   ],
   "source": [
    "accuracy_score(y_test, y_pred_test)"
   ]
  },
  {
   "cell_type": "markdown",
   "id": "ef78b74d",
   "metadata": {},
   "source": [
    "the accuracy score obtained for the given dataset using the random forest method is 90.72%"
   ]
  },
  {
   "cell_type": "markdown",
   "id": "ec1335a7",
   "metadata": {},
   "source": [
    "### conclusion:\n",
    "##### the accuracy scores obtained for various methods are listed below\n",
    "##### logistic regression= 49.38%                \n",
    "###### decission tree=83.52%             \n",
    "##### SVC=36.44%               \n",
    "##### KNN=75.25%        \n",
    "##### logistic regression using feature selection=60.79%     \n",
    "###### random forest=90.72%\n",
    "##### from the above scores we can say that best classification method for the given dataset is random forest method with that we have obtained the accuracy of 90.72%it means we can clasify the virus easily with the random forest method compared to other methods used"
   ]
  },
  {
   "cell_type": "markdown",
   "id": "24025ba2",
   "metadata": {},
   "source": [
    "## ref:\n",
    "1.https://medium.com/analytics-vidhya/evaluating-a-random-forest-model-9d165595ad56\n",
    "2.http://localhost:8888/notebooks/Downloads/Lecture%2008%20k-NN%20and%20SVM%20and%20HW4.ipynb\n",
    "3.http://localhost:8888/notebooks/Downloads/Lecture%2003%20Logistic%20Regression%20and%20HW2%20(pragathi)%20(1)%20(2).ipynb\n",
    "4.http://localhost:8888/notebooks/Downloads/pragathi_decision%20tree_HW%203.ipynb\n",
    "5.http://localhost:8888/notebooks/Downloads/pragathi_vunnam_HW4%20(1).ipynb\n",
    "6.http://localhost:8888/notebooks/Downloads/pragathi_vunnam_HW5.ipynb\n",
    "7.http://localhost:8888/notebooks/Downloads/Lecture%2012%20Feature%20Selection.ipynb"
   ]
  }
 ],
 "metadata": {
  "kernelspec": {
   "display_name": "Python 3 (ipykernel)",
   "language": "python",
   "name": "python3"
  },
  "language_info": {
   "codemirror_mode": {
    "name": "ipython",
    "version": 3
   },
   "file_extension": ".py",
   "mimetype": "text/x-python",
   "name": "python",
   "nbconvert_exporter": "python",
   "pygments_lexer": "ipython3",
   "version": "3.9.7"
  }
 },
 "nbformat": 4,
 "nbformat_minor": 5
}
